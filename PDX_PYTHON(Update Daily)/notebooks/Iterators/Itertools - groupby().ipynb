{
 "cells": [
  {
   "cell_type": "markdown",
   "metadata": {},
   "source": [
    "# Itertools and groupby()\n",
    "\n",
    "https://docs.python.org/3.5/library/itertools.html#itertools.groupby"
   ]
  },
  {
   "cell_type": "code",
   "execution_count": 9,
   "metadata": {
    "collapsed": true
   },
   "outputs": [],
   "source": [
    "from itertools import groupby"
   ]
  },
  {
   "cell_type": "code",
   "execution_count": 24,
   "metadata": {
    "collapsed": true
   },
   "outputs": [],
   "source": [
    "things = [('animal', 'dog'), ('toothpaste', 'arm and hammer'), ('animal', 'llama'), ('toothpaste', 'colgate'), ('vehicle', 'school bus'), ('vehicle', 'subaru')]\n",
    "things = ['aardvark', 'ant', 'ant', 'anvil', 'bacchus', 'baseball', 'blank']\n",
    "#things = [(\"animal\", \"llama\"), (\"animal\", \"dog\"), (\"toothpaste\", \"arm and hammer\"), (\"toothpaste\", \"colgate\"), (\"vehicle\", \"subaru\"), (\"vehicle\", \"school bus\")]\n",
    "things = sorted(things, key = lambda t: t[0])"
   ]
  },
  {
   "cell_type": "code",
   "execution_count": 25,
   "metadata": {
    "collapsed": false,
    "scrolled": true
   },
   "outputs": [
    {
     "data": {
      "text/plain": [
       "['aardvark', 'ant', 'ant', 'anvil', 'bacchus', 'baseball', 'blank']"
      ]
     },
     "execution_count": 25,
     "metadata": {},
     "output_type": "execute_result"
    }
   ],
   "source": [
    "things"
   ]
  },
  {
   "cell_type": "code",
   "execution_count": 26,
   "metadata": {
    "collapsed": false
   },
   "outputs": [
    {
     "data": {
      "text/plain": [
       "<itertools.groupby at 0x7f0f40097b38>"
      ]
     },
     "execution_count": 26,
     "metadata": {},
     "output_type": "execute_result"
    }
   ],
   "source": [
    "groupby(things, lambda x: x[0])"
   ]
  },
  {
   "cell_type": "code",
   "execution_count": 27,
   "metadata": {
    "collapsed": false
   },
   "outputs": [
    {
     "data": {
      "text/plain": [
       "[('a', <itertools._grouper at 0x7f0f4009b898>),\n",
       " ('b', <itertools._grouper at 0x7f0f4009b7b8>)]"
      ]
     },
     "execution_count": 27,
     "metadata": {},
     "output_type": "execute_result"
    }
   ],
   "source": [
    "list(groupby(things, lambda x: x[0]))"
   ]
  },
  {
   "cell_type": "code",
   "execution_count": 28,
   "metadata": {
    "collapsed": false
   },
   "outputs": [],
   "source": [
    "groups = dict()\n",
    "for label, group in groupby(things, key=lambda t: t):\n",
    "    #print(label, list(group))\n",
    "    groups[label] = list(group)\n",
    "    "
   ]
  },
  {
   "cell_type": "code",
   "execution_count": 29,
   "metadata": {
    "collapsed": false
   },
   "outputs": [
    {
     "data": {
      "text/plain": [
       "{'aardvark': ['aardvark'],\n",
       " 'ant': ['ant', 'ant'],\n",
       " 'anvil': ['anvil'],\n",
       " 'bacchus': ['bacchus'],\n",
       " 'baseball': ['baseball'],\n",
       " 'blank': ['blank']}"
      ]
     },
     "execution_count": 29,
     "metadata": {},
     "output_type": "execute_result"
    }
   ],
   "source": [
    "groups"
   ]
  },
  {
   "cell_type": "code",
   "execution_count": null,
   "metadata": {
    "collapsed": true
   },
   "outputs": [],
   "source": []
  }
 ],
 "metadata": {
  "anaconda-cloud": {},
  "kernelspec": {
   "display_name": "Python [conda root]",
   "language": "python",
   "name": "conda-root-py"
  },
  "language_info": {
   "codemirror_mode": {
    "name": "ipython",
    "version": 3
   },
   "file_extension": ".py",
   "mimetype": "text/x-python",
   "name": "python",
   "nbconvert_exporter": "python",
   "pygments_lexer": "ipython3",
   "version": "3.5.2"
  },
  "widgets": {
   "state": {},
   "version": "1.1.2"
  }
 },
 "nbformat": 4,
 "nbformat_minor": 0
}
