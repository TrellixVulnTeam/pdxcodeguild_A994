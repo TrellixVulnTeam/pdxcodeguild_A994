{
 "cells": [
  {
   "cell_type": "code",
   "execution_count": 1,
   "metadata": {
    "collapsed": true
   },
   "outputs": [],
   "source": [
    "numbers = [2, -4, -6, 7,-9, 1, 9, -2, -3, 6]"
   ]
  },
  {
   "cell_type": "code",
   "execution_count": 2,
   "metadata": {
    "collapsed": false
   },
   "outputs": [
    {
     "data": {
      "text/plain": [
       "[-9, -6, -4, -3, -2, 1, 2, 6, 7, 9]"
      ]
     },
     "execution_count": 2,
     "metadata": {},
     "output_type": "execute_result"
    }
   ],
   "source": [
    "sorted(numbers)"
   ]
  },
  {
   "cell_type": "code",
   "execution_count": 4,
   "metadata": {
    "collapsed": false
   },
   "outputs": [
    {
     "data": {
      "text/plain": [
       "[1, 2, -2, -3, -4, -6, 6, 7, -9, 9]"
      ]
     },
     "execution_count": 4,
     "metadata": {},
     "output_type": "execute_result"
    }
   ],
   "source": [
    "sorted(numbers, key=abs)"
   ]
  },
  {
   "cell_type": "code",
   "execution_count": 6,
   "metadata": {
    "collapsed": true
   },
   "outputs": [
    {
     "data": {
      "text/plain": [
       "['In',\n",
       " 'the',\n",
       " 'end,',\n",
       " \"it's\",\n",
       " 'concluded',\n",
       " 'that',\n",
       " 'the',\n",
       " 'airspeed',\n",
       " 'velocity',\n",
       " 'of',\n",
       " 'a',\n",
       " '(European)',\n",
       " 'unladen',\n",
       " 'swallow',\n",
       " 'is',\n",
       " 'about',\n",
       " '24',\n",
       " 'miles',\n",
       " 'per',\n",
       " 'hour',\n",
       " 'or',\n",
       " '11',\n",
       " 'meters',\n",
       " 'per',\n",
       " 'second.',\n",
       " 'But,',\n",
       " 'the',\n",
       " 'real',\n",
       " 'question',\n",
       " 'is',\n",
       " 'not',\n",
       " 'about',\n",
       " 'swallows',\n",
       " 'at',\n",
       " 'all.']"
      ]
     },
     "execution_count": 6,
     "metadata": {},
     "output_type": "execute_result"
    }
   ],
   "source": [
    "quote = \"In the end, it's concluded that the airspeed velocity of a (European) unladen swallow is about 24 miles per hour or 11 meters per second. But, the real question is not about swallows at all.\"\n",
    "quote.split()"
   ]
  },
  {
   "cell_type": "code",
   "execution_count": 9,
   "metadata": {
    "collapsed": true
   },
   "outputs": [
    {
     "data": {
      "text/plain": [
       "['a',\n",
       " 'In',\n",
       " 'of',\n",
       " 'is',\n",
       " '24',\n",
       " 'or',\n",
       " '11',\n",
       " 'is',\n",
       " 'at',\n",
       " 'the',\n",
       " 'the',\n",
       " 'per',\n",
       " 'per',\n",
       " 'the',\n",
       " 'not',\n",
       " 'end,',\n",
       " \"it's\",\n",
       " 'that',\n",
       " 'hour',\n",
       " 'But,',\n",
       " 'real',\n",
       " 'all.',\n",
       " 'about',\n",
       " 'miles',\n",
       " 'about',\n",
       " 'meters',\n",
       " 'unladen',\n",
       " 'swallow',\n",
       " 'second.',\n",
       " 'airspeed',\n",
       " 'velocity',\n",
       " 'question',\n",
       " 'swallows',\n",
       " 'concluded',\n",
       " '(European)']"
      ]
     },
     "execution_count": 9,
     "metadata": {},
     "output_type": "execute_result"
    }
   ],
   "source": [
    "sorted(quote.split(), key=len)"
   ]
  },
  {
   "cell_type": "code",
   "execution_count": 11,
   "metadata": {
    "collapsed": true
   },
   "outputs": [
    {
     "data": {
      "text/plain": [
       "['(European)',\n",
       " 'end,',\n",
       " 'But,',\n",
       " 'second.',\n",
       " 'all.',\n",
       " '11',\n",
       " '24',\n",
       " 'a',\n",
       " 'concluded',\n",
       " 'airspeed',\n",
       " 'the',\n",
       " 'the',\n",
       " 'the',\n",
       " 'of',\n",
       " 'real',\n",
       " 'In',\n",
       " 'unladen',\n",
       " 'question',\n",
       " 'per',\n",
       " 'hour',\n",
       " 'or',\n",
       " 'per',\n",
       " \"it's\",\n",
       " 'is',\n",
       " 'miles',\n",
       " 'meters',\n",
       " 'is',\n",
       " 'swallows',\n",
       " 'that',\n",
       " 'about',\n",
       " 'not',\n",
       " 'about',\n",
       " 'at',\n",
       " 'swallow',\n",
       " 'velocity']"
      ]
     },
     "execution_count": 11,
     "metadata": {},
     "output_type": "execute_result"
    }
   ],
   "source": [
    "def helper(word):\n",
    "    return word[-1]\n",
    "    \n",
    "    \n",
    "sorted(quote.split(), key=helper)"
   ]
  },
  {
   "cell_type": "code",
   "execution_count": 12,
   "metadata": {
    "collapsed": false
   },
   "outputs": [
    {
     "data": {
      "text/plain": [
       "[2, -4, -6, 7, -9, 1, 9, -2, -3, 6]"
      ]
     },
     "execution_count": 12,
     "metadata": {},
     "output_type": "execute_result"
    }
   ],
   "source": [
    "numbers"
   ]
  },
  {
   "cell_type": "code",
   "execution_count": 13,
   "metadata": {
    "collapsed": false
   },
   "outputs": [
    {
     "data": {
      "text/plain": [
       "[4, -8, -12, 14, -18, 2, 18, -4, -6, 12]"
      ]
     },
     "execution_count": 13,
     "metadata": {},
     "output_type": "execute_result"
    }
   ],
   "source": [
    "[x*2 for x in numbers]"
   ]
  },
  {
   "cell_type": "code",
   "execution_count": 14,
   "metadata": {
    "collapsed": false
   },
   "outputs": [
    {
     "data": {
      "text/plain": [
       "<map at 0x7fbaec02f358>"
      ]
     },
     "execution_count": 14,
     "metadata": {},
     "output_type": "execute_result"
    }
   ],
   "source": [
    "def double(i):\n",
    "    return i * 2\n",
    "\n",
    "map(double, numbers)"
   ]
  },
  {
   "cell_type": "code",
   "execution_count": 15,
   "metadata": {
    "collapsed": false
   },
   "outputs": [
    {
     "data": {
      "text/plain": [
       "[4, -8, -12, 14, -18, 2, 18, -4, -6, 12]"
      ]
     },
     "execution_count": 15,
     "metadata": {},
     "output_type": "execute_result"
    }
   ],
   "source": [
    "list(map(double, numbers))"
   ]
  },
  {
   "cell_type": "code",
   "execution_count": 16,
   "metadata": {
    "collapsed": true
   },
   "outputs": [],
   "source": [
    "words = quote.split()"
   ]
  },
  {
   "cell_type": "code",
   "execution_count": 18,
   "metadata": {
    "collapsed": false,
    "scrolled": true
   },
   "outputs": [
    {
     "data": {
      "text/plain": [
       "['IN',\n",
       " 'THE',\n",
       " 'END,',\n",
       " \"IT'S\",\n",
       " 'CONCLUDED',\n",
       " 'THAT',\n",
       " 'THE',\n",
       " 'AIRSPEED',\n",
       " 'VELOCITY',\n",
       " 'OF',\n",
       " 'A',\n",
       " '(EUROPEAN)',\n",
       " 'UNLADEN',\n",
       " 'SWALLOW',\n",
       " 'IS',\n",
       " 'ABOUT',\n",
       " '24',\n",
       " 'MILES',\n",
       " 'PER',\n",
       " 'HOUR',\n",
       " 'OR',\n",
       " '11',\n",
       " 'METERS',\n",
       " 'PER',\n",
       " 'SECOND.',\n",
       " 'BUT,',\n",
       " 'THE',\n",
       " 'REAL',\n",
       " 'QUESTION',\n",
       " 'IS',\n",
       " 'NOT',\n",
       " 'ABOUT',\n",
       " 'SWALLOWS',\n",
       " 'AT',\n",
       " 'ALL.']"
      ]
     },
     "execution_count": 18,
     "metadata": {},
     "output_type": "execute_result"
    }
   ],
   "source": [
    "def upper(word):\n",
    "    return word.upper()\n",
    "\n",
    "list(map(upper, words))"
   ]
  },
  {
   "cell_type": "code",
   "execution_count": 31,
   "metadata": {
    "collapsed": false
   },
   "outputs": [
    {
     "data": {
      "text/plain": [
       "['(european)',\n",
       " 'end,',\n",
       " 'but,',\n",
       " 'second.',\n",
       " 'all.',\n",
       " 'concluded',\n",
       " 'airspeed',\n",
       " 'real',\n",
       " 'unladen',\n",
       " 'question',\n",
       " 'hour',\n",
       " \"it's\",\n",
       " 'miles',\n",
       " 'meters',\n",
       " 'swallows',\n",
       " 'that',\n",
       " 'about',\n",
       " 'about',\n",
       " 'swallow',\n",
       " 'velocity']"
      ]
     },
     "execution_count": 31,
     "metadata": {},
     "output_type": "execute_result"
    }
   ],
   "source": [
    "#Filter words longer than 3, make all words lowercase words, and sort by last letter.\n",
    "def longer_than_three(word):\n",
    "    if len(word) > 3:\n",
    "        return True\n",
    "    else:\n",
    "        return False\n",
    "    \n",
    "def lower_word(word):\n",
    "    return word.lower()\n",
    "\n",
    "def last_letter(word):\n",
    "    return word[-1]\n",
    "\n",
    "#sorted(map(lower_word, filter(longer_than_three, words)), key=last_letter)\n",
    "sorted(map(lambda w: w.lower(), filter(lambda w: True if len(w) > 3 else False, words)), key=lambda w: w[-1])"
   ]
  },
  {
   "cell_type": "code",
   "execution_count": 21,
   "metadata": {
    "collapsed": false,
    "scrolled": true
   },
   "outputs": [
    {
     "data": {
      "text/plain": [
       "['(European)',\n",
       " 'end,',\n",
       " 'But,',\n",
       " 'second.',\n",
       " 'all.',\n",
       " '11',\n",
       " '24',\n",
       " 'a',\n",
       " 'concluded',\n",
       " 'airspeed',\n",
       " 'the',\n",
       " 'the',\n",
       " 'the',\n",
       " 'of',\n",
       " 'real',\n",
       " 'In',\n",
       " 'unladen',\n",
       " 'question',\n",
       " 'per',\n",
       " 'hour',\n",
       " 'or',\n",
       " 'per',\n",
       " \"it's\",\n",
       " 'is',\n",
       " 'miles',\n",
       " 'meters',\n",
       " 'is',\n",
       " 'swallows',\n",
       " 'that',\n",
       " 'about',\n",
       " 'not',\n",
       " 'about',\n",
       " 'at',\n",
       " 'swallow',\n",
       " 'velocity']"
      ]
     },
     "execution_count": 21,
     "metadata": {},
     "output_type": "execute_result"
    }
   ],
   "source": [
    "sorted(words, key=lambda word: word[-1])"
   ]
  },
  {
   "cell_type": "code",
   "execution_count": 23,
   "metadata": {
    "collapsed": true
   },
   "outputs": [
    {
     "data": {
      "text/plain": [
       "['end,',\n",
       " \"it's\",\n",
       " 'concluded',\n",
       " 'that',\n",
       " 'airspeed',\n",
       " 'velocity',\n",
       " '(European)',\n",
       " 'unladen',\n",
       " 'swallow',\n",
       " 'about',\n",
       " 'miles',\n",
       " 'hour',\n",
       " 'meters',\n",
       " 'second.',\n",
       " 'But,',\n",
       " 'real',\n",
       " 'question',\n",
       " 'about',\n",
       " 'swallows',\n",
       " 'all.']"
      ]
     },
     "execution_count": 23,
     "metadata": {},
     "output_type": "execute_result"
    }
   ],
   "source": [
    "list(filter(lambda word: True if len(word) > 3 else False, words))"
   ]
  },
  {
   "cell_type": "code",
   "execution_count": 24,
   "metadata": {
    "collapsed": false
   },
   "outputs": [
    {
     "data": {
      "text/plain": [
       "{'first': 9, 'second': 12, 'third': 15}"
      ]
     },
     "execution_count": 24,
     "metadata": {},
     "output_type": "execute_result"
    }
   ],
   "source": [
    "roles = {'first':9, 'second': 12, 'third': 15}\n",
    "roles"
   ]
  },
  {
   "cell_type": "code",
   "execution_count": 29,
   "metadata": {
    "collapsed": false
   },
   "outputs": [
    {
     "data": {
      "text/plain": [
       "{'second': 12}"
      ]
     },
     "execution_count": 29,
     "metadata": {},
     "output_type": "execute_result"
    }
   ],
   "source": [
    "{k: v for k, v in roles.items() if v > 9 and k != 'third'}"
   ]
  },
  {
   "cell_type": "code",
   "execution_count": 30,
   "metadata": {
    "collapsed": false
   },
   "outputs": [
    {
     "data": {
      "text/plain": [
       "True"
      ]
     },
     "execution_count": 30,
     "metadata": {},
     "output_type": "execute_result"
    }
   ],
   "source": [
    "'second' in {k: v for k, v in roles.items() if v > 9 and k != 'third'}"
   ]
  },
  {
   "cell_type": "code",
   "execution_count": null,
   "metadata": {
    "collapsed": true
   },
   "outputs": [],
   "source": []
  },
  {
   "cell_type": "code",
   "execution_count": null,
   "metadata": {
    "collapsed": true
   },
   "outputs": [],
   "source": []
  },
  {
   "cell_type": "code",
   "execution_count": null,
   "metadata": {
    "collapsed": true
   },
   "outputs": [],
   "source": []
  },
  {
   "cell_type": "code",
   "execution_count": null,
   "metadata": {
    "collapsed": true
   },
   "outputs": [],
   "source": []
  },
  {
   "cell_type": "code",
   "execution_count": null,
   "metadata": {
    "collapsed": true
   },
   "outputs": [],
   "source": [
    "\n",
    "\n"
   ]
  },
  {
   "cell_type": "code",
   "execution_count": null,
   "metadata": {
    "collapsed": true
   },
   "outputs": [],
   "source": []
  }
 ],
 "metadata": {
  "anaconda-cloud": {},
  "kernelspec": {
   "display_name": "Python [conda root]",
   "language": "python",
   "name": "conda-root-py"
  },
  "language_info": {
   "codemirror_mode": {
    "name": "ipython",
    "version": 3
   },
   "file_extension": ".py",
   "mimetype": "text/x-python",
   "name": "python",
   "nbconvert_exporter": "python",
   "pygments_lexer": "ipython3",
   "version": "3.5.2"
  },
  "widgets": {
   "state": {},
   "version": "1.1.2"
  }
 },
 "nbformat": 4,
 "nbformat_minor": 0
}
