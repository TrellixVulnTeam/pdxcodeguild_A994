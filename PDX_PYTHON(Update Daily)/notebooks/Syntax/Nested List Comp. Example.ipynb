{
 "cells": [
  {
   "cell_type": "code",
   "execution_count": 2,
   "metadata": {
    "collapsed": false
   },
   "outputs": [
    {
     "data": {
      "text/plain": [
       "[('f', 0),\n",
       " ('o', 0),\n",
       " ('o', 0),\n",
       " ('b', 0),\n",
       " ('a', 0),\n",
       " ('r', 0),\n",
       " ('b', 1),\n",
       " ('a', 1),\n",
       " ('z', 1),\n",
       " ('t', 1),\n",
       " ('a', 1),\n",
       " ('z', 1),\n",
       " ('k', 2),\n",
       " ('o', 2),\n",
       " ('k', 2),\n",
       " ('o', 2)]"
      ]
     },
     "execution_count": 2,
     "metadata": {},
     "output_type": "execute_result"
    }
   ],
   "source": [
    "words = [ ['foo', 'bar'], ['baz', 'taz'], ['w', 'koko'] ]\n",
    "[ (letter, idx) for idx, lst in enumerate(strings) for word in lst if len(word)>2 for letter in word]"
   ]
  },
  {
   "cell_type": "code",
   "execution_count": null,
   "metadata": {
    "collapsed": true
   },
   "outputs": [],
   "source": []
  }
 ],
 "metadata": {
  "anaconda-cloud": {},
  "kernelspec": {
   "display_name": "Python [conda root]",
   "language": "python",
   "name": "conda-root-py"
  },
  "language_info": {
   "codemirror_mode": {
    "name": "ipython",
    "version": 3
   },
   "file_extension": ".py",
   "mimetype": "text/x-python",
   "name": "python",
   "nbconvert_exporter": "python",
   "pygments_lexer": "ipython3",
   "version": "3.5.2"
  },
  "widgets": {
   "state": {},
   "version": "1.1.2"
  }
 },
 "nbformat": 4,
 "nbformat_minor": 0
}
