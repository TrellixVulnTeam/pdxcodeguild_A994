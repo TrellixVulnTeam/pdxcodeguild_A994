{
 "cells": [
  {
   "cell_type": "markdown",
   "metadata": {},
   "source": [
    "# For Else Loop"
   ]
  },
  {
   "cell_type": "code",
   "execution_count": 1,
   "metadata": {
    "collapsed": false
   },
   "outputs": [
    {
     "data": {
      "text/plain": [
       "['ponderingflight.jpeg',\n",
       " 'fake.log',\n",
       " 'mossytrees.jpeg',\n",
       " 'railsun.jpeg',\n",
       " 'crime_incident_data.csv',\n",
       " 'birdcoffee.jpeg',\n",
       " 'reviews.json',\n",
       " 'openfarm.jpeg',\n",
       " 'bluehillshaze.jpeg']"
      ]
     },
     "execution_count": 1,
     "metadata": {},
     "output_type": "execute_result"
    }
   ],
   "source": [
    "import os\n",
    "os.listdir('../../labs/resources')"
   ]
  },
  {
   "cell_type": "code",
   "execution_count": 5,
   "metadata": {
    "collapsed": false
   },
   "outputs": [
    {
     "name": "stdout",
     "output_type": "stream",
     "text": [
      "No Matches Found.\n"
     ]
    }
   ],
   "source": [
    "# A Searching Pattern\n",
    "\n",
    "import re\n",
    "\n",
    "\n",
    "with open('../../labs/resources/crime_incident_data.csv', 'r', encoding='utf-8') as f:\n",
    "    lines = f.readlines()\n",
    "    #pattern = re.compile('97214')\n",
    "    pattern = re.compile('\\n\\n*\\sd')\n",
    "    \n",
    "    #non_matched_records = 0\n",
    "    for line in lines:\n",
    "        m = pattern.search(line)\n",
    "        if m:\n",
    "            print(\"Found {} after {} lines\".format(m, non_matched_records))\n",
    "            break\n",
    "    else:\n",
    "        print('No Matches Found.')\n",
    "        #non_matched_records += 1\n",
    "        \n",
    "    #print(non_matched_records)\n",
    "    "
   ]
  },
  {
   "cell_type": "markdown",
   "metadata": {},
   "source": [
    "# While Else Loop"
   ]
  },
  {
   "cell_type": "code",
   "execution_count": 1,
   "metadata": {
    "collapsed": false
   },
   "outputs": [
    {
     "name": "stdout",
     "output_type": "stream",
     "text": [
      "1\n",
      "2\n"
     ]
    }
   ],
   "source": [
    "counter = 0\n",
    "while counter < 4:\n",
    "    counter += 1\n",
    "    if counter == 3:\n",
    "        break\n",
    "    print(counter)\n",
    "    continue\n",
    "    \n",
    "else:\n",
    "    print('llamas')"
   ]
  },
  {
   "cell_type": "code",
   "execution_count": 14,
   "metadata": {
    "collapsed": false
   },
   "outputs": [],
   "source": [
    "ga = '/home/k/Git/PythonFullStack/1_Python/labs/projects/ari/books/gettysburg-address.txt'"
   ]
  },
  {
   "cell_type": "code",
   "execution_count": 15,
   "metadata": {
    "collapsed": false
   },
   "outputs": [],
   "source": [
    "def get_data(filename):\n",
    "    \"\"\"File Handler\"\"\"\n",
    "    with open(filename, 'r') as file:\n",
    "        text = file.read()\n",
    "        return text"
   ]
  },
  {
   "cell_type": "code",
   "execution_count": 16,
   "metadata": {
    "collapsed": false
   },
   "outputs": [],
   "source": [
    "book = get_data(ga)"
   ]
  },
  {
   "cell_type": "code",
   "execution_count": 26,
   "metadata": {
    "collapsed": false
   },
   "outputs": [],
   "source": [
    "book = \"\".join([c for c in book if c not in '-_,L'])"
   ]
  },
  {
   "cell_type": "code",
   "execution_count": 27,
   "metadata": {
    "collapsed": false
   },
   "outputs": [
    {
     "data": {
      "text/plain": [
       "'Four score and seven years ago our fathers brought forth on this continent a new nation conceived in iberty and dedicated to the proposition that all men are created equal.\\nNow we are engaged in a great civil war testing whether that nation or any nation so conceived and so dedicated can long endure. We are met on a great battlefield of that war. We have come to dedicate a portion of that field as a final resting place for those who here gave their lives that that nation might live. It is altogether fitting and proper that we should do this.\\nBut in a larger sense we can not dedicate  we can not consecrate  we can not hallow  this ground. The brave men living and dead who struggled here have consecrated it far above our poor power to add or detract. The world will little note nor long remember what we say here but it can never forget what they did here. It is for us the living rather to be dedicated here to the unfinished work which they who fought here have thus far so nobly advanced. It is rather for us to be here dedicated to the great task remaining before us  that from these honored dead we take increased devotion to that cause for which they gave the last full measure of devotion  that we here highly resolve that these dead shall not have died in vain  that this nation under God shall have a new birth of freedom  and that government of the people by the people for the people shall not perish from the earth.\\n'"
      ]
     },
     "execution_count": 27,
     "metadata": {},
     "output_type": "execute_result"
    }
   ],
   "source": [
    "book"
   ]
  },
  {
   "cell_type": "code",
   "execution_count": 28,
   "metadata": {
    "collapsed": false
   },
   "outputs": [
    {
     "data": {
      "text/plain": [
       "'Four score and seven years ago our fathers brought forth on this continent a new nation conceived in iberty and dedicated to the proposition that all men are created equal.Now we are engaged in a great civil war testing whether that nation or any nation so conceived and so dedicated can long endure. We are met on a great battlefield of that war. We have come to dedicate a portion of that field as a final resting place for those who here gave their lives that that nation might live. It is altogether fitting and proper that we should do this.But in a larger sense we can not dedicate  we can not consecrate  we can not hallow  this ground. The brave men living and dead who struggled here have consecrated it far above our poor power to add or detract. The world will little note nor long remember what we say here but it can never forget what they did here. It is for us the living rather to be dedicated here to the unfinished work which they who fought here have thus far so nobly advanced. It is rather for us to be here dedicated to the great task remaining before us  that from these honored dead we take increased devotion to that cause for which they gave the last full measure of devotion  that we here highly resolve that these dead shall not have died in vain  that this nation under God shall have a new birth of freedom  and that government of the people by the people for the people shall not perish from the earth.'"
      ]
     },
     "execution_count": 28,
     "metadata": {},
     "output_type": "execute_result"
    }
   ],
   "source": [
    "book.replace('\\n', '')"
   ]
  },
  {
   "cell_type": "code",
   "execution_count": null,
   "metadata": {
    "collapsed": true
   },
   "outputs": [],
   "source": []
  },
  {
   "cell_type": "code",
   "execution_count": 21,
   "metadata": {
    "collapsed": false
   },
   "outputs": [
    {
     "data": {
      "text/plain": [
       "['Four score and seven years ago our fathers brought forth on this continent a new nation conceived in iberty and dedicated to the proposition that all men are created equal.',\n",
       " 'Now we are engaged in a great civil war testing whether that nation or any nation so conceived and so dedicated can long endure. We are met on a great battlefield of that war. We have come to dedicate a portion of that field as a final resting place for those who here gave their lives that that nation might live. It is altogether fitting and proper that we should do this.',\n",
       " 'But in a larger sense we can not dedicate  we can not consecrate  we can not hallow  this ground. The brave men living and dead who struggled here have consecrated it far above our poor power to add or detract. The world will little note nor long remember what we say here but it can never forget what they did here. It is for us the living rather to be dedicated here to the unfinished work which they who fought here have thus far so nobly advanced. It is rather for us to be here dedicated to the great task remaining before us  that from these honored dead we take increased devotion to that cause for which they gave the last full measure of devotion  that we here highly resolve that these dead shall not have died in vain  that this nation under God shall have a new birth of freedom  and that government of the people by the people for the people shall not perish from the earth.',\n",
       " '']"
      ]
     },
     "execution_count": 21,
     "metadata": {},
     "output_type": "execute_result"
    }
   ],
   "source": [
    "book.split('\\n')"
   ]
  },
  {
   "cell_type": "code",
   "execution_count": null,
   "metadata": {
    "collapsed": true
   },
   "outputs": [],
   "source": []
  },
  {
   "cell_type": "code",
   "execution_count": null,
   "metadata": {
    "collapsed": true
   },
   "outputs": [],
   "source": []
  },
  {
   "cell_type": "code",
   "execution_count": null,
   "metadata": {
    "collapsed": true
   },
   "outputs": [],
   "source": []
  },
  {
   "cell_type": "code",
   "execution_count": 25,
   "metadata": {
    "collapsed": false
   },
   "outputs": [
    {
     "data": {
      "text/plain": [
       "'Four score and seven years ago our fathers brought forth on this continent a new nation conceived in iberty and dedicated to the proposition that all men are created equal.Now we are engaged in a great civil war testing whether that nation or any nation so conceived and so dedicated can long endure. We are met on a great battlefield of that war. We have come to dedicate a portion of that field as a final resting place for those who here gave their lives that that nation might live. It is altogether fitting and proper that we should do this.But in a larger sense we can not dedicate  we can not consecrate  we can not hallow  this ground. The brave men living and dead who struggled here have consecrated it far above our poor power to add or detract. The world will little note nor long remember what we say here but it can never forget what they did here. It is for us the living rather to be dedicated here to the unfinished work which they who fought here have thus far so nobly advanced. It is rather for us to be here dedicated to the great task remaining before us  that from these honored dead we take increased devotion to that cause for which they gave the last full measure of devotion  that we here highly resolve that these dead shall not have died in vain  that this nation under God shall have a new birth of freedom  and that government of the people by the people for the people shall not perish from the earth.'"
      ]
     },
     "execution_count": 25,
     "metadata": {},
     "output_type": "execute_result"
    }
   ],
   "source": [
    "\"\".join([chunk for chunk in book.split('\\n') if chunk != ''])"
   ]
  },
  {
   "cell_type": "code",
   "execution_count": null,
   "metadata": {
    "collapsed": true
   },
   "outputs": [],
   "source": []
  }
 ],
 "metadata": {
  "anaconda-cloud": {},
  "kernelspec": {
   "display_name": "Python [conda root]",
   "language": "python",
   "name": "conda-root-py"
  },
  "language_info": {
   "codemirror_mode": {
    "name": "ipython",
    "version": 3
   },
   "file_extension": ".py",
   "mimetype": "text/x-python",
   "name": "python",
   "nbconvert_exporter": "python",
   "pygments_lexer": "ipython3",
   "version": "3.5.2"
  },
  "widgets": {
   "state": {},
   "version": "1.1.2"
  }
 },
 "nbformat": 4,
 "nbformat_minor": 0
}
