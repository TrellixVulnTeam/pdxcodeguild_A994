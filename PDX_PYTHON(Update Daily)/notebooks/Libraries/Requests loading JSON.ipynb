{
 "cells": [
  {
   "cell_type": "code",
   "execution_count": 1,
   "metadata": {
    "collapsed": true
   },
   "outputs": [],
   "source": [
    "import requests\n",
    "r = requests.get('https://randomuser.me/api/')\n"
   ]
  },
  {
   "cell_type": "code",
   "execution_count": 2,
   "metadata": {
    "collapsed": false
   },
   "outputs": [
    {
     "data": {
      "text/plain": [
       "<Response [200]>"
      ]
     },
     "execution_count": 2,
     "metadata": {},
     "output_type": "execute_result"
    }
   ],
   "source": [
    "r"
   ]
  },
  {
   "cell_type": "code",
   "execution_count": 5,
   "metadata": {
    "collapsed": false
   },
   "outputs": [
    {
     "data": {
      "text/plain": [
       "'{\"results\":[{\"gender\":\"male\",\"name\":{\"title\":\"monsieur\",\"first\":\"malone\",\"last\":\"arnaud\"},\"location\":{\"street\":\"4076 rue pasteur\",\"city\":\"lausanne adm cant vd\",\"state\":\"uri\",\"postcode\":2006},\"email\":\"malone.arnaud@example.com\",\"login\":{\"username\":\"whitemouse817\",\"password\":\"fowler\",\"salt\":\"qqT7pL28\",\"md5\":\"d9d9477b0c81b00e3d6966808c5f36f2\",\"sha1\":\"a6039c6e30b3df3dc9d9daa48480904e1644236a\",\"sha256\":\"52f3507a96857a2a4b72fb5c1626af15638b450e0c81426b948ed25b76461737\"},\"registered\":1390066577,\"dob\":1335243009,\"phone\":\"(580)-756-9407\",\"cell\":\"(427)-164-2148\",\"id\":{\"name\":\"AVS\",\"value\":\"756.ZRPB.ROPX.43\"},\"picture\":{\"large\":\"https://randomuser.me/api/portraits/men/25.jpg\",\"medium\":\"https://randomuser.me/api/portraits/med/men/25.jpg\",\"thumbnail\":\"https://randomuser.me/api/portraits/thumb/men/25.jpg\"},\"nat\":\"CH\"}],\"info\":{\"seed\":\"e24d064997a8921d\",\"results\":1,\"page\":1,\"version\":\"1.0\"}}'"
      ]
     },
     "execution_count": 5,
     "metadata": {},
     "output_type": "execute_result"
    }
   ],
   "source": [
    "r.text"
   ]
  },
  {
   "cell_type": "code",
   "execution_count": 6,
   "metadata": {
    "collapsed": true
   },
   "outputs": [],
   "source": [
    "import json"
   ]
  },
  {
   "cell_type": "code",
   "execution_count": 8,
   "metadata": {
    "collapsed": false,
    "scrolled": true
   },
   "outputs": [
    {
     "data": {
      "text/plain": [
       "{'info': {'page': 1,\n",
       "  'results': 1,\n",
       "  'seed': 'e24d064997a8921d',\n",
       "  'version': '1.0'},\n",
       " 'results': [{'cell': '(427)-164-2148',\n",
       "   'dob': 1335243009,\n",
       "   'email': 'malone.arnaud@example.com',\n",
       "   'gender': 'male',\n",
       "   'id': {'name': 'AVS', 'value': '756.ZRPB.ROPX.43'},\n",
       "   'location': {'city': 'lausanne adm cant vd',\n",
       "    'postcode': 2006,\n",
       "    'state': 'uri',\n",
       "    'street': '4076 rue pasteur'},\n",
       "   'login': {'md5': 'd9d9477b0c81b00e3d6966808c5f36f2',\n",
       "    'password': 'fowler',\n",
       "    'salt': 'qqT7pL28',\n",
       "    'sha1': 'a6039c6e30b3df3dc9d9daa48480904e1644236a',\n",
       "    'sha256': '52f3507a96857a2a4b72fb5c1626af15638b450e0c81426b948ed25b76461737',\n",
       "    'username': 'whitemouse817'},\n",
       "   'name': {'first': 'malone', 'last': 'arnaud', 'title': 'monsieur'},\n",
       "   'nat': 'CH',\n",
       "   'phone': '(580)-756-9407',\n",
       "   'picture': {'large': 'https://randomuser.me/api/portraits/men/25.jpg',\n",
       "    'medium': 'https://randomuser.me/api/portraits/med/men/25.jpg',\n",
       "    'thumbnail': 'https://randomuser.me/api/portraits/thumb/men/25.jpg'},\n",
       "   'registered': 1390066577}]}"
      ]
     },
     "execution_count": 8,
     "metadata": {},
     "output_type": "execute_result"
    }
   ],
   "source": [
    "json.loads(r.text)"
   ]
  },
  {
   "cell_type": "code",
   "execution_count": null,
   "metadata": {
    "collapsed": true
   },
   "outputs": [],
   "source": []
  }
 ],
 "metadata": {
  "anaconda-cloud": {},
  "kernelspec": {
   "display_name": "Python [conda root]",
   "language": "python",
   "name": "conda-root-py"
  },
  "language_info": {
   "codemirror_mode": {
    "name": "ipython",
    "version": 3
   },
   "file_extension": ".py",
   "mimetype": "text/x-python",
   "name": "python",
   "nbconvert_exporter": "python",
   "pygments_lexer": "ipython3",
   "version": "3.5.2"
  },
  "widgets": {
   "state": {},
   "version": "1.1.2"
  }
 },
 "nbformat": 4,
 "nbformat_minor": 0
}
