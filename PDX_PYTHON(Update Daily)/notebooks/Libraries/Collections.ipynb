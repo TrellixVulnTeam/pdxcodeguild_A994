{
 "cells": [
  {
   "cell_type": "markdown",
   "metadata": {},
   "source": [
    "# Python Collections Module\n",
    "\n",
    "\n",
    "1. NamedTuple\n",
    "1. Counter\n",
    "1. OrderedDict\n",
    "1. Deque\n",
    "1. DefaultDict\n"
   ]
  },
  {
   "cell_type": "markdown",
   "metadata": {},
   "source": [
    "# NamedTuple"
   ]
  },
  {
   "cell_type": "code",
   "execution_count": 4,
   "metadata": {
    "collapsed": false
   },
   "outputs": [
    {
     "data": {
      "text/plain": [
       "11"
      ]
     },
     "execution_count": 4,
     "metadata": {},
     "output_type": "execute_result"
    }
   ],
   "source": [
    "from collections import namedtuple\n",
    "\n",
    "Animal = namedtuple('Animal', ['legs', 'sound'])\n",
    "\n",
    "animals = list()\n",
    "legs = 2\n",
    "for x in range(7):\n",
    "    ani = Animal(legs, None)\n",
    "    animals.append(ani)\n",
    "    legs += 3\n",
    "\n",
    "    \n",
    "    \n",
    "# print(llama)\n",
    "# print(llama.legs)\n",
    "# print(llama.sound)\n",
    "\n",
    "animals[3].legs"
   ]
  },
  {
   "cell_type": "markdown",
   "metadata": {},
   "source": [
    "# Counter"
   ]
  },
  {
   "cell_type": "code",
   "execution_count": 15,
   "metadata": {
    "collapsed": true
   },
   "outputs": [],
   "source": [
    "from collections import Counter"
   ]
  },
  {
   "cell_type": "code",
   "execution_count": 17,
   "metadata": {
    "collapsed": false
   },
   "outputs": [
    {
     "data": {
      "text/plain": [
       "[('red', 5), ('yellow', 2), ('blue', 1)]"
      ]
     },
     "execution_count": 17,
     "metadata": {},
     "output_type": "execute_result"
    }
   ],
   "source": [
    "text = \"red blue red yellow red yellow red red\"\n",
    "\n",
    "c = Counter(text.split())\n",
    "\n",
    "c.most_common()"
   ]
  },
  {
   "cell_type": "markdown",
   "metadata": {},
   "source": [
    "# Deque"
   ]
  },
  {
   "cell_type": "code",
   "execution_count": 26,
   "metadata": {
    "collapsed": false
   },
   "outputs": [
    {
     "name": "stdout",
     "output_type": "stream",
     "text": [
      "deque(['Kieran', 'Chris', 'Po'], maxlen=3)\n",
      "deque(['Marina', 'Kieran', 'Chris'], maxlen=3)\n"
     ]
    }
   ],
   "source": [
    "from collections import deque\n",
    "\n",
    "\n",
    "recent_history = deque(['Kieran', 'Chris', 'Po'], 3)\n",
    "print(recent_history)\n",
    "\n",
    "recent_history.appendleft('Marina')\n",
    "print(recent_history)\n"
   ]
  },
  {
   "cell_type": "markdown",
   "metadata": {},
   "source": [
    "# Defaultdict Usage"
   ]
  },
  {
   "cell_type": "code",
   "execution_count": 75,
   "metadata": {
    "collapsed": false
   },
   "outputs": [],
   "source": [
    "from collections import defaultdict\n",
    "\n",
    "\n",
    "shipment_one = [ ('eye liner', 1),\n",
    "                 ('truck', 2),\n",
    "                 ('thermostat', 3),\n",
    "                 ('packing peanuts', 2),\n",
    "                 ('hangar', 9),\n",
    "                 ('eraser', 6),\n",
    "                 ('drill press', 9),\n",
    "                 ('blouse', 0),\n",
    "                 ('lamp shade', 1),\n",
    "                 ('sponge', 3) ]\n",
    "\n",
    "shipment_two = [ ('blouse', 3),\n",
    "                 ('eraser', 6),\n",
    "                 ('leather punch', 9),\n",
    "                 ('truck', 2),\n",
    "                 ('eye liner', 1),\n",
    "                 ('screwdriver', 9),\n",
    "                 ('thermostat', 0),\n",
    "                 ('sponge', 3),\n",
    "                 ('lamp shade', 1),\n",
    "                 ('packing peanuts', 2) ]\n"
   ]
  },
  {
   "cell_type": "code",
   "execution_count": 79,
   "metadata": {
    "collapsed": false
   },
   "outputs": [],
   "source": [
    "INVENTORY = defaultdict(int)  # Initializing the Default Dictionary with a type."
   ]
  },
  {
   "cell_type": "code",
   "execution_count": 80,
   "metadata": {
    "collapsed": false
   },
   "outputs": [],
   "source": [
    "def update_inventory(shipment):\n",
    "    \"\"\"\n",
    "    Operating on the initialized type without explicitly adding a default value.\n",
    "    \"\"\"\n",
    "    for item, count in shipment:\n",
    "            INVENTORY[item] += count \n",
    "            \n",
    "    return INVENTORY"
   ]
  },
  {
   "cell_type": "code",
   "execution_count": 81,
   "metadata": {
    "collapsed": false
   },
   "outputs": [
    {
     "data": {
      "text/plain": [
       "defaultdict(int,\n",
       "            {'blouse': 0,\n",
       "             'drill press': 9,\n",
       "             'eraser': 6,\n",
       "             'eye liner': 1,\n",
       "             'hangar': 9,\n",
       "             'lamp shade': 1,\n",
       "             'packing peanuts': 2,\n",
       "             'sponge': 3,\n",
       "             'thermostat': 3,\n",
       "             'truck': 2})"
      ]
     },
     "execution_count": 81,
     "metadata": {},
     "output_type": "execute_result"
    }
   ],
   "source": [
    "update_inventory(shipment_one)"
   ]
  },
  {
   "cell_type": "code",
   "execution_count": 82,
   "metadata": {
    "collapsed": false
   },
   "outputs": [
    {
     "data": {
      "text/plain": [
       "defaultdict(int,\n",
       "            {'blouse': 3,\n",
       "             'drill press': 9,\n",
       "             'eraser': 12,\n",
       "             'eye liner': 2,\n",
       "             'hangar': 9,\n",
       "             'lamp shade': 2,\n",
       "             'leather punch': 9,\n",
       "             'packing peanuts': 4,\n",
       "             'screwdriver': 9,\n",
       "             'sponge': 6,\n",
       "             'thermostat': 3,\n",
       "             'truck': 4})"
      ]
     },
     "execution_count": 82,
     "metadata": {},
     "output_type": "execute_result"
    }
   ],
   "source": [
    "update_inventory(shipment_two)"
   ]
  },
  {
   "cell_type": "markdown",
   "metadata": {},
   "source": [
    "## This time let's initialize with the list type."
   ]
  },
  {
   "cell_type": "code",
   "execution_count": 70,
   "metadata": {
    "collapsed": false
   },
   "outputs": [],
   "source": [
    "edgarpo = \"\"\"I paid especial attention to a large writing-table near which he sat,\n",
    "and upon which lay confusedly, some miscellaneous letters and other\n",
    "papers, with one or two musical instruments and a few books. Here,\n",
    "however, after a long and very deliberate scrutiny, I saw nothing to\n",
    "excite particular suspicion.\"\"\""
   ]
  },
  {
   "cell_type": "code",
   "execution_count": 74,
   "metadata": {
    "collapsed": false
   },
   "outputs": [
    {
     "data": {
      "text/plain": [
       "defaultdict(list,\n",
       "            {'Here,': ['Here,'],\n",
       "             'I': ['I', 'I'],\n",
       "             'a': ['a', 'a', 'a'],\n",
       "             'after': ['after'],\n",
       "             'and': ['and', 'and', 'and', 'and'],\n",
       "             'attention': ['attention'],\n",
       "             'books.': ['books.'],\n",
       "             'confusedly,': ['confusedly,'],\n",
       "             'deliberate': ['deliberate'],\n",
       "             'especial': ['especial'],\n",
       "             'excite': ['excite'],\n",
       "             'few': ['few'],\n",
       "             'he': ['he'],\n",
       "             'however,': ['however,'],\n",
       "             'instruments': ['instruments'],\n",
       "             'large': ['large'],\n",
       "             'lay': ['lay'],\n",
       "             'letters': ['letters'],\n",
       "             'long': ['long'],\n",
       "             'miscellaneous': ['miscellaneous'],\n",
       "             'musical': ['musical'],\n",
       "             'near': ['near'],\n",
       "             'nothing': ['nothing'],\n",
       "             'one': ['one'],\n",
       "             'or': ['or'],\n",
       "             'other': ['other'],\n",
       "             'paid': ['paid'],\n",
       "             'papers,': ['papers,'],\n",
       "             'particular': ['particular'],\n",
       "             'sat,': ['sat,'],\n",
       "             'saw': ['saw'],\n",
       "             'scrutiny,': ['scrutiny,'],\n",
       "             'some': ['some'],\n",
       "             'suspicion.': ['suspicion.'],\n",
       "             'to': ['to', 'to'],\n",
       "             'two': ['two'],\n",
       "             'upon': ['upon'],\n",
       "             'very': ['very'],\n",
       "             'which': ['which', 'which'],\n",
       "             'with': ['with'],\n",
       "             'writing-table': ['writing-table']})"
      ]
     },
     "execution_count": 74,
     "metadata": {},
     "output_type": "execute_result"
    }
   ],
   "source": [
    "word_count = defaultdict(list)\n",
    "\n",
    "for word in edgarpo.split():\n",
    "    word_count[word].append(word)\n",
    "    \n",
    "word_count"
   ]
  }
 ],
 "metadata": {
  "anaconda-cloud": {},
  "kernelspec": {
   "display_name": "Python [conda root]",
   "language": "python",
   "name": "conda-root-py"
  },
  "language_info": {
   "codemirror_mode": {
    "name": "ipython",
    "version": 3
   },
   "file_extension": ".py",
   "mimetype": "text/x-python",
   "name": "python",
   "nbconvert_exporter": "python",
   "pygments_lexer": "ipython3",
   "version": "3.5.2"
  },
  "widgets": {
   "state": {},
   "version": "1.1.2"
  }
 },
 "nbformat": 4,
 "nbformat_minor": 0
}
