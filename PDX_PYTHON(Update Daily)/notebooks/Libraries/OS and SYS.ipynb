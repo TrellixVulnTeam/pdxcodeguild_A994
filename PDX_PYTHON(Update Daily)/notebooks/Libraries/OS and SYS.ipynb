{
 "cells": [
  {
   "cell_type": "code",
   "execution_count": 1,
   "metadata": {
    "collapsed": false
   },
   "outputs": [
    {
     "data": {
      "text/plain": [
       "['ATM Account Class.ipynb',\n",
       " 'Basic File Reading.ipynb',\n",
       " 'Random Module Basics.ipynb',\n",
       " 'Intro to Classes, Inheritance, and Methods.ipynb',\n",
       " 'ROT13 Cipher.ipynb',\n",
       " 'Re, Os, JSON.ipynb',\n",
       " 'Abstract Base Classes.ipynb',\n",
       " 'sorted.ipynb',\n",
       " 'Return of the List Operations.ipynb',\n",
       " 'BS4, Urllib, Requests.ipynb',\n",
       " 'Dictionary.ipynb',\n",
       " 'Yield! A Frozen Function.ipynb',\n",
       " 'Quantify Words - itertools.groupby().ipynb',\n",
       " 'Classes subclassing, Methods, __init__, and super().ipynb',\n",
       " 'Syntactic Sugar - Functional Decorators.ipynb',\n",
       " 'List Operations.ipynb',\n",
       " 'Datetime.ipynb',\n",
       " 'String Operations.ipynb',\n",
       " 'Kwargs.ipynb',\n",
       " 'OS and SYS.ipynb',\n",
       " 'Topics and Review.ipynb',\n",
       " '@property setter.ipynb',\n",
       " 'Bidirectional args and kwargs packing for function calls.ipynb',\n",
       " 'Yield - Generator Function.ipynb',\n",
       " 'List_comps.ipynb',\n",
       " 'Nested List Comp. Example.ipynb',\n",
       " 'The Matrix.ipynb',\n",
       " 'List Comprehensions Are Awesome.ipynb',\n",
       " 'Collections - defaultdict, setdefault.ipynb',\n",
       " 'For - Else.ipynb',\n",
       " 'Sequence Membership.ipynb',\n",
       " 'Sequences.ipynb',\n",
       " 'Itertools - groupby().ipynb',\n",
       " 'testllama.log',\n",
       " 'PIL.ipynb',\n",
       " 'Dictionary2.ipynb',\n",
       " 'account.log',\n",
       " 'Untitled5.ipynb',\n",
       " 'Geopy.ipynb',\n",
       " 'Helper Functions.ipynb',\n",
       " 'JSON.ipynb',\n",
       " 'Magic Methods.ipynb',\n",
       " 'Dictionary 101.ipynb',\n",
       " 'Mutable Default Arguments.ipynb',\n",
       " 'Higher Order Functions and Lambda.ipynb',\n",
       " '.ipynb_checkpoints',\n",
       " 'Exhausting an Iterator.ipynb']"
      ]
     },
     "execution_count": 1,
     "metadata": {},
     "output_type": "execute_result"
    }
   ],
   "source": [
    "import os\n",
    "\n",
    "os.listdir()"
   ]
  },
  {
   "cell_type": "code",
   "execution_count": null,
   "metadata": {
    "collapsed": false
   },
   "outputs": [],
   "source": [
    "os.listdir('../../')"
   ]
  },
  {
   "cell_type": "code",
   "execution_count": null,
   "metadata": {
    "collapsed": false
   },
   "outputs": [],
   "source": [
    "os.listdir('../../labs/resources/')"
   ]
  },
  {
   "cell_type": "code",
   "execution_count": 1,
   "metadata": {
    "collapsed": false
   },
   "outputs": [
    {
     "name": "stdout",
     "output_type": "stream",
     "text": [
      "<_io.TextIOWrapper name='../../labs/resources/fake.log' mode='r' encoding='UTF-8'>\n"
     ]
    }
   ],
   "source": [
    "with open('../../labs/resources/fake.log') as log:\n",
    "    print(log)"
   ]
  },
  {
   "cell_type": "code",
   "execution_count": 7,
   "metadata": {
    "collapsed": false
   },
   "outputs": [],
   "source": [
    "def process_file(path_name):\n",
    "    with open(path_name) as log:\n",
    "        text_list = log.read()\n",
    "        return text_list"
   ]
  },
  {
   "cell_type": "code",
   "execution_count": 8,
   "metadata": {
    "collapsed": false
   },
   "outputs": [
    {
     "ename": "FileNotFoundError",
     "evalue": "[Errno 2] No such file or directory: '/home/k/Git/PythonFullStack/Python/notebooks/fake.log'",
     "output_type": "error",
     "traceback": [
      "\u001b[0;31m---------------------------------------------------------------------------\u001b[0m",
      "\u001b[0;31mFileNotFoundError\u001b[0m                         Traceback (most recent call last)",
      "\u001b[0;32m<ipython-input-8-6a416470d4ae>\u001b[0m in \u001b[0;36m<module>\u001b[0;34m()\u001b[0m\n\u001b[0;32m----> 1\u001b[0;31m \u001b[0mlog\u001b[0m \u001b[0;34m=\u001b[0m \u001b[0mprocess_file\u001b[0m\u001b[0;34m(\u001b[0m\u001b[0;34m)\u001b[0m\u001b[0;34m\u001b[0m\u001b[0m\n\u001b[0m",
      "\u001b[0;32m<ipython-input-7-9529a405ff4e>\u001b[0m in \u001b[0;36mprocess_file\u001b[0;34m()\u001b[0m\n\u001b[1;32m      1\u001b[0m \u001b[0;32mdef\u001b[0m \u001b[0mprocess_file\u001b[0m\u001b[0;34m(\u001b[0m\u001b[0;34m)\u001b[0m\u001b[0;34m:\u001b[0m\u001b[0;34m\u001b[0m\u001b[0m\n\u001b[0;32m----> 2\u001b[0;31m     \u001b[0;32mwith\u001b[0m \u001b[0mopen\u001b[0m\u001b[0;34m(\u001b[0m\u001b[0;34m'/home/k/Git/PythonFullStack/Python/notebooks/fake.log'\u001b[0m\u001b[0;34m)\u001b[0m \u001b[0;32mas\u001b[0m \u001b[0mlog\u001b[0m\u001b[0;34m:\u001b[0m\u001b[0;34m\u001b[0m\u001b[0m\n\u001b[0m\u001b[1;32m      3\u001b[0m         \u001b[0mtext_list\u001b[0m \u001b[0;34m=\u001b[0m \u001b[0mlog\u001b[0m\u001b[0;34m.\u001b[0m\u001b[0mread\u001b[0m\u001b[0;34m(\u001b[0m\u001b[0;34m)\u001b[0m\u001b[0;34m\u001b[0m\u001b[0m\n\u001b[1;32m      4\u001b[0m         \u001b[0;32mreturn\u001b[0m \u001b[0mtext_list\u001b[0m\u001b[0;34m\u001b[0m\u001b[0m\n",
      "\u001b[0;31mFileNotFoundError\u001b[0m: [Errno 2] No such file or directory: '/home/k/Git/PythonFullStack/Python/notebooks/fake.log'"
     ]
    }
   ],
   "source": [
    "log = process_file()"
   ]
  },
  {
   "cell_type": "code",
   "execution_count": 9,
   "metadata": {
    "collapsed": false,
    "scrolled": true
   },
   "outputs": [
    {
     "ename": "NameError",
     "evalue": "name 'log' is not defined",
     "output_type": "error",
     "traceback": [
      "\u001b[0;31m---------------------------------------------------------------------------\u001b[0m",
      "\u001b[0;31mNameError\u001b[0m                                 Traceback (most recent call last)",
      "\u001b[0;32m<ipython-input-9-9a115ebc25a0>\u001b[0m in \u001b[0;36m<module>\u001b[0;34m()\u001b[0m\n\u001b[0;32m----> 1\u001b[0;31m \u001b[0mlog\u001b[0m\u001b[0;34m\u001b[0m\u001b[0m\n\u001b[0m",
      "\u001b[0;31mNameError\u001b[0m: name 'log' is not defined"
     ]
    }
   ],
   "source": [
    "log"
   ]
  },
  {
   "cell_type": "code",
   "execution_count": 3,
   "metadata": {
    "collapsed": false,
    "scrolled": true
   },
   "outputs": [],
   "source": [
    "import re\n"
   ]
  },
  {
   "cell_type": "code",
   "execution_count": 4,
   "metadata": {
    "collapsed": false
   },
   "outputs": [
    {
     "ename": "NameError",
     "evalue": "name 'log' is not defined",
     "output_type": "error",
     "traceback": [
      "\u001b[0;31m---------------------------------------------------------------------------\u001b[0m",
      "\u001b[0;31mNameError\u001b[0m                                 Traceback (most recent call last)",
      "\u001b[0;32m<ipython-input-4-ce30e469f404>\u001b[0m in \u001b[0;36m<module>\u001b[0;34m()\u001b[0m\n\u001b[0;32m----> 1\u001b[0;31m \u001b[0mmatches\u001b[0m \u001b[0;34m=\u001b[0m \u001b[0mre\u001b[0m\u001b[0;34m.\u001b[0m\u001b[0mfindall\u001b[0m\u001b[0;34m(\u001b[0m\u001b[0;34m'.*Lid\\s\\w+'\u001b[0m\u001b[0;34m,\u001b[0m \u001b[0mlog\u001b[0m\u001b[0;34m)\u001b[0m\u001b[0;34m\u001b[0m\u001b[0m\n\u001b[0m",
      "\u001b[0;31mNameError\u001b[0m: name 'log' is not defined"
     ]
    }
   ],
   "source": [
    "matches = re.findall('.*Lid\\s\\w+', log)"
   ]
  },
  {
   "cell_type": "code",
   "execution_count": 7,
   "metadata": {
    "collapsed": false
   },
   "outputs": [
    {
     "data": {
      "text/plain": [
       "32"
      ]
     },
     "execution_count": 7,
     "metadata": {},
     "output_type": "execute_result"
    }
   ],
   "source": [
    "len(matches)"
   ]
  },
  {
   "cell_type": "code",
   "execution_count": null,
   "metadata": {
    "collapsed": false
   },
   "outputs": [],
   "source": [
    "matches"
   ]
  },
  {
   "cell_type": "code",
   "execution_count": null,
   "metadata": {
    "collapsed": true
   },
   "outputs": [],
   "source": [
    "for index, entry in enumerate(matches):\n",
    "    if 'opened' in entry or 'closed' in entry:\n",
    "        date = re.search('\\w..\\s\\d+\\s\\d.:\\d+:\\d+', entry)\n",
    "        print(date)"
   ]
  },
  {
   "cell_type": "code",
   "execution_count": null,
   "metadata": {
    "collapsed": true
   },
   "outputs": [],
   "source": [
    "for index, entry in enumerate(matches):\n",
    "    if 'opened' in entry or 'closed' in entry:\n",
    "        pattern = re.compile('\\w..\\s\\d+\\s\\d.:\\d+:\\d+')\n",
    "        date = pattern.search(entry)\n",
    "        print(date)\n",
    "        \n",
    "        \n"
   ]
  },
  {
   "cell_type": "code",
   "execution_count": null,
   "metadata": {
    "collapsed": false
   },
   "outputs": [],
   "source": [
    "sessions = list()\n",
    "\n",
    "for index, entry in enumerate(matches):\n",
    "    if 'opened' in entry or 'closed' in entry:\n",
    "        pattern = re.compile('\\w..\\s\\d+\\s\\d.:\\d+:\\d+')\n",
    "        date = pattern.search(entry)\n",
    "        sessions.append(date.group())\n",
    "        #print(date.group())\n",
    "        sessions"
   ]
  },
  {
   "cell_type": "code",
   "execution_count": null,
   "metadata": {
    "collapsed": false
   },
   "outputs": [],
   "source": [
    "sessions"
   ]
  },
  {
   "cell_type": "code",
   "execution_count": null,
   "metadata": {
    "collapsed": false
   },
   "outputs": [],
   "source": [
    "list(zip(sessions[0::2], sessions[1::2]))"
   ]
  },
  {
   "cell_type": "code",
   "execution_count": null,
   "metadata": {
    "collapsed": true
   },
   "outputs": [],
   "source": [
    "packed_sessions = zip(sessions[0::2], sessions[1::2])"
   ]
  },
  {
   "cell_type": "code",
   "execution_count": null,
   "metadata": {
    "collapsed": false
   },
   "outputs": [],
   "source": [
    "packed_sessions"
   ]
  },
  {
   "cell_type": "code",
   "execution_count": null,
   "metadata": {
    "collapsed": true
   },
   "outputs": [],
   "source": [
    "from datetime import datetime\n",
    "\n",
    "for start, stop in packed_sessions:\n",
    "    datetime.strptime(start, '%b %d %Y %I:%M%p')\n",
    "    datetime.strptime(stop, '%b %d %Y %I:%M%p')"
   ]
  },
  {
   "cell_type": "code",
   "execution_count": null,
   "metadata": {
    "collapsed": false
   },
   "outputs": [],
   "source": [
    "datetime.strptime('Jul 19 17:53:40', '%b %d %H:%M:%S')"
   ]
  },
  {
   "cell_type": "code",
   "execution_count": null,
   "metadata": {
    "collapsed": false,
    "scrolled": true
   },
   "outputs": [],
   "source": [
    "from datetime import datetime\n",
    "\n",
    "for start, stop in packed_sessions:\n",
    "    st = datetime.strptime(start, '%b %d %H:%M:%S')\n",
    "    sp = datetime.strptime(stop, '%b %d %H:%M:%S')\n",
    "    print(\"Session Duration: {}\".format(sp-st))\n"
   ]
  },
  {
   "cell_type": "code",
   "execution_count": 9,
   "metadata": {
    "collapsed": true
   },
   "outputs": [],
   "source": [
    "import sys\n",
    "\n"
   ]
  },
  {
   "cell_type": "code",
   "execution_count": 10,
   "metadata": {
    "collapsed": false
   },
   "outputs": [
    {
     "data": {
      "text/plain": [
       "'linux'"
      ]
     },
     "execution_count": 10,
     "metadata": {},
     "output_type": "execute_result"
    }
   ],
   "source": [
    "sys.platform"
   ]
  },
  {
   "cell_type": "code",
   "execution_count": null,
   "metadata": {
    "collapsed": false
   },
   "outputs": [],
   "source": [
    "sys.copyright"
   ]
  },
  {
   "cell_type": "code",
   "execution_count": null,
   "metadata": {
    "collapsed": false
   },
   "outputs": [],
   "source": [
    "sys.argv"
   ]
  }
 ],
 "metadata": {
  "anaconda-cloud": {},
  "kernelspec": {
   "display_name": "Python [conda root]",
   "language": "python",
   "name": "conda-root-py"
  },
  "language_info": {
   "codemirror_mode": {
    "name": "ipython",
    "version": 3
   },
   "file_extension": ".py",
   "mimetype": "text/x-python",
   "name": "python",
   "nbconvert_exporter": "python",
   "pygments_lexer": "ipython3",
   "version": "3.5.2"
  },
  "widgets": {
   "state": {},
   "version": "1.1.2"
  }
 },
 "nbformat": 4,
 "nbformat_minor": 0
}
