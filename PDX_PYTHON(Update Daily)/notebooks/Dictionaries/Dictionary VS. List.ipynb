{
 "cells": [
  {
   "cell_type": "markdown",
   "metadata": {},
   "source": [
    "# Common Dictionary Operations Guide"
   ]
  },
  {
   "cell_type": "code",
   "execution_count": null,
   "metadata": {
    "collapsed": true
   },
   "outputs": [],
   "source": [
    "player = {} # Empty Dictionary"
   ]
  },
  {
   "cell_type": "code",
   "execution_count": null,
   "metadata": {
    "collapsed": false
   },
   "outputs": [],
   "source": [
    "type(player) # Type Checking  (Don't actually do this in your code unless you are testing.)"
   ]
  },
  {
   "cell_type": "markdown",
   "metadata": {},
   "source": [
    "# From here down we will compare a dictionary to a list"
   ]
  },
  {
   "cell_type": "code",
   "execution_count": null,
   "metadata": {
    "collapsed": false
   },
   "outputs": [],
   "source": [
    "\"\"\"Fist the list.  Let's make a backpack.\"\"\""
   ]
  },
  {
   "cell_type": "code",
   "execution_count": null,
   "metadata": {
    "collapsed": true
   },
   "outputs": [],
   "source": [
    "backpack = list() # An Empty List"
   ]
  },
  {
   "cell_type": "code",
   "execution_count": null,
   "metadata": {
    "collapsed": true
   },
   "outputs": [],
   "source": [
    "backpack.append('key') # Appending a list"
   ]
  },
  {
   "cell_type": "code",
   "execution_count": null,
   "metadata": {
    "collapsed": true
   },
   "outputs": [],
   "source": [
    "backpack.insert(1, 'knife') # Insert into a list"
   ]
  },
  {
   "cell_type": "code",
   "execution_count": null,
   "metadata": {
    "collapsed": true
   },
   "outputs": [],
   "source": [
    "backpack.extend(['water bottle', 'light of illendrial']) # Extending a list"
   ]
  },
  {
   "cell_type": "code",
   "execution_count": null,
   "metadata": {
    "collapsed": false
   },
   "outputs": [],
   "source": [
    "backpack"
   ]
  },
  {
   "cell_type": "code",
   "execution_count": null,
   "metadata": {
    "collapsed": false
   },
   "outputs": [],
   "source": [
    "\"\"\"Now for the dictionary.  Let's make a player.\"\"\""
   ]
  },
  {
   "cell_type": "code",
   "execution_count": null,
   "metadata": {
    "collapsed": true
   },
   "outputs": [],
   "source": [
    "player = dict() # An Empty Dictionary"
   ]
  },
  {
   "cell_type": "code",
   "execution_count": null,
   "metadata": {
    "collapsed": false
   },
   "outputs": [],
   "source": [
    "player"
   ]
  },
  {
   "cell_type": "code",
   "execution_count": null,
   "metadata": {
    "collapsed": true
   },
   "outputs": [],
   "source": [
    "player['name'] = 'Jhonny McJhonnyson' # Updating or Adding a Dictionary Key:Value Pair."
   ]
  },
  {
   "cell_type": "code",
   "execution_count": null,
   "metadata": {
    "collapsed": false
   },
   "outputs": [],
   "source": [
    "print(player)"
   ]
  },
  {
   "cell_type": "code",
   "execution_count": null,
   "metadata": {
    "collapsed": false
   },
   "outputs": [],
   "source": [
    "player['name']  # This is called a 'lookup' ie: Looking it up in the dictionary!"
   ]
  },
  {
   "cell_type": "code",
   "execution_count": null,
   "metadata": {
    "collapsed": false
   },
   "outputs": [],
   "source": [
    "\"\"\"Let's make another player.\"\"\"\n",
    "better_player = {'name': 'Cpt. Llamaman', 'age': 789}"
   ]
  },
  {
   "cell_type": "code",
   "execution_count": null,
   "metadata": {
    "collapsed": false
   },
   "outputs": [],
   "source": [
    "\"\"\"Using python's decrement operator, we can change the dictionary value in place.\"\"\"\n",
    "better_player['age'] -= 100"
   ]
  },
  {
   "cell_type": "code",
   "execution_count": null,
   "metadata": {
    "collapsed": false
   },
   "outputs": [],
   "source": [
    "print(better_player)"
   ]
  },
  {
   "cell_type": "code",
   "execution_count": null,
   "metadata": {
    "collapsed": false
   },
   "outputs": [],
   "source": [
    "del better_player['age'] # Removing a Dictionary Key:Value"
   ]
  },
  {
   "cell_type": "code",
   "execution_count": null,
   "metadata": {
    "collapsed": false
   },
   "outputs": [],
   "source": [
    "print(better_player)"
   ]
  },
  {
   "cell_type": "code",
   "execution_count": null,
   "metadata": {
    "collapsed": false
   },
   "outputs": [],
   "source": [
    "print(backpack)  # The List."
   ]
  },
  {
   "cell_type": "code",
   "execution_count": null,
   "metadata": {
    "collapsed": false
   },
   "outputs": [],
   "source": [
    "backpack[3] # Subscripting a List"
   ]
  },
  {
   "cell_type": "code",
   "execution_count": null,
   "metadata": {
    "collapsed": false
   },
   "outputs": [],
   "source": [
    "backpack[2] = 'spoon' # Reassigning a list item by index."
   ]
  },
  {
   "cell_type": "code",
   "execution_count": null,
   "metadata": {
    "collapsed": false
   },
   "outputs": [],
   "source": [
    "backpack"
   ]
  },
  {
   "cell_type": "code",
   "execution_count": null,
   "metadata": {
    "collapsed": true
   },
   "outputs": [],
   "source": [
    "del backpack[0] # removing an element from a list by index"
   ]
  },
  {
   "cell_type": "code",
   "execution_count": null,
   "metadata": {
    "collapsed": false
   },
   "outputs": [],
   "source": [
    "backpack"
   ]
  },
  {
   "cell_type": "code",
   "execution_count": null,
   "metadata": {
    "collapsed": false
   },
   "outputs": [],
   "source": [
    "# Adds traits to the character \n",
    "better_player['age'] = 999\n",
    "better_player['strength'] = 5\n",
    "better_player['luck'] = 2\n",
    "better_player['skill'] = 3\n",
    "better_player['sarcasm'] = 4"
   ]
  },
  {
   "cell_type": "code",
   "execution_count": null,
   "metadata": {
    "collapsed": false
   },
   "outputs": [],
   "source": [
    "better_player"
   ]
  },
  {
   "cell_type": "code",
   "execution_count": null,
   "metadata": {
    "collapsed": false
   },
   "outputs": [],
   "source": [
    "for thing in better_player: # Iterates over Keys Only\n",
    "    print(better_player[thing])"
   ]
  },
  {
   "cell_type": "code",
   "execution_count": null,
   "metadata": {
    "collapsed": false
   },
   "outputs": [],
   "source": [
    "better_player.keys() # Returns a list of dictionary keys"
   ]
  },
  {
   "cell_type": "code",
   "execution_count": null,
   "metadata": {
    "collapsed": false
   },
   "outputs": [],
   "source": [
    "better_player.values() # Returns a list of dictionary values"
   ]
  },
  {
   "cell_type": "code",
   "execution_count": null,
   "metadata": {
    "collapsed": false
   },
   "outputs": [],
   "source": [
    "another_player = better_player.copy() # Make an Exact Copy"
   ]
  },
  {
   "cell_type": "code",
   "execution_count": null,
   "metadata": {
    "collapsed": false
   },
   "outputs": [],
   "source": [
    "another_player"
   ]
  },
  {
   "cell_type": "code",
   "execution_count": null,
   "metadata": {
    "collapsed": true
   },
   "outputs": [],
   "source": [
    "another_player.clear() # Remove everything from the dictionary"
   ]
  },
  {
   "cell_type": "code",
   "execution_count": null,
   "metadata": {
    "collapsed": false
   },
   "outputs": [],
   "source": [
    "another_player"
   ]
  },
  {
   "cell_type": "code",
   "execution_count": null,
   "metadata": {
    "collapsed": false
   },
   "outputs": [],
   "source": [
    "len(better_player) # Dictionaries are iterable, and sequential, therefore they have length!"
   ]
  },
  {
   "cell_type": "code",
   "execution_count": null,
   "metadata": {
    "collapsed": false
   },
   "outputs": [],
   "source": [
    "'age' in better_player # Membership testing for dictionary keys"
   ]
  },
  {
   "cell_type": "code",
   "execution_count": null,
   "metadata": {
    "collapsed": false
   },
   "outputs": [],
   "source": [
    "better_player.items() # Returns a list of tuples (key, value)"
   ]
  },
  {
   "cell_type": "code",
   "execution_count": null,
   "metadata": {
    "collapsed": true
   },
   "outputs": [],
   "source": [
    "a, b = 1, 2 # Inline assignment of tuples"
   ]
  },
  {
   "cell_type": "code",
   "execution_count": null,
   "metadata": {
    "collapsed": true
   },
   "outputs": [],
   "source": [
    "x = (5, 6) # assigning a tuple to x"
   ]
  },
  {
   "cell_type": "code",
   "execution_count": null,
   "metadata": {
    "collapsed": true
   },
   "outputs": [],
   "source": [
    "a, b = x # unpacking the tuple to a, b"
   ]
  },
  {
   "cell_type": "code",
   "execution_count": null,
   "metadata": {
    "collapsed": false
   },
   "outputs": [],
   "source": [
    "# Iterating over a list of tuples generated by dict.items()\n",
    "for first, second in zip('hi', 'ih'):\n",
    "    print(first, second)"
   ]
  },
  {
   "cell_type": "code",
   "execution_count": null,
   "metadata": {
    "collapsed": false
   },
   "outputs": [],
   "source": [
    "better_player"
   ]
  },
  {
   "cell_type": "code",
   "execution_count": null,
   "metadata": {
    "collapsed": false
   },
   "outputs": [],
   "source": [
    "for key, value in better_player.items():\n",
    "    print(key, value)"
   ]
  },
  {
   "cell_type": "code",
   "execution_count": null,
   "metadata": {
    "collapsed": false
   },
   "outputs": [],
   "source": [
    "better_player"
   ]
  },
  {
   "cell_type": "code",
   "execution_count": null,
   "metadata": {
    "collapsed": true
   },
   "outputs": [],
   "source": [
    "del better_player['name']"
   ]
  },
  {
   "cell_type": "code",
   "execution_count": null,
   "metadata": {
    "collapsed": false
   },
   "outputs": [],
   "source": [
    "better_player"
   ]
  },
  {
   "cell_type": "markdown",
   "metadata": {},
   "source": [
    "## The Dictionary .get() Method."
   ]
  },
  {
   "cell_type": "code",
   "execution_count": null,
   "metadata": {
    "collapsed": false
   },
   "outputs": [],
   "source": [
    "\"\"\"This will KeyError because there is no such key in the dictionary.\"\"\"\n",
    "better_player['dexterity']"
   ]
  },
  {
   "cell_type": "code",
   "execution_count": null,
   "metadata": {
    "collapsed": false
   },
   "outputs": [],
   "source": [
    "\"\"\"\n",
    "However, this will not raise an error.\n",
    "Instead it returns a default value.\n",
    "In this case I did not specify any default, so the default is set to None.\n",
    "\"\"\"\n",
    "better_player.get('intel')  # synonymous with: better_player.get('intel', None)"
   ]
  },
  {
   "cell_type": "code",
   "execution_count": null,
   "metadata": {
    "collapsed": false
   },
   "outputs": [],
   "source": [
    "\"\"\" Setting the default value to return if the 'intel' key does not exist.\"\"\"\n",
    "intel = better_player.get('intel', 777)"
   ]
  },
  {
   "cell_type": "code",
   "execution_count": null,
   "metadata": {
    "collapsed": false
   },
   "outputs": [],
   "source": [
    "print(intel)  # The captured returned defult value of .get()"
   ]
  },
  {
   "cell_type": "code",
   "execution_count": null,
   "metadata": {
    "collapsed": true
   },
   "outputs": [],
   "source": []
  },
  {
   "cell_type": "code",
   "execution_count": null,
   "metadata": {
    "collapsed": true
   },
   "outputs": [],
   "source": []
  },
  {
   "cell_type": "code",
   "execution_count": 1,
   "metadata": {
    "collapsed": true
   },
   "outputs": [],
   "source": [
    "book = \"\"\"\n",
    "\n",
    "Sing, O goddess, the anger of Achilles son of Peleus, that brought\n",
    "countless ills upon the Achaeans. Many a brave soul did it send\n",
    "hurrying down to Hades, and many a hero did it yield a prey to dogs and\n",
    "vultures, for so were the counsels of Jove fulfilled from the day on\n",
    "which the son of Atreus, king of men, and great Achilles, first fell\n",
    "out with one another.\n",
    "\n",
    "And which of the gods was it that set them on to quarrel? It was the\n",
    "son of Jove and Leto; for he was angry with the king and sent a\n",
    "pestilence upon the host to plague the people, because the son of\n",
    "Atreus had dishonoured Chryses his priest. Now Chryses had come to the\n",
    "ships of the Achaeans to free his daughter, and had brought with him a\n",
    "great ransom: moreover he bore in his hand the sceptre of Apollo\n",
    "wreathed with a suppliant's wreath, and he besought the Achaeans, but\n",
    "most of all the two sons of Atreus, who were their chiefs.\n",
    "\n",
    "\"Sons of Atreus,\" he cried, \"and all other Achaeans, may the gods who\n",
    "dwell in Olympus grant you to sack the city of Priam, and to reach your\n",
    "homes in safety; but free my daughter, and accept a ransom for her, in\n",
    "reverence to Apollo, son of Jove.\"\n",
    "\n",
    "On this the rest of the Achaeans with one voice were for respecting the\n",
    "priest and taking the ransom that he offered; but not so Agamemnon, who\n",
    "spoke fiercely to him and sent him roughly away. \"Old man,\" said he,\n",
    "\"let me not find you tarrying about our ships, nor yet coming\n",
    "hereafter. Your sceptre of the god and your wreath shall profit you\n",
    "nothing. I will not free her. She shall grow old in my house at Argos\n",
    "far from her own home, busying herself with her loom and visiting my\n",
    "couch; so go, and do not provoke me or it shall be the worse for you.\"\n",
    "\n",
    "The old man feared him and obeyed. Not a word he spoke, but went by the\n",
    "shore of the sounding sea and prayed apart to King Apollo whom lovely\n",
    "Leto had borne. \"Hear me,\" he cried, \"O god of the silver bow, that\n",
    "protectest Chryse and holy Cilla and rulest Tenedos with thy might,\n",
    "hear me oh thou of Sminthe. If I have ever decked your temple with\n",
    "garlands, or burned your thigh-bones in fat of bulls or goats, grant my\n",
    "prayer, and let your arrows avenge these my tears upon the Danaans.\"\n",
    "\n",
    "Thus did he pray, and Apollo heard his prayer. He came down furious\n",
    "from the summits of Olympus, with his bow and his quiver upon his\n",
    "shoulder, and the arrows rattled on his back with the rage that\n",
    "trembled within him. He sat himself down away from the ships with a\n",
    "face as dark as night, and his silver bow rang death as he shot his\n",
    "arrow in the midst of them. First he smote their mules and their\n",
    "hounds, but presently he aimed his shafts at the people themselves, and\n",
    "all day long the pyres of the dead were burning.\n",
    "\n",
    "\"\"\""
   ]
  },
  {
   "cell_type": "code",
   "execution_count": 2,
   "metadata": {
    "collapsed": false
   },
   "outputs": [
    {
     "data": {
      "text/plain": [
       "2713"
      ]
     },
     "execution_count": 2,
     "metadata": {},
     "output_type": "execute_result"
    }
   ],
   "source": [
    "len(book)"
   ]
  },
  {
   "cell_type": "code",
   "execution_count": 28,
   "metadata": {
    "collapsed": true
   },
   "outputs": [],
   "source": [
    "from itertools import groupby\n",
    "\n",
    "text = [word.replace(\",\", '') for word in book.split() if word != '']\n",
    "\n",
    "groups = groupby(sorted(text), key=lambda word: word)\n",
    "\n",
    "gram = {k: len(list(v)) for k, v in groups}"
   ]
  },
  {
   "cell_type": "code",
   "execution_count": 29,
   "metadata": {
    "collapsed": false
   },
   "outputs": [
    {
     "data": {
      "text/plain": [
       "[('the', 36),\n",
       " ('and', 25),\n",
       " ('of', 24),\n",
       " ('he', 12),\n",
       " ('his', 11),\n",
       " ('to', 11),\n",
       " ('with', 11),\n",
       " ('a', 9),\n",
       " ('in', 7),\n",
       " ('for', 5)]"
      ]
     },
     "execution_count": 29,
     "metadata": {},
     "output_type": "execute_result"
    }
   ],
   "source": [
    "sorted(gram.items(), key=lambda t: t[1], reverse=True)[0:10]"
   ]
  },
  {
   "cell_type": "code",
   "execution_count": null,
   "metadata": {
    "collapsed": true
   },
   "outputs": [],
   "source": []
  },
  {
   "cell_type": "code",
   "execution_count": 3,
   "metadata": {
    "collapsed": true
   },
   "outputs": [],
   "source": [
    "words = book.split(\" \")"
   ]
  },
  {
   "cell_type": "code",
   "execution_count": 4,
   "metadata": {
    "collapsed": false
   },
   "outputs": [
    {
     "data": {
      "text/plain": [
       "484"
      ]
     },
     "execution_count": 4,
     "metadata": {},
     "output_type": "execute_result"
    }
   ],
   "source": [
    "len(words)"
   ]
  },
  {
   "cell_type": "code",
   "execution_count": 8,
   "metadata": {
    "collapsed": true
   },
   "outputs": [],
   "source": [
    "from collections import Counter"
   ]
  },
  {
   "cell_type": "code",
   "execution_count": 10,
   "metadata": {
    "collapsed": false
   },
   "outputs": [
    {
     "name": "stdout",
     "output_type": "stream",
     "text": [
      "10000 loops, best of 3: 43.1 µs per loop\n"
     ]
    }
   ],
   "source": [
    "%%timeit\n",
    "\n",
    "c = Counter(words)"
   ]
  },
  {
   "cell_type": "code",
   "execution_count": 7,
   "metadata": {
    "collapsed": false
   },
   "outputs": [
    {
     "data": {
      "text/plain": [
       "[('the', 32),\n",
       " ('and', 23),\n",
       " ('of', 23),\n",
       " ('to', 11),\n",
       " ('he', 11),\n",
       " ('with', 10),\n",
       " ('his', 9),\n",
       " ('a', 6),\n",
       " ('in', 6),\n",
       " ('for', 5),\n",
       " ('but', 4),\n",
       " ('son', 4),\n",
       " ('had', 4),\n",
       " ('your', 4),\n",
       " ('were', 4),\n",
       " ('it', 4),\n",
       " ('him', 4),\n",
       " ('upon', 4),\n",
       " ('not', 4),\n",
       " ('me', 3),\n",
       " ('my', 3),\n",
       " ('was', 3),\n",
       " ('from', 3),\n",
       " ('free', 3),\n",
       " ('shall', 3),\n",
       " ('as', 3),\n",
       " ('did', 3),\n",
       " ('down', 3),\n",
       " ('so', 3),\n",
       " ('that', 3),\n",
       " ('or', 3),\n",
       " ('all', 2),\n",
       " ('silver', 2),\n",
       " ('god', 2),\n",
       " ('her', 2),\n",
       " ('sent', 2),\n",
       " ('gods', 2),\n",
       " ('Atreus,', 2),\n",
       " ('day', 2),\n",
       " ('Apollo', 2),\n",
       " ('cried,', 2),\n",
       " ('at', 2),\n",
       " ('Achaeans', 2),\n",
       " ('Chryses', 2),\n",
       " ('ransom', 2),\n",
       " ('one', 2),\n",
       " ('king', 2),\n",
       " ('Jove', 2),\n",
       " ('you', 2),\n",
       " ('on', 2),\n",
       " ('He', 2),\n",
       " ('daughter,', 2),\n",
       " ('arrows', 2),\n",
       " ('I', 2),\n",
       " ('grant', 2),\n",
       " ('Achaeans,', 2),\n",
       " ('old', 2),\n",
       " ('their', 2),\n",
       " ('sceptre', 2),\n",
       " ('bow', 2),\n",
       " ('ills', 1),\n",
       " ('Atreus,\"', 1),\n",
       " ('send\\nhurrying', 1),\n",
       " ('thou', 1),\n",
       " ('of\\nAtreus', 1),\n",
       " ('\"Old', 1),\n",
       " ('Achaeans.', 1),\n",
       " ('heard', 1),\n",
       " ('Olympus,', 1),\n",
       " ('Olympus', 1),\n",
       " ('rang', 1),\n",
       " ('chiefs.\\n\\n\"Sons', 1),\n",
       " ('Achilles,', 1),\n",
       " ('which', 1),\n",
       " ('great', 1),\n",
       " ('roughly', 1),\n",
       " ('himself', 1),\n",
       " ('smote', 1),\n",
       " ('obeyed.', 1),\n",
       " ('quiver', 1),\n",
       " ('these', 1),\n",
       " ('Peleus,', 1),\n",
       " ('Hades,', 1),\n",
       " ('people,', 1),\n",
       " ('Many', 1),\n",
       " ('mules', 1),\n",
       " ('nor', 1),\n",
       " ('two', 1),\n",
       " ('rulest', 1),\n",
       " ('sounding', 1),\n",
       " ('another.\\n\\nAnd', 1),\n",
       " ('about', 1),\n",
       " ('the\\npriest', 1),\n",
       " ('presently', 1),\n",
       " ('Your', 1),\n",
       " ('borne.', 1),\n",
       " ('hero', 1),\n",
       " ('bore', 1),\n",
       " ('by', 1),\n",
       " ('Not', 1),\n",
       " ('burning.\\n\\n', 1),\n",
       " ('may', 1),\n",
       " ('host', 1),\n",
       " ('moreover', 1),\n",
       " ('fat', 1),\n",
       " ('rattled', 1),\n",
       " ('his\\narrow', 1),\n",
       " ('have', 1),\n",
       " ('Argos\\nfar', 1),\n",
       " ('offered;', 1),\n",
       " ('bow,', 1),\n",
       " ('Cilla', 1),\n",
       " ('\"and', 1),\n",
       " ('summits', 1),\n",
       " ('ships', 1),\n",
       " ('her.', 1),\n",
       " ('goats,', 1),\n",
       " ('dogs', 1),\n",
       " ('shot', 1),\n",
       " ('soul', 1),\n",
       " ('Now', 1),\n",
       " ('prayer.', 1),\n",
       " ('sat', 1),\n",
       " ('come', 1),\n",
       " ('in\\nreverence', 1),\n",
       " ('said', 1),\n",
       " ('many', 1),\n",
       " ('who\\ndwell', 1),\n",
       " ('away', 1),\n",
       " ('ships,', 1),\n",
       " ('First', 1),\n",
       " ('and\\nall', 1),\n",
       " ('profit', 1),\n",
       " ('furious\\nfrom', 1),\n",
       " ('dark', 1),\n",
       " ('might,\\nhear', 1),\n",
       " ('decked', 1),\n",
       " ('will', 1),\n",
       " ('a\\nface', 1),\n",
       " ('goddess,', 1),\n",
       " ('provoke', 1),\n",
       " ('be', 1),\n",
       " ('pray,', 1),\n",
       " ('She', 1),\n",
       " ('you.\"\\n\\nThe', 1),\n",
       " ('the\\nson', 1),\n",
       " ('tears', 1),\n",
       " ('Agamemnon,', 1),\n",
       " ('that\\ntrembled', 1),\n",
       " ('this', 1),\n",
       " ('back', 1),\n",
       " ('wreath,', 1),\n",
       " ('\\n\\nSing,', 1),\n",
       " ('taking', 1),\n",
       " ('Apollo,', 1),\n",
       " ('long', 1),\n",
       " ('who', 1),\n",
       " ('yield', 1),\n",
       " ('King', 1),\n",
       " ('fulfilled', 1),\n",
       " ('Sminthe.', 1),\n",
       " ('coming\\nhereafter.', 1),\n",
       " ('them.', 1),\n",
       " (\"suppliant's\", 1),\n",
       " ('worse', 1),\n",
       " ('your\\nhomes', 1),\n",
       " ('avenge', 1),\n",
       " ('ever', 1),\n",
       " ('apart', 1),\n",
       " ('he,\\n\"let', 1),\n",
       " ('spoke,', 1),\n",
       " ('came', 1),\n",
       " ('prayed', 1),\n",
       " ('sea', 1),\n",
       " ('visiting', 1),\n",
       " ('go,', 1),\n",
       " ('anger', 1),\n",
       " ('\"Hear', 1),\n",
       " ('lovely\\nLeto', 1),\n",
       " ('If', 1),\n",
       " ('O', 1),\n",
       " ('on\\nwhich', 1),\n",
       " ('their\\nhounds,', 1),\n",
       " ('a\\ngreat', 1),\n",
       " ('thigh-bones', 1),\n",
       " ('thy', 1),\n",
       " ('respecting', 1),\n",
       " ('them', 1),\n",
       " ('her,', 1),\n",
       " ('whom', 1),\n",
       " ('wreath', 1),\n",
       " ('a\\npestilence', 1),\n",
       " ('midst', 1),\n",
       " ('sons', 1),\n",
       " ('brought', 1),\n",
       " ('the\\nshore', 1),\n",
       " ('Jove.\"\\n\\nOn', 1),\n",
       " ('feared', 1),\n",
       " ('set', 1),\n",
       " ('counsels', 1),\n",
       " ('brave', 1),\n",
       " ('night,', 1),\n",
       " ('burned', 1),\n",
       " ('loom', 1),\n",
       " ('because', 1),\n",
       " ('that\\nprotectest', 1),\n",
       " ('ransom:', 1),\n",
       " ('went', 1),\n",
       " ('man', 1),\n",
       " ('plague', 1),\n",
       " ('and\\nvultures,', 1),\n",
       " ('who\\nspoke', 1),\n",
       " ('but\\nmost', 1),\n",
       " ('word', 1),\n",
       " ('rage', 1),\n",
       " ('Danaans.\"\\n\\nThus', 1),\n",
       " ('fiercely', 1),\n",
       " ('me,\"', 1),\n",
       " ('It', 1),\n",
       " ('own', 1),\n",
       " ('prey', 1),\n",
       " ('dead', 1),\n",
       " ('away.', 1),\n",
       " ('man,\"', 1),\n",
       " ('shafts', 1),\n",
       " ('house', 1),\n",
       " ('Priam,', 1),\n",
       " ('\"O', 1),\n",
       " ('sack', 1),\n",
       " ('tarrying', 1),\n",
       " ('holy', 1),\n",
       " ('you\\nnothing.', 1),\n",
       " ('let', 1),\n",
       " ('busying', 1),\n",
       " ('besought', 1),\n",
       " ('the\\nships', 1),\n",
       " ('do', 1),\n",
       " ('other', 1),\n",
       " ('herself', 1),\n",
       " ('Achilles', 1),\n",
       " ('people', 1),\n",
       " ('find', 1),\n",
       " ('first', 1),\n",
       " ('city', 1),\n",
       " ('aimed', 1),\n",
       " ('Leto;', 1),\n",
       " ('dishonoured', 1),\n",
       " ('reach', 1),\n",
       " ('my\\nprayer,', 1),\n",
       " ('fell\\nout', 1),\n",
       " ('Apollo\\nwreathed', 1),\n",
       " ('my\\ncouch;', 1),\n",
       " ('men,', 1),\n",
       " ('death', 1),\n",
       " ('temple', 1),\n",
       " ('quarrel?', 1),\n",
       " ('brought\\ncountless', 1),\n",
       " ('safety;', 1),\n",
       " ('his\\nshoulder,', 1),\n",
       " ('Chryse', 1),\n",
       " ('themselves,', 1),\n",
       " ('oh', 1),\n",
       " ('home,', 1),\n",
       " ('priest.', 1),\n",
       " ('rest', 1),\n",
       " ('within', 1),\n",
       " ('Tenedos', 1),\n",
       " ('voice', 1),\n",
       " ('bulls', 1),\n",
       " ('with\\ngarlands,', 1),\n",
       " ('yet', 1),\n",
       " ('grow', 1),\n",
       " ('hand', 1),\n",
       " ('our', 1),\n",
       " ('accept', 1),\n",
       " ('him.', 1),\n",
       " ('pyres', 1),\n",
       " ('angry', 1)]"
      ]
     },
     "execution_count": 7,
     "metadata": {},
     "output_type": "execute_result"
    }
   ],
   "source": [
    "c.most_common()"
   ]
  },
  {
   "cell_type": "code",
   "execution_count": null,
   "metadata": {
    "collapsed": true
   },
   "outputs": [],
   "source": []
  },
  {
   "cell_type": "code",
   "execution_count": null,
   "metadata": {
    "collapsed": true
   },
   "outputs": [],
   "source": []
  },
  {
   "cell_type": "code",
   "execution_count": null,
   "metadata": {
    "collapsed": true
   },
   "outputs": [],
   "source": []
  }
 ],
 "metadata": {
  "anaconda-cloud": {},
  "kernelspec": {
   "display_name": "Python [default]",
   "language": "python",
   "name": "python3"
  },
  "language_info": {
   "codemirror_mode": {
    "name": "ipython",
    "version": 3
   },
   "file_extension": ".py",
   "mimetype": "text/x-python",
   "name": "python",
   "nbconvert_exporter": "python",
   "pygments_lexer": "ipython3",
   "version": "3.5.2"
  },
  "widgets": {
   "state": {},
   "version": "1.1.2"
  }
 },
 "nbformat": 4,
 "nbformat_minor": 0
}
