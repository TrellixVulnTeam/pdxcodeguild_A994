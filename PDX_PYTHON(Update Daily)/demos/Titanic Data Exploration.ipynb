{
 "cells": [
  {
   "cell_type": "code",
   "execution_count": 287,
   "metadata": {
    "collapsed": false,
    "scrolled": false
   },
   "outputs": [],
   "source": [
    "%matpotlib inline\n",
    "import pandas\n",
    "from collections import Counter\n",
    "from matplotlib import pyplot as plt\n",
    "\n",
    "\n",
    "df = pandas.read_csv('/home/k/Desktop/titanic3.csv')\n",
    "# df"
   ]
  },
  {
   "cell_type": "code",
   "execution_count": 288,
   "metadata": {
    "collapsed": false
   },
   "outputs": [],
   "source": [
    "ages = list(df['age'])\n",
    "sex = list(df['sex'])\n"
   ]
  },
  {
   "cell_type": "code",
   "execution_count": 289,
   "metadata": {
    "collapsed": false
   },
   "outputs": [
    {
     "data": {
      "image/png": "[encoded data removed]",
      "text/plain": [
       "<matplotlib.figure.Figure at 0x7f10242b9550>"
      ]
     },
     "metadata": {},
     "output_type": "display_data"
    }
   ],
   "source": [
    "ac = Counter(ages)\n",
    "sc = Counter(sex)\n",
    "\n",
    "common = sc.most_common()\n",
    "sexes, scores = list(zip(*common))\n",
    "\n",
    "fig1, ax1 = plt.subplots()\n",
    "ax1.pie(scores, labels=sexes, autopct='%1.1f%%', startangle=90)\n",
    "ax1.axis('equal')  # Equal aspect ratio ensures that pie is drawn as a circle.\n",
    "\n",
    "plt.show()\n",
    "# df"
   ]
  },
  {
   "cell_type": "code",
   "execution_count": 290,
   "metadata": {
    "collapsed": false
   },
   "outputs": [],
   "source": [
    "import re\n",
    "\n",
    "\n",
    "def sexer(sex):\n",
    "    if 'f' in sex:\n",
    "        return 1\n",
    "    elif 'm' in sex:\n",
    "        return 0\n",
    "    \n",
    "    \n",
    "def deck_extractor(cabin):\n",
    "    \n",
    "    decks = {l.upper(): n for n, l in enumerate('abcdefgt')}\n",
    "    deck = re.sub('[^A-Z]', '', cabin)[0]\n",
    "    \n",
    "    return decks[deck]"
   ]
  },
  {
   "cell_type": "code",
   "execution_count": 291,
   "metadata": {
    "collapsed": true
   },
   "outputs": [
    {
     "data": {
      "text/plain": [
       "0       1\n",
       "1       2\n",
       "2       2\n",
       "3       2\n",
       "4       2\n",
       "5       4\n",
       "6       3\n",
       "7       0\n",
       "8       2\n",
       "10      2\n",
       "11      2\n",
       "12      1\n",
       "14      0\n",
       "16      1\n",
       "17      1\n",
       "18      3\n",
       "19      2\n",
       "20      3\n",
       "21      3\n",
       "22      2\n",
       "24      2\n",
       "26      1\n",
       "27      1\n",
       "28      2\n",
       "29      2\n",
       "30      7\n",
       "31      0\n",
       "32      2\n",
       "33      2\n",
       "34      3\n",
       "       ..\n",
       "342     5\n",
       "343     3\n",
       "349     5\n",
       "380     5\n",
       "465     3\n",
       "484     5\n",
       "485     3\n",
       "490     4\n",
       "514     5\n",
       "515     5\n",
       "516     5\n",
       "517     5\n",
       "520     3\n",
       "521     5\n",
       "568     5\n",
       "573     4\n",
       "584     4\n",
       "605     5\n",
       "873     5\n",
       "941     5\n",
       "1024    5\n",
       "1025    4\n",
       "1026    4\n",
       "1131    4\n",
       "1187    6\n",
       "1188    6\n",
       "1189    6\n",
       "1217    5\n",
       "1230    6\n",
       "1231    6\n",
       "Name: deck, dtype: int64"
      ]
     },
     "execution_count": 291,
     "metadata": {},
     "output_type": "execute_result"
    }
   ],
   "source": [
    "\n",
    "df['sex'] = df['sex'].apply(sexer)\n",
    "\n",
    "\n",
    "df = df.drop(df.columns[[2, 7, 10, 11, 12, 13]], axis=1)\n",
    "df = df.dropna()\n",
    "\n",
    "df['deck'] = df['cabin'].apply(deck_extractor)\n",
    "\n",
    "target = list(df['survived'])\n",
    "df = df.drop('survived', 1)\n",
    "df = df.drop('cabin', 1)\n"
   ]
  },
  {
   "cell_type": "code",
   "execution_count": 296,
   "metadata": {
    "collapsed": false
   },
   "outputs": [
    {
     "data": {
      "text/plain": [
       "[(0, 19), (1, 63), (2, 86), (3, 42), (4, 38), (5, 18), (6, 5), (7, 1)]"
      ]
     },
     "execution_count": 296,
     "metadata": {},
     "output_type": "execute_result"
    }
   ],
   "source": [
    "t_deck = Counter(sorted(df['deck']))\n",
    "list(sorted(t_deck.most_common()))"
   ]
  },
  {
   "cell_type": "code",
   "execution_count": 298,
   "metadata": {
    "collapsed": false
   },
   "outputs": [
    {
     "name": "stdout",
     "output_type": "stream",
     "text": [
      "[ 0.01849842  0.32036217  0.25017941  0.03499104  0.03410087  0.2414819\n",
      "  0.1003862 ]\n"
     ]
    }
   ],
   "source": [
    "from sklearn import datasets\n",
    "from sklearn import metrics\n",
    "from sklearn.ensemble import ExtraTreesClassifier\n",
    "\n",
    "\n",
    "\n",
    "# fit an Extra Trees model to the data\n",
    "model = ExtraTreesClassifier()\n",
    "\n",
    "model.fit(df, target)\n",
    "# display the relative importance of each attribute\n",
    "print(model.feature_importances_)\n",
    "\n"
   ]
  },
  {
   "cell_type": "code",
   "execution_count": 299,
   "metadata": {
    "collapsed": false
   },
   "outputs": [
    {
     "data": {
      "text/html": [
       "<div>\n",
       "<table border=\"1\" class=\"dataframe\">\n",
       "  <thead>\n",
       "    <tr style=\"text-align: right;\">\n",
       "      <th></th>\n",
       "      <th>pclass</th>\n",
       "      <th>sex</th>\n",
       "      <th>age</th>\n",
       "      <th>sibsp</th>\n",
       "      <th>parch</th>\n",
       "      <th>fare</th>\n",
       "      <th>deck</th>\n",
       "    </tr>\n",
       "  </thead>\n",
       "  <tbody>\n",
       "    <tr>\n",
       "      <th>count</th>\n",
       "      <td>272.000000</td>\n",
       "      <td>272.000000</td>\n",
       "      <td>272.000000</td>\n",
       "      <td>272.000000</td>\n",
       "      <td>272.000000</td>\n",
       "      <td>272.000000</td>\n",
       "      <td>272.000000</td>\n",
       "    </tr>\n",
       "    <tr>\n",
       "      <th>mean</th>\n",
       "      <td>1.172794</td>\n",
       "      <td>0.492647</td>\n",
       "      <td>36.922488</td>\n",
       "      <td>0.503676</td>\n",
       "      <td>0.474265</td>\n",
       "      <td>84.905853</td>\n",
       "      <td>2.352941</td>\n",
       "    </tr>\n",
       "    <tr>\n",
       "      <th>std</th>\n",
       "      <td>0.489290</td>\n",
       "      <td>0.500867</td>\n",
       "      <td>15.587495</td>\n",
       "      <td>0.642861</td>\n",
       "      <td>0.786932</td>\n",
       "      <td>80.401431</td>\n",
       "      <td>1.445336</td>\n",
       "    </tr>\n",
       "    <tr>\n",
       "      <th>min</th>\n",
       "      <td>1.000000</td>\n",
       "      <td>0.000000</td>\n",
       "      <td>0.916700</td>\n",
       "      <td>0.000000</td>\n",
       "      <td>0.000000</td>\n",
       "      <td>0.000000</td>\n",
       "      <td>0.000000</td>\n",
       "    </tr>\n",
       "    <tr>\n",
       "      <th>25%</th>\n",
       "      <td>1.000000</td>\n",
       "      <td>0.000000</td>\n",
       "      <td>25.000000</td>\n",
       "      <td>0.000000</td>\n",
       "      <td>0.000000</td>\n",
       "      <td>30.000000</td>\n",
       "      <td>1.000000</td>\n",
       "    </tr>\n",
       "    <tr>\n",
       "      <th>50%</th>\n",
       "      <td>1.000000</td>\n",
       "      <td>0.000000</td>\n",
       "      <td>36.000000</td>\n",
       "      <td>0.000000</td>\n",
       "      <td>0.000000</td>\n",
       "      <td>61.175000</td>\n",
       "      <td>2.000000</td>\n",
       "    </tr>\n",
       "    <tr>\n",
       "      <th>75%</th>\n",
       "      <td>1.000000</td>\n",
       "      <td>1.000000</td>\n",
       "      <td>48.000000</td>\n",
       "      <td>1.000000</td>\n",
       "      <td>1.000000</td>\n",
       "      <td>96.731250</td>\n",
       "      <td>3.000000</td>\n",
       "    </tr>\n",
       "    <tr>\n",
       "      <th>max</th>\n",
       "      <td>3.000000</td>\n",
       "      <td>1.000000</td>\n",
       "      <td>80.000000</td>\n",
       "      <td>3.000000</td>\n",
       "      <td>4.000000</td>\n",
       "      <td>512.329200</td>\n",
       "      <td>7.000000</td>\n",
       "    </tr>\n",
       "  </tbody>\n",
       "</table>\n",
       "</div>"
      ],
      "text/plain": [
       "           pclass         sex         age       sibsp       parch        fare  \\\n",
       "count  272.000000  272.000000  272.000000  272.000000  272.000000  272.000000   \n",
       "mean     1.172794    0.492647   36.922488    0.503676    0.474265   84.905853   \n",
       "std      0.489290    0.500867   15.587495    0.642861    0.786932   80.401431   \n",
       "min      1.000000    0.000000    0.916700    0.000000    0.000000    0.000000   \n",
       "25%      1.000000    0.000000   25.000000    0.000000    0.000000   30.000000   \n",
       "50%      1.000000    0.000000   36.000000    0.000000    0.000000   61.175000   \n",
       "75%      1.000000    1.000000   48.000000    1.000000    1.000000   96.731250   \n",
       "max      3.000000    1.000000   80.000000    3.000000    4.000000  512.329200   \n",
       "\n",
       "             deck  \n",
       "count  272.000000  \n",
       "mean     2.352941  \n",
       "std      1.445336  \n",
       "min      0.000000  \n",
       "25%      1.000000  \n",
       "50%      2.000000  \n",
       "75%      3.000000  \n",
       "max      7.000000  "
      ]
     },
     "execution_count": 299,
     "metadata": {},
     "output_type": "execute_result"
    }
   ],
   "source": [
    "df.describe()"
   ]
  },
  {
   "cell_type": "code",
   "execution_count": null,
   "metadata": {
    "collapsed": false
   },
   "outputs": [],
   "source": [
    " "
   ]
  },
  {
   "cell_type": "code",
   "execution_count": null,
   "metadata": {
    "collapsed": false
   },
   "outputs": [],
   "source": []
  },
  {
   "cell_type": "code",
   "execution_count": 153,
   "metadata": {
    "collapsed": false
   },
   "outputs": [
    {
     "data": {
      "text/plain": [
       "nan"
      ]
     },
     "execution_count": 153,
     "metadata": {},
     "output_type": "execute_result"
    }
   ],
   "source": [
    "nan"
   ]
  },
  {
   "cell_type": "code",
   "execution_count": null,
   "metadata": {
    "collapsed": true
   },
   "outputs": [],
   "source": []
  }
 ],
 "metadata": {
  "anaconda-cloud": {},
  "kernelspec": {
   "display_name": "Python [conda root]",
   "language": "python",
   "name": "conda-root-py"
  },
  "language_info": {
   "codemirror_mode": {
    "name": "ipython",
    "version": 3
   },
   "file_extension": ".py",
   "mimetype": "text/x-python",
   "name": "python",
   "nbconvert_exporter": "python",
   "pygments_lexer": "ipython3",
   "version": "3.5.2"
  },
  "widgets": {
   "state": {},
   "version": "1.1.2"
  }
 },
 "nbformat": 4,
 "nbformat_minor": 0
}
