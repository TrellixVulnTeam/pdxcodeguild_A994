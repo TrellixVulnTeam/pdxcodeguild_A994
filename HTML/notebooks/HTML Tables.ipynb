{
 "cells": [
  {
   "cell_type": "markdown",
   "metadata": {
    "collapsed": true
   },
   "source": [
    "# Tables\n",
    "\n",
    "Remember how I said that the web was invented to help scientists share information? A big part of what scientists share is their research results and a big part of that is giant, boring tables of data.\n",
    "\n",
    "Consequently, HTML has tags that can be used to describe giant, boring tables of data.\n",
    "\n",
    "Somewhere along the line, before CSS was really a thing, people decided to use tables to give web pages fancy layouts. Thankfully, those days are behind us and tables are, again, relegated to displaying tabular data.\n",
    "\n",
    "Tables are basically like spreadsheets. They consist of rows and columns and cells. You can designate cells as headers. You can also merge cells across rows or columns (but not both at once!).\n",
    "\n",
    "## Table Syntax\n",
    "\n",
    "It all starts, unsurprisingly, with the `<table></table>` tag.\n",
    "\n",
    "The `<table></table>` tag is not a direct container for content. There are a few tags that are legal to put inside the `<table></table>` tag, but we’re going to keep it simple and focus first on the tag for a row: `<tr></tr>`.\n",
    "\n",
    "The `<tr></tr>` is also not a direct container for content. That job is left to table cells. Table cells are, in fact, the only tags that are allowed to be the direct descendents of the `<tr></tr>` tag.\n",
    "\n",
    "There are two types of table cells, headers cells and non-header cells. Header cells are designated using the `<th></th>` tag. Non-header cells are designated using the `<td></td>` tag.\n",
    "\n",
    "------\n",
    "\n",
    "We can add more rows and more cells, but we need to keep the grid consistent. That is, if one row has X number of cells, all rows should have that same number of cells.\n",
    "\n",
    "\n",
    "There is more you can do with tables, but not everyone is going to need [all of that functionality](https://developer.mozilla.org/en-US/docs/Web/HTML/Element/table), so I’ll leave that bit of exploration up to you.\n"
   ]
  },
  {
   "cell_type": "code",
   "execution_count": 4,
   "metadata": {
    "collapsed": false
   },
   "outputs": [
    {
     "data": {
      "text/html": [
       "<pre>\n",
       "\n",
       "<h2>Example:</h2>\n",
       "\n",
       "    <table>\n",
       "        <tr>\n",
       "            <th>I am a header</th>\n",
       "            <td>I am not a header</td>\n",
       "        </tr>\n",
       "    </table>\n",
       "\n",
       "The above is a super simple table consisting of one row and two cells, one of which is a header.\n",
       "\n",
       "</pre>"
      ],
      "text/plain": [
       "<IPython.core.display.HTML object>"
      ]
     },
     "metadata": {},
     "output_type": "display_data"
    }
   ],
   "source": [
    "%%html\n",
    "<pre>\n",
    "\n",
    "<h2>Example:</h2>\n",
    "\n",
    "    <table>\n",
    "        <tr>\n",
    "            <th>I am a header</th>\n",
    "            <td>I am not a header</td>\n",
    "        </tr>\n",
    "    </table>\n",
    "\n",
    "The above is a super simple table consisting of one row and two cells, one of which is a header.\n",
    "\n",
    "</pre>"
   ]
  },
  {
   "cell_type": "code",
   "execution_count": 1,
   "metadata": {
    "collapsed": false
   },
   "outputs": [
    {
     "data": {
      "text/html": [
       "<pre>\n",
       "\n",
       "<h2>Bad example:</h2>\n",
       "\n",
       "    <table>\n",
       "        <tr>\n",
       "            <th>I am a header</th>\n",
       "            <td>I am not a header</td>\n",
       "            <td>I am a 3rd column</td>\n",
       "        </tr>\n",
       "        <tr>\n",
       "            <th>I am a header in the 2nd row</th>\n",
       "            <td>I am not a header in the 2nd row</td>\n",
       "        </tr>\n",
       "    </table>\n",
       "\n",
       "<h2>Better example:</h2>\n",
       "\n",
       "    <table>\n",
       "        <tr>\n",
       "            <th>I am a header</th>\n",
       "            <td>I am not a header</td>\n",
       "            <td>I am a 3rd column</td>\n",
       "        </tr>\n",
       "        <tr>\n",
       "            <th>I am a header in the 2nd row</th>\n",
       "            <td>I am not a header in the 2nd row</td>\n",
       "            <td>I am a 3rd column in the 2nd row</td>\n",
       "        </tr>\n",
       "    </table>\n",
       "\n",
       "</pre>\n",
       "<style>\n",
       "\n",
       "div {\n",
       "    \n",
       "    background-color: red;\n",
       "}\n",
       "</style>"
      ],
      "text/plain": [
       "<IPython.core.display.HTML object>"
      ]
     },
     "metadata": {},
     "output_type": "display_data"
    }
   ],
   "source": [
    "%%html\n",
    "<pre>\n",
    "\n",
    "<h2>Bad example:</h2>\n",
    "\n",
    "    <table>\n",
    "        <tr>\n",
    "            <th>I am a header</th>\n",
    "            <td>I am not a header</td>\n",
    "            <td>I am a 3rd column</td>\n",
    "        </tr>\n",
    "        <tr>\n",
    "            <th>I am a header in the 2nd row</th>\n",
    "            <td>I am not a header in the 2nd row</td>\n",
    "        </tr>\n",
    "    </table>\n",
    "\n",
    "<h2>Better example:</h2>\n",
    "\n",
    "    <table>\n",
    "        <tr>\n",
    "            <th>I am a header</th>\n",
    "            <td>I am not a header</td>\n",
    "            <td>I am a 3rd column</td>\n",
    "        </tr>\n",
    "        <tr>\n",
    "            <th>I am a header in the 2nd row</th>\n",
    "            <td>I am not a header in the 2nd row</td>\n",
    "            <td>I am a 3rd column in the 2nd row</td>\n",
    "        </tr>\n",
    "    </table>\n",
    "\n",
    "</pre>\n",
    "<style>\n",
    "\n",
    "div {\n",
    "    \n",
    "    background-color: red;\n",
    "}\n",
    "</style>\n"
   ]
  },
  {
   "cell_type": "code",
   "execution_count": null,
   "metadata": {
    "collapsed": true
   },
   "outputs": [],
   "source": []
  }
 ],
 "metadata": {
  "anaconda-cloud": {},
  "kernelspec": {
   "display_name": "Python [conda root]",
   "language": "python",
   "name": "conda-root-py"
  },
  "language_info": {
   "codemirror_mode": {
    "name": "ipython",
    "version": 3
   },
   "file_extension": ".py",
   "mimetype": "text/x-python",
   "name": "python",
   "nbconvert_exporter": "python",
   "pygments_lexer": "ipython3",
   "version": "3.5.2"
  },
  "widgets": {
   "state": {},
   "version": "1.1.2"
  }
 },
 "nbformat": 4,
 "nbformat_minor": 0
}
