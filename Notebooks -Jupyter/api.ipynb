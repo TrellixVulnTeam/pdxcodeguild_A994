{
 "cells": [
  {
   "cell_type": "code",
   "execution_count": 56,
   "metadata": {
    "collapsed": false
   },
   "outputs": [],
   "source": [
    "import json\n",
    "import requests\n",
    "import pandas\n",
    "\n",
    "my_request = requests.get('https://api.randomuser.me?results=5')"
   ]
  },
  {
   "cell_type": "code",
   "execution_count": 57,
   "metadata": {
    "collapsed": false
   },
   "outputs": [
    {
     "data": {
      "text/plain": [
       "200"
      ]
     },
     "execution_count": 57,
     "metadata": {},
     "output_type": "execute_result"
    }
   ],
   "source": [
    "my_request.status_code"
   ]
  },
  {
   "cell_type": "code",
   "execution_count": 58,
   "metadata": {
    "collapsed": false
   },
   "outputs": [],
   "source": [
    "people = json.loads(my_request.text)"
   ]
  },
  {
   "cell_type": "code",
   "execution_count": 59,
   "metadata": {
    "collapsed": false,
    "scrolled": false
   },
   "outputs": [
    {
     "data": {
      "text/plain": [
       "{'info': {'page': 1,\n",
       "  'results': 5,\n",
       "  'seed': '37e37b6bb756a795',\n",
       "  'version': '1.1'},\n",
       " 'results': [{'cell': '602-364-057',\n",
       "   'dob': '1981-12-07 05:20:48',\n",
       "   'email': 'alba.sanz@example.com',\n",
       "   'gender': 'female',\n",
       "   'id': {'name': 'DNI', 'value': '49536597-J'},\n",
       "   'location': {'city': 'lugo',\n",
       "    'postcode': 40331,\n",
       "    'state': 'comunidad de madrid',\n",
       "    'street': '5571 calle de alberto aguilera'},\n",
       "   'login': {'md5': '85bbacaef413260f923759c1da316add',\n",
       "    'password': 'doubled',\n",
       "    'salt': 'fynA2sMA',\n",
       "    'sha1': '749a527ba08753dd8dd5856f6bf3fd840f894a15',\n",
       "    'sha256': '4ce67a26909a6f5596d7dfed6650fdd84999bdebfe7d2f8b211616285561e052',\n",
       "    'username': 'orangesnake689'},\n",
       "   'name': {'first': 'alba', 'last': 'sanz', 'title': 'ms'},\n",
       "   'nat': 'ES',\n",
       "   'phone': '900-309-965',\n",
       "   'picture': {'large': 'https://randomuser.me/api/portraits/women/39.jpg',\n",
       "    'medium': 'https://randomuser.me/api/portraits/med/women/39.jpg',\n",
       "    'thumbnail': 'https://randomuser.me/api/portraits/thumb/women/39.jpg'},\n",
       "   'registered': '2004-05-09 17:34:21'},\n",
       "  {'cell': '540-274-6230',\n",
       "   'dob': '1972-04-25 23:17:27',\n",
       "   'email': 'mason.martin@example.com',\n",
       "   'gender': 'male',\n",
       "   'id': {'name': '', 'value': None},\n",
       "   'location': {'city': 'cadillac',\n",
       "    'postcode': 93946,\n",
       "    'state': 'british columbia',\n",
       "    'street': '4776 peel st'},\n",
       "   'login': {'md5': '64f73a951d586b835200cbed106143ca',\n",
       "    'password': '545454',\n",
       "    'salt': 'IIZ383oF',\n",
       "    'sha1': '39adcfc4da9ee0f3e299e39f0a76c7bbd944ff25',\n",
       "    'sha256': 'dfcc53910e36e099b65f3407ec9a6716ffd05997ffc03176f69d00febedb7ac0',\n",
       "    'username': 'purplegoose204'},\n",
       "   'name': {'first': 'mason', 'last': 'martin', 'title': 'mr'},\n",
       "   'nat': 'CA',\n",
       "   'phone': '828-110-8474',\n",
       "   'picture': {'large': 'https://randomuser.me/api/portraits/men/42.jpg',\n",
       "    'medium': 'https://randomuser.me/api/portraits/med/men/42.jpg',\n",
       "    'thumbnail': 'https://randomuser.me/api/portraits/thumb/men/42.jpg'},\n",
       "   'registered': '2003-02-28 23:59:45'},\n",
       "  {'cell': '0753-071-448',\n",
       "   'dob': '1988-06-19 20:42:02',\n",
       "   'email': 'neil.welch@example.com',\n",
       "   'gender': 'male',\n",
       "   'id': {'name': 'NINO', 'value': 'ZS 94 55 97 V'},\n",
       "   'location': {'city': 'lisburn',\n",
       "    'postcode': 'KH0X 7BJ',\n",
       "    'state': 'clwyd',\n",
       "    'street': '8913 kings road'},\n",
       "   'login': {'md5': 'bfcf91de488ab1389e67cf55434c9487',\n",
       "    'password': 'screen',\n",
       "    'salt': 'Wq3wgANJ',\n",
       "    'sha1': '486a4d9879fc4c2415ec7c4852c1ca79d814280c',\n",
       "    'sha256': '1f3e0c340c1bd284d598f7464b514e75e86b6586c049a42ff120d9deaabbb61e',\n",
       "    'username': 'purpleleopard854'},\n",
       "   'name': {'first': 'neil', 'last': 'welch', 'title': 'mr'},\n",
       "   'nat': 'GB',\n",
       "   'phone': '016974 27660',\n",
       "   'picture': {'large': 'https://randomuser.me/api/portraits/men/27.jpg',\n",
       "    'medium': 'https://randomuser.me/api/portraits/med/men/27.jpg',\n",
       "    'thumbnail': 'https://randomuser.me/api/portraits/thumb/men/27.jpg'},\n",
       "   'registered': '2002-07-23 00:13:44'},\n",
       "  {'cell': '684-430-625',\n",
       "   'dob': '1994-05-23 23:38:36',\n",
       "   'email': 'purificacion.jimenez@example.com',\n",
       "   'gender': 'female',\n",
       "   'id': {'name': 'DNI', 'value': '08936009-V'},\n",
       "   'location': {'city': 'vigo',\n",
       "    'postcode': 90145,\n",
       "    'state': 'cataluña',\n",
       "    'street': '9078 avenida de américa'},\n",
       "   'login': {'md5': 'd3b079ec2b7c31163f3a3602e9d9723a',\n",
       "    'password': 'limited',\n",
       "    'salt': 'QPYRNX2Q',\n",
       "    'sha1': 'ce4ee4777bb98269be010afea47aad34a27b6c13',\n",
       "    'sha256': '4ce936f7788431b81125c88a4458e80845ff0dc88aa456fd2372c0de45fe3ed6',\n",
       "    'username': 'goldengoose857'},\n",
       "   'name': {'first': 'purificacion', 'last': 'jimenez', 'title': 'miss'},\n",
       "   'nat': 'ES',\n",
       "   'phone': '996-478-793',\n",
       "   'picture': {'large': 'https://randomuser.me/api/portraits/women/81.jpg',\n",
       "    'medium': 'https://randomuser.me/api/portraits/med/women/81.jpg',\n",
       "    'thumbnail': 'https://randomuser.me/api/portraits/thumb/women/81.jpg'},\n",
       "   'registered': '2012-06-15 04:02:09'},\n",
       "  {'cell': '(744)-060-0497',\n",
       "   'dob': '1959-09-08 02:21:37',\n",
       "   'email': 'ünal.hamel@example.com',\n",
       "   'gender': 'male',\n",
       "   'id': {'name': 'BSN', 'value': '37677458'},\n",
       "   'location': {'city': 'dantumadiel',\n",
       "    'postcode': 82242,\n",
       "    'state': 'drenthe',\n",
       "    'street': '4129 predikherenstraat'},\n",
       "   'login': {'md5': '4c5d03d74545840a5bf6f89471c292c9',\n",
       "    'password': 'grumpy',\n",
       "    'salt': 'JQfuZPRV',\n",
       "    'sha1': '398118b6c15d7f422e6288fd94e4ac109543bbd9',\n",
       "    'sha256': '450d8af8ccfb59dde09e6c0d492ca769920f88ffae8ab2a19436a725d7b9c8a6',\n",
       "    'username': 'silverwolf495'},\n",
       "   'name': {'first': 'ünal', 'last': 'hamel', 'title': 'mr'},\n",
       "   'nat': 'NL',\n",
       "   'phone': '(602)-813-9930',\n",
       "   'picture': {'large': 'https://randomuser.me/api/portraits/men/65.jpg',\n",
       "    'medium': 'https://randomuser.me/api/portraits/med/men/65.jpg',\n",
       "    'thumbnail': 'https://randomuser.me/api/portraits/thumb/men/65.jpg'},\n",
       "   'registered': '2011-03-17 12:41:05'}]}"
      ]
     },
     "execution_count": 59,
     "metadata": {},
     "output_type": "execute_result"
    }
   ],
   "source": [
    "people"
   ]
  },
  {
   "cell_type": "code",
   "execution_count": 62,
   "metadata": {
    "collapsed": false
   },
   "outputs": [
    {
     "name": "stdout",
     "output_type": "stream",
     "text": [
      "{'first': 'alba', 'title': 'ms', 'last': 'sanz'} 602-364-057\n",
      "{'first': 'mason', 'title': 'mr', 'last': 'martin'} 540-274-6230\n",
      "{'first': 'neil', 'title': 'mr', 'last': 'welch'} 0753-071-448\n",
      "{'first': 'purificacion', 'title': 'miss', 'last': 'jimenez'} 684-430-625\n",
      "{'first': 'ünal', 'title': 'mr', 'last': 'hamel'} (744)-060-0497\n"
     ]
    }
   ],
   "source": [
    "for person in people['results']:\n",
    "    print(person['name'], person['cell'])\n",
    "    "
   ]
  },
  {
   "cell_type": "code",
   "execution_count": 103,
   "metadata": {
    "collapsed": false
   },
   "outputs": [
    {
     "name": "stdout",
     "output_type": "stream",
     "text": [
      "'Name: miss raimunda viana'\n",
      "'Email: raimunda.viana@example.com'\n",
      "'Username: greenswan247'\n",
      "'Registration: 2006-09-16 11:44:48'\n",
      "'Birth Date: 1965-08-14 12:59:41'\n",
      "'Name: mademoiselle eloane lefebvre'\n",
      "'Email: eloane.lefebvre@example.com'\n",
      "'Username: orangebutterfly922'\n",
      "'Registration: 2005-12-01 13:26:40'\n",
      "'Birth Date: 1959-02-19 08:33:16'\n",
      "'Name: mr cassiano barbosa'\n",
      "'Email: cassiano.barbosa@example.com'\n",
      "'Username: yellowmouse974'\n",
      "'Registration: 2004-07-02 01:25:47'\n",
      "'Birth Date: 1965-05-06 07:46:07'\n",
      "'Name: ms greta urban'\n",
      "'Email: greta.urban@example.com'\n",
      "'Username: purplekoala842'\n",
      "'Registration: 2007-08-03 02:20:12'\n",
      "'Birth Date: 1993-09-20 11:04:40'\n",
      "'Name: mr اميرحسين نجاتی'\n",
      "'Email: اميرحسين.نجاتی@example.com'\n",
      "'Username: heavylion424'\n",
      "'Registration: 2013-08-20 10:34:36'\n",
      "'Birth Date: 1973-01-03 04:51:34'\n"
     ]
    }
   ],
   "source": [
    "import json\n",
    "import requests\n",
    "\n",
    "\n",
    "def random_users():\n",
    "    my_request = requests.get('https://randomuser.me/api/?results=5')\n",
    "    people = json.loads(my_request.text)\n",
    "\n",
    "    for person in people['results']:\n",
    "        print('Name: {name[title]} {name[first]} {name[last]}'.format(name=person['name']))\n",
    "        print('Email: {}'.format(person['email']))\n",
    "        print('Username: {}'.format(person['login']['username']))\n",
    "        print('Registration: {}'.format(person['registered']))\n",
    "        print('Birth Date: {}'.format(person['dob']))\n",
    "\n",
    "random_users()"
   ]
  },
  {
   "cell_type": "code",
   "execution_count": null,
   "metadata": {
    "collapsed": true
   },
   "outputs": [],
   "source": []
  }
 ],
 "metadata": {
  "anaconda-cloud": {},
  "kernelspec": {
   "display_name": "Python [conda root]",
   "language": "python",
   "name": "conda-root-py"
  },
  "language_info": {
   "codemirror_mode": {
    "name": "ipython",
    "version": 3
   },
   "file_extension": ".py",
   "mimetype": "text/x-python",
   "name": "python",
   "nbconvert_exporter": "python",
   "pygments_lexer": "ipython3",
   "version": "3.5.2"
  }
 },
 "nbformat": 4,
 "nbformat_minor": 1
}
