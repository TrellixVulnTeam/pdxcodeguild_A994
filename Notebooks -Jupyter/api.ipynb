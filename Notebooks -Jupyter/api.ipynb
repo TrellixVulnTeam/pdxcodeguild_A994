{
 "cells": [
  {
   "cell_type": "code",
   "execution_count": 1,
   "metadata": {
    "collapsed": false
   },
   "outputs": [],
   "source": [
    "import json\n",
    "import requests\n",
    "import pandas\n",
    "\n",
    "my_request = requests.get('https://api.randomuser.me?results=5')"
   ]
  },
  {
   "cell_type": "code",
   "execution_count": 2,
   "metadata": {
    "collapsed": false
   },
   "outputs": [
    {
     "data": {
      "text/plain": [
       "200"
      ]
     },
     "execution_count": 2,
     "metadata": {},
     "output_type": "execute_result"
    }
   ],
   "source": [
    "my_request.status_code"
   ]
  },
  {
   "cell_type": "code",
   "execution_count": 3,
   "metadata": {
    "collapsed": false
   },
   "outputs": [],
   "source": [
    "people = json.loads(my_request.text)"
   ]
  },
  {
   "cell_type": "code",
   "execution_count": 4,
   "metadata": {
    "collapsed": false,
    "scrolled": true
   },
   "outputs": [
    {
     "data": {
      "text/plain": [
       "{'info': {'page': 1,\n",
       "  'results': 5,\n",
       "  'seed': '1ac5ca9ec7643c49',\n",
       "  'version': '1.1'},\n",
       " 'results': [{'cell': '40172004',\n",
       "   'dob': '1995-05-13 07:57:21',\n",
       "   'email': 'thea.nielsen@example.com',\n",
       "   'gender': 'female',\n",
       "   'id': {'name': 'CPR', 'value': '256073-5478'},\n",
       "   'location': {'city': 'haslev',\n",
       "    'postcode': 63954,\n",
       "    'state': 'danmark',\n",
       "    'street': '4690 fredensgade'},\n",
       "   'login': {'md5': '5b6b1f19fd1a011756b460ba1690b83c',\n",
       "    'password': 'hair',\n",
       "    'salt': 'azB8J5Xg',\n",
       "    'sha1': '1a88f219cddd4cbdb8a3c92b1fa00c22fda8853d',\n",
       "    'sha256': '0aa997fe703dc0e91f910b544e88558c53f9ed1b913bb0c94a196503b5a1feac',\n",
       "    'username': 'orangeleopard341'},\n",
       "   'name': {'first': 'thea', 'last': 'nielsen', 'title': 'miss'},\n",
       "   'nat': 'DK',\n",
       "   'phone': '05193819',\n",
       "   'picture': {'large': 'https://randomuser.me/api/portraits/women/96.jpg',\n",
       "    'medium': 'https://randomuser.me/api/portraits/med/women/96.jpg',\n",
       "    'thumbnail': 'https://randomuser.me/api/portraits/thumb/women/96.jpg'},\n",
       "   'registered': '2012-02-20 09:47:37'},\n",
       "  {'cell': '(352)-871-0553',\n",
       "   'dob': '1964-07-30 15:20:02',\n",
       "   'email': 'kyona.martijn@example.com',\n",
       "   'gender': 'female',\n",
       "   'id': {'name': 'BSN', 'value': '39165576'},\n",
       "   'location': {'city': 'eijsden-margraten',\n",
       "    'postcode': 67845,\n",
       "    'state': 'friesland',\n",
       "    'street': '5984 croesestraat'},\n",
       "   'login': {'md5': 'bd43d25cb91cb5070b6d3c53f6c0e601',\n",
       "    'password': 'sites',\n",
       "    'salt': 'dK4p7ehJ',\n",
       "    'sha1': '0a52779edb7aa849fefe20a4399862fff3ffa230',\n",
       "    'sha256': 'fafb91d5348e3d35c1ec5bd309d6e2c6bdb8b38c23b36312aec22171f9e5032a',\n",
       "    'username': 'greenbutterfly919'},\n",
       "   'name': {'first': 'kyona', 'last': 'martijn', 'title': 'ms'},\n",
       "   'nat': 'NL',\n",
       "   'phone': '(901)-281-2878',\n",
       "   'picture': {'large': 'https://randomuser.me/api/portraits/women/41.jpg',\n",
       "    'medium': 'https://randomuser.me/api/portraits/med/women/41.jpg',\n",
       "    'thumbnail': 'https://randomuser.me/api/portraits/thumb/women/41.jpg'},\n",
       "   'registered': '2012-06-01 20:22:01'},\n",
       "  {'cell': '(916)-342-4679',\n",
       "   'dob': '1976-11-16 05:51:39',\n",
       "   'email': 'okan.gönültaş@example.com',\n",
       "   'gender': 'male',\n",
       "   'id': {'name': '', 'value': None},\n",
       "   'location': {'city': 'hatay',\n",
       "    'postcode': 67889,\n",
       "    'state': 'nevşehir',\n",
       "    'street': '5795 fatih sultan mehmet cd'},\n",
       "   'login': {'md5': 'e42e1d082bfa0adeb49a42a83f26a448',\n",
       "    'password': 'tristan',\n",
       "    'salt': 'ZXiYUJbu',\n",
       "    'sha1': '06097958ce2ccef018af283f1eaace2e4988137f',\n",
       "    'sha256': '6af53b92741ea70d373eedbbc656d789496bb99ce57422d5e0d07f2d76f0388e',\n",
       "    'username': 'blackcat618'},\n",
       "   'name': {'first': 'okan', 'last': 'gönültaş', 'title': 'mr'},\n",
       "   'nat': 'TR',\n",
       "   'phone': '(642)-602-8791',\n",
       "   'picture': {'large': 'https://randomuser.me/api/portraits/men/2.jpg',\n",
       "    'medium': 'https://randomuser.me/api/portraits/med/men/2.jpg',\n",
       "    'thumbnail': 'https://randomuser.me/api/portraits/thumb/men/2.jpg'},\n",
       "   'registered': '2016-04-29 00:54:37'},\n",
       "  {'cell': '0483-321-668',\n",
       "   'dob': '1979-07-08 18:43:44',\n",
       "   'email': 'jonathan.hart@example.com',\n",
       "   'gender': 'male',\n",
       "   'id': {'name': 'TFN', 'value': '608365694'},\n",
       "   'location': {'city': 'traralgon',\n",
       "    'postcode': 3786,\n",
       "    'state': 'queensland',\n",
       "    'street': '5858 paddock way'},\n",
       "   'login': {'md5': 'd006cbb35d2e16e10f254ea5b5c42b8d',\n",
       "    'password': 'piano',\n",
       "    'salt': '8mYKSg8V',\n",
       "    'sha1': 'd83574dfab5ada27575e71f0439a76164648c146',\n",
       "    'sha256': 'a22b17137df1867bb24e5e60582f919a4a8627e5d4314d98373005384994495d',\n",
       "    'username': 'blackgorilla913'},\n",
       "   'name': {'first': 'jonathan', 'last': 'hart', 'title': 'mr'},\n",
       "   'nat': 'AU',\n",
       "   'phone': '01-6509-4894',\n",
       "   'picture': {'large': 'https://randomuser.me/api/portraits/men/75.jpg',\n",
       "    'medium': 'https://randomuser.me/api/portraits/med/men/75.jpg',\n",
       "    'thumbnail': 'https://randomuser.me/api/portraits/thumb/men/75.jpg'},\n",
       "   'registered': '2010-10-19 00:18:04'},\n",
       "  {'cell': '081-693-9337',\n",
       "   'dob': '1988-07-06 15:57:42',\n",
       "   'email': 'paul.mills@example.com',\n",
       "   'gender': 'male',\n",
       "   'id': {'name': 'PPS', 'value': '4438510T'},\n",
       "   'location': {'city': 'limerick',\n",
       "    'postcode': 24177,\n",
       "    'state': 'cavan',\n",
       "    'street': '7208 mill lane'},\n",
       "   'login': {'md5': '466036b95241f9de749dbf2a97172ca6',\n",
       "    'password': 'felicia',\n",
       "    'salt': 'RsLWzwQq',\n",
       "    'sha1': '2303c5ddca7c330a22a1c4f21ad2070e2f336d66',\n",
       "    'sha256': '13d9da77be5705b5d7a1d56c7ccb0e7dfca3d2c085c575dce9689bf971ed258f',\n",
       "    'username': 'bluemouse337'},\n",
       "   'name': {'first': 'paul', 'last': 'mills', 'title': 'mr'},\n",
       "   'nat': 'IE',\n",
       "   'phone': '021-772-5788',\n",
       "   'picture': {'large': 'https://randomuser.me/api/portraits/men/34.jpg',\n",
       "    'medium': 'https://randomuser.me/api/portraits/med/men/34.jpg',\n",
       "    'thumbnail': 'https://randomuser.me/api/portraits/thumb/men/34.jpg'},\n",
       "   'registered': '2009-03-07 20:17:12'}]}"
      ]
     },
     "execution_count": 4,
     "metadata": {},
     "output_type": "execute_result"
    }
   ],
   "source": [
    "people"
   ]
  },
  {
   "cell_type": "code",
   "execution_count": 62,
   "metadata": {
    "collapsed": false
   },
   "outputs": [
    {
     "name": "stdout",
     "output_type": "stream",
     "text": [
      "{'first': 'alba', 'title': 'ms', 'last': 'sanz'} 602-364-057\n",
      "{'first': 'mason', 'title': 'mr', 'last': 'martin'} 540-274-6230\n",
      "{'first': 'neil', 'title': 'mr', 'last': 'welch'} 0753-071-448\n",
      "{'first': 'purificacion', 'title': 'miss', 'last': 'jimenez'} 684-430-625\n",
      "{'first': 'ünal', 'title': 'mr', 'last': 'hamel'} (744)-060-0497\n"
     ]
    }
   ],
   "source": [
    "for person in people['results']:\n",
    "    print(person['name'], person['cell'])\n",
    "    "
   ]
  },
  {
   "cell_type": "code",
   "execution_count": 103,
   "metadata": {
    "collapsed": false
   },
   "outputs": [
    {
     "name": "stdout",
     "output_type": "stream",
     "text": [
      "'Name: miss raimunda viana'\n",
      "'Email: raimunda.viana@example.com'\n",
      "'Username: greenswan247'\n",
      "'Registration: 2006-09-16 11:44:48'\n",
      "'Birth Date: 1965-08-14 12:59:41'\n",
      "'Name: mademoiselle eloane lefebvre'\n",
      "'Email: eloane.lefebvre@example.com'\n",
      "'Username: orangebutterfly922'\n",
      "'Registration: 2005-12-01 13:26:40'\n",
      "'Birth Date: 1959-02-19 08:33:16'\n",
      "'Name: mr cassiano barbosa'\n",
      "'Email: cassiano.barbosa@example.com'\n",
      "'Username: yellowmouse974'\n",
      "'Registration: 2004-07-02 01:25:47'\n",
      "'Birth Date: 1965-05-06 07:46:07'\n",
      "'Name: ms greta urban'\n",
      "'Email: greta.urban@example.com'\n",
      "'Username: purplekoala842'\n",
      "'Registration: 2007-08-03 02:20:12'\n",
      "'Birth Date: 1993-09-20 11:04:40'\n",
      "'Name: mr اميرحسين نجاتی'\n",
      "'Email: اميرحسين.نجاتی@example.com'\n",
      "'Username: heavylion424'\n",
      "'Registration: 2013-08-20 10:34:36'\n",
      "'Birth Date: 1973-01-03 04:51:34'\n"
     ]
    }
   ],
   "source": [
    "import json\n",
    "import requests\n",
    "\n",
    "\n",
    "def random_users():\n",
    "    my_request = requests.get('https://randomuser.me/api/?results=5')\n",
    "    people = json.loads(my_request.text)\n",
    "\n",
    "    for person in people['results']:\n",
    "        print('Name: {name[title]} {name[first]} {name[last]}'.format(name=person['name']))\n",
    "        print('Email: {}'.format(person['email']))\n",
    "        print('Username: {}'.format(person['login']['username']))\n",
    "        print('Registration: {}'.format(person['registered']))\n",
    "        print('Birth Date: {}'.format(person['dob']))\n",
    "\n",
    "random_users()"
   ]
  },
  {
   "cell_type": "code",
   "execution_count": null,
   "metadata": {
    "collapsed": true
   },
   "outputs": [],
   "source": []
  }
 ],
 "metadata": {
  "anaconda-cloud": {},
  "kernelspec": {
   "display_name": "Python [conda root]",
   "language": "python",
   "name": "conda-root-py"
  },
  "language_info": {
   "codemirror_mode": {
    "name": "ipython",
    "version": 3
   },
   "file_extension": ".py",
   "mimetype": "text/x-python",
   "name": "python",
   "nbconvert_exporter": "python",
   "pygments_lexer": "ipython3",
   "version": "3.5.2"
  }
 },
 "nbformat": 4,
 "nbformat_minor": 1
}
