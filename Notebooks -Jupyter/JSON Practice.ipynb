{
 "cells": [
  {
   "cell_type": "code",
   "execution_count": 1,
   "metadata": {
    "collapsed": true
   },
   "outputs": [],
   "source": [
    "import json"
   ]
  },
  {
   "cell_type": "code",
   "execution_count": 2,
   "metadata": {
    "collapsed": false
   },
   "outputs": [],
   "source": [
    "things = {k: v for k, v in zip('Anders', 'Jorve')}"
   ]
  },
  {
   "cell_type": "code",
   "execution_count": 3,
   "metadata": {
    "collapsed": false
   },
   "outputs": [
    {
     "data": {
      "text/plain": [
       "{'A': 'J', 'd': 'r', 'e': 'v', 'n': 'o', 'r': 'e'}"
      ]
     },
     "execution_count": 3,
     "metadata": {},
     "output_type": "execute_result"
    }
   ],
   "source": [
    "things"
   ]
  },
  {
   "cell_type": "code",
   "execution_count": 4,
   "metadata": {
    "collapsed": false
   },
   "outputs": [],
   "source": [
    "def save(filename, data):\n",
    "    \"\"\"\n",
    "    Take a dict as input, serializes it, then the serialized version of the dict saves to the specified filename.\n",
    "    \"\"\"\n",
    "    with open(filename, 'w') as file:\n",
    "        serialized = json.dumps(data)\n",
    "        file.write(serialized)"
   ]
  },
  {
   "cell_type": "code",
   "execution_count": 5,
   "metadata": {
    "collapsed": false
   },
   "outputs": [],
   "source": [
    "def load(filename):\n",
    "    \"\"\"\n",
    "    Takes a filename\n",
    "    \"\"\"\n",
    "    with open(filename, 'r') as file:\n",
    "        raw_data = file.read()\n",
    "        data = json.loads(raw_data)\n",
    "        return data"
   ]
  },
  {
   "cell_type": "code",
   "execution_count": 6,
   "metadata": {
    "collapsed": false
   },
   "outputs": [],
   "source": [
    "save('/Users/Anders/Desktop/PDX_Code/practice/json-reader/json_text.txt', {'Anders' : 'Jorve'})"
   ]
  },
  {
   "cell_type": "code",
   "execution_count": 7,
   "metadata": {
    "collapsed": false
   },
   "outputs": [
    {
     "data": {
      "text/plain": [
       "{'Anders': 'Jorve'}"
      ]
     },
     "execution_count": 7,
     "metadata": {},
     "output_type": "execute_result"
    }
   ],
   "source": [
    "load('/Users/Anders/Desktop/PDX_Code/practice/json-reader/json_text.txt')"
   ]
  },
  {
   "cell_type": "code",
   "execution_count": 8,
   "metadata": {
    "collapsed": true
   },
   "outputs": [],
   "source": [
    "import os"
   ]
  },
  {
   "cell_type": "code",
   "execution_count": 9,
   "metadata": {
    "collapsed": false
   },
   "outputs": [
    {
     "data": {
      "text/plain": [
       "'C:\\\\Users\\\\Anders\\\\Desktop\\\\PDX_Code\\\\practice\\\\Notebooks -Jupyter'"
      ]
     },
     "execution_count": 9,
     "metadata": {},
     "output_type": "execute_result"
    }
   ],
   "source": [
    "os.getcwd()"
   ]
  },
  {
   "cell_type": "code",
   "execution_count": 10,
   "metadata": {
    "collapsed": true
   },
   "outputs": [],
   "source": [
    "listing = os.listdir() # finds 'ls' finds files in current directory"
   ]
  },
  {
   "cell_type": "code",
   "execution_count": 11,
   "metadata": {
    "collapsed": false
   },
   "outputs": [
    {
     "data": {
      "text/plain": [
       "['.ipynb_checkpoints',\n",
       " 'API PRACTICE.ipynb',\n",
       " 'api.ipynb',\n",
       " 'bomb defuser.ipynb',\n",
       " 'crime data practice.ipynb',\n",
       " 'datetime practice.ipynb',\n",
       " 'dict practice.ipynb',\n",
       " 'dictionary practice.ipynb',\n",
       " 'JSON Practice.ipynb',\n",
       " 'NFL practice.ipynb',\n",
       " 'nums practice.ipynb',\n",
       " 'Phone Book Practice.ipynb',\n",
       " 'phone_book.py___jb_old___',\n",
       " 'PIL- Pillow  practice.ipynb',\n",
       " 'python Classes.ipynb',\n",
       " 'quantify words practice.ipynb',\n",
       " 'rain.py practice.ipynb',\n",
       " 'Reduce, Close Match, Population, Masking, ROT Cipher.ipynb',\n",
       " 'regex101 practice.ipynb',\n",
       " 'review.ipynb',\n",
       " 'string masking.ipynb',\n",
       " 'Syntactic Sugar.ipynb',\n",
       " 'unit testing.ipynb',\n",
       " 'Untitled.ipynb',\n",
       " 'vegas1_rotated',\n",
       " 'Voting Booth Practice.ipynb',\n",
       " 'warm-ups - list comp.ipynb']"
      ]
     },
     "execution_count": 11,
     "metadata": {},
     "output_type": "execute_result"
    }
   ],
   "source": [
    "listing"
   ]
  },
  {
   "cell_type": "code",
   "execution_count": 12,
   "metadata": {
    "collapsed": false
   },
   "outputs": [
    {
     "name": "stdout",
     "output_type": "stream",
     "text": [
      "0 .ipynb_checkpoints\n",
      "1 API PRACTICE.ipynb\n",
      "2 api.ipynb\n",
      "3 bomb defuser.ipynb\n",
      "4 crime data practice.ipynb\n",
      "5 datetime practice.ipynb\n",
      "6 dict practice.ipynb\n",
      "7 dictionary practice.ipynb\n",
      "8 JSON Practice.ipynb\n",
      "9 NFL practice.ipynb\n",
      "10 nums practice.ipynb\n",
      "11 Phone Book Practice.ipynb\n",
      "12 phone_book.py___jb_old___\n",
      "13 PIL- Pillow  practice.ipynb\n",
      "14 python Classes.ipynb\n",
      "15 quantify words practice.ipynb\n",
      "16 rain.py practice.ipynb\n",
      "17 Reduce, Close Match, Population, Masking, ROT Cipher.ipynb\n",
      "18 regex101 practice.ipynb\n",
      "19 review.ipynb\n",
      "20 string masking.ipynb\n",
      "21 Syntactic Sugar.ipynb\n",
      "22 unit testing.ipynb\n",
      "23 Untitled.ipynb\n",
      "24 vegas1_rotated\n",
      "25 Voting Booth Practice.ipynb\n",
      "26 warm-ups - list comp.ipynb\n"
     ]
    }
   ],
   "source": [
    "for index, filename in enumerate(listing):\n",
    "    print(index, filename)"
   ]
  },
  {
   "cell_type": "code",
   "execution_count": 13,
   "metadata": {
    "collapsed": true
   },
   "outputs": [],
   "source": [
    "selection = 1"
   ]
  },
  {
   "cell_type": "code",
   "execution_count": 14,
   "metadata": {
    "collapsed": true
   },
   "outputs": [],
   "source": [
    "os.chdir('/Users/Anders/Desktop/PDX_Code/practice/projects/pdx_crime_data/data/')"
   ]
  },
  {
   "cell_type": "code",
   "execution_count": 15,
   "metadata": {
    "collapsed": true
   },
   "outputs": [],
   "source": [
    "filenames = os.listdir()"
   ]
  },
  {
   "cell_type": "code",
   "execution_count": 16,
   "metadata": {
    "collapsed": false
   },
   "outputs": [
    {
     "data": {
      "text/plain": [
       "'C:\\\\Users\\\\Anders\\\\Desktop\\\\PDX_Code\\\\practice\\\\projects\\\\pdx_crime_data\\\\data'"
      ]
     },
     "execution_count": 16,
     "metadata": {},
     "output_type": "execute_result"
    }
   ],
   "source": [
    "os.getcwd()"
   ]
  },
  {
   "cell_type": "code",
   "execution_count": 17,
   "metadata": {
    "collapsed": true
   },
   "outputs": [],
   "source": [
    "os.chdir('../')"
   ]
  },
  {
   "cell_type": "code",
   "execution_count": 18,
   "metadata": {
    "collapsed": false
   },
   "outputs": [
    {
     "name": "stdout",
     "output_type": "stream",
     "text": [
      "('/Users/Anders/Desktop/PDX_Code/practice/json-reader/', [], ['fun_with_networks.py', 'iliad.txt', 'json_text.txt', 'main.py', 'mimik.py'])\n"
     ]
    }
   ],
   "source": [
    "for filename in os.walk('/Users/Anders/Desktop/PDX_Code/practice/json-reader/'):\n",
    "    print(filename)"
   ]
  },
  {
   "cell_type": "code",
   "execution_count": 61,
   "metadata": {
    "collapsed": true
   },
   "outputs": [],
   "source": [
    "def scrub(file_text):\n",
    "    file_scrub = file_text.replace(\".\", \"\").replace(\",\", \"\")\n",
    "    scrub_again = re.sub('[&@#$*%()!\\d]', '', file_scrub)\n",
    "    scrubbed = scrub_again.split(\" \")\n",
    "    return scrubbed"
   ]
  },
  {
   "cell_type": "code",
   "execution_count": 75,
   "metadata": {
    "collapsed": true
   },
   "outputs": [],
   "source": [
    "import random"
   ]
  },
  {
   "cell_type": "code",
   "execution_count": 76,
   "metadata": {
    "collapsed": true
   },
   "outputs": [],
   "source": [
    "names_dict = {1: 'Anders', 2: 'Jenna', 3: 'Ethan', 4: 'Allyson'}"
   ]
  },
  {
   "cell_type": "code",
   "execution_count": 84,
   "metadata": {
    "collapsed": false
   },
   "outputs": [],
   "source": [
    "random_list = random.sample(list(names_dict), 3)"
   ]
  },
  {
   "cell_type": "code",
   "execution_count": 85,
   "metadata": {
    "collapsed": false
   },
   "outputs": [
    {
     "data": {
      "text/plain": [
       "[4, 3, 2]"
      ]
     },
     "execution_count": 85,
     "metadata": {},
     "output_type": "execute_result"
    }
   ],
   "source": [
    "random_list"
   ]
  },
  {
   "cell_type": "code",
   "execution_count": 86,
   "metadata": {
    "collapsed": false
   },
   "outputs": [
    {
     "data": {
      "text/plain": [
       "[4, 3, 2]"
      ]
     },
     "execution_count": 86,
     "metadata": {},
     "output_type": "execute_result"
    }
   ],
   "source": [
    "random_list"
   ]
  },
  {
   "cell_type": "code",
   "execution_count": 87,
   "metadata": {
    "collapsed": true
   },
   "outputs": [],
   "source": [
    "import nltk"
   ]
  },
  {
   "cell_type": "code",
   "execution_count": null,
   "metadata": {
    "collapsed": true
   },
   "outputs": [],
   "source": []
  }
 ],
 "metadata": {
  "anaconda-cloud": {},
  "kernelspec": {
   "display_name": "Python [conda root]",
   "language": "python",
   "name": "conda-root-py"
  },
  "language_info": {
   "codemirror_mode": {
    "name": "ipython",
    "version": 3
   },
   "file_extension": ".py",
   "mimetype": "text/x-python",
   "name": "python",
   "nbconvert_exporter": "python",
   "pygments_lexer": "ipython3",
   "version": "3.5.2"
  }
 },
 "nbformat": 4,
 "nbformat_minor": 0
}
