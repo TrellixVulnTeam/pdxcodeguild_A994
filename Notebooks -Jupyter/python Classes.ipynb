{
 "cells": [
  {
   "cell_type": "code",
   "execution_count": null,
   "metadata": {
    "collapsed": true
   },
   "outputs": [],
   "source": [
    "class Coffee:\n",
    "    \n",
    "    def __init__(self):\n",
    "        self.color = 'grey'\n",
    "        style = True\n",
    "        "
   ]
  },
  {
   "cell_type": "code",
   "execution_count": null,
   "metadata": {
    "collapsed": false
   },
   "outputs": [],
   "source": [
    "my_coffee = Coffee()"
   ]
  },
  {
   "cell_type": "code",
   "execution_count": null,
   "metadata": {
    "collapsed": false
   },
   "outputs": [],
   "source": [
    "my_coffee.color"
   ]
  },
  {
   "cell_type": "code",
   "execution_count": null,
   "metadata": {
    "collapsed": true
   },
   "outputs": [],
   "source": [
    "class FrenchDeck:\n",
    "    \n",
    "    def __init__(self): # This will initialize a function to overwrite (self) with whatever variable you pass into it.\n",
    "        ranks = list(range(2,11)) + list('AJQK')\n",
    "        self.ranks = ranks\n",
    "        \n",
    "        suits = ('Hearts', 'Spades', 'Clubs', 'Diamonds')\n",
    "        \n",
    "        deck = [(s, r) for s in suits for r in ranks]\n",
    "        self.deck = deck\n",
    "    \n",
    "    def shuffle(self):\n",
    "        print(self.random)"
   ]
  },
  {
   "cell_type": "code",
   "execution_count": null,
   "metadata": {
    "collapsed": true
   },
   "outputs": [],
   "source": [
    "my_deck = FrenchDeck()"
   ]
  },
  {
   "cell_type": "code",
   "execution_count": null,
   "metadata": {
    "collapsed": false
   },
   "outputs": [],
   "source": [
    "my_deck.shuffle()"
   ]
  },
  {
   "cell_type": "code",
   "execution_count": null,
   "metadata": {
    "collapsed": true
   },
   "outputs": [],
   "source": [
    "#Inheritance"
   ]
  },
  {
   "cell_type": "code",
   "execution_count": 10,
   "metadata": {
    "collapsed": false
   },
   "outputs": [],
   "source": [
    "class Person:\n",
    "    \n",
    "    def __init__(self):\n",
    "        self.collect_info()\n",
    "\n",
    "        \n",
    "    def collect_info(self):\n",
    "        name = input(\"What is your name? >>  \")\n",
    "        eye_color = input(\"What is the color of your eyes? >>  \")\n",
    "        self.name = name\n",
    "        self.eye_color = eye_color\n",
    "        \n",
    "    \n",
    "    def __str__(self):\n",
    "        return \"This is {0.name}, and {0.name}'s eyes are {0.eye_color}\".format(self)\n",
    "    \n",
    "#     def __repr__(self):\n",
    "#         return {0.name}, {0.eye_color}"
   ]
  },
  {
   "cell_type": "code",
   "execution_count": 11,
   "metadata": {
    "collapsed": false
   },
   "outputs": [
    {
     "name": "stdout",
     "output_type": "stream",
     "text": [
      "What is your name? >>  Anders\n",
      "What is the color of your eyes? >>  Blue\n"
     ]
    }
   ],
   "source": [
    "anders = Person()"
   ]
  },
  {
   "cell_type": "code",
   "execution_count": null,
   "metadata": {
    "collapsed": false
   },
   "outputs": [],
   "source": [
    "# repr()\n",
    "# str()"
   ]
  },
  {
   "cell_type": "code",
   "execution_count": 7,
   "metadata": {
    "collapsed": false
   },
   "outputs": [
    {
     "data": {
      "text/plain": [
       "'Blue'"
      ]
     },
     "execution_count": 7,
     "metadata": {},
     "output_type": "execute_result"
    }
   ],
   "source": [
    "anders.eye_color"
   ]
  },
  {
   "cell_type": "code",
   "execution_count": 8,
   "metadata": {
    "collapsed": false
   },
   "outputs": [
    {
     "data": {
      "text/plain": [
       "'Anders'"
      ]
     },
     "execution_count": 8,
     "metadata": {},
     "output_type": "execute_result"
    }
   ],
   "source": [
    "anders.name"
   ]
  },
  {
   "cell_type": "code",
   "execution_count": 12,
   "metadata": {
    "collapsed": false
   },
   "outputs": [
    {
     "data": {
      "text/plain": [
       "\"This is Anders, and Anders's eyes are Blue\""
      ]
     },
     "execution_count": 12,
     "metadata": {},
     "output_type": "execute_result"
    }
   ],
   "source": [
    "str(anders)"
   ]
  },
  {
   "cell_type": "code",
   "execution_count": null,
   "metadata": {
    "collapsed": false
   },
   "outputs": [],
   "source": [
    "import random\n",
    "\n",
    "names = ['john', 'eric', 'alex', 'bryson', 'jake']\n",
    "colors = ['blue', 'hazel', 'brown', 'cyan']\n",
    "\n",
    "people = list()\n",
    "for i in range(101):\n",
    "    \n",
    "    name_choice = random.choice(names)\n",
    "    color_choice = random.choice(colors)\n",
    "    \n",
    "    person = Person(name=name_choice, eye_color=color_choice)\n",
    "    people.append(person)"
   ]
  },
  {
   "cell_type": "code",
   "execution_count": null,
   "metadata": {
    "collapsed": true
   },
   "outputs": [],
   "source": [
    "people"
   ]
  },
  {
   "cell_type": "code",
   "execution_count": null,
   "metadata": {
    "collapsed": false
   },
   "outputs": [],
   "source": [
    "str(people[23])"
   ]
  },
  {
   "cell_type": "code",
   "execution_count": null,
   "metadata": {
    "collapsed": false
   },
   "outputs": [],
   "source": [
    "class Employee(Person):\n",
    "    \n",
    "    def __init__(self, badge, role, *args, **kwargs):\n",
    "        self.badge = badge\n",
    "        self.role = role\n",
    "        super().__init__(*args, **kwargs)"
   ]
  },
  {
   "cell_type": "code",
   "execution_count": null,
   "metadata": {
    "collapsed": false
   },
   "outputs": [],
   "source": [
    "chris = Employee(name='Chris', eye_color='Brown', badge=42, role='DevOps')"
   ]
  },
  {
   "cell_type": "code",
   "execution_count": null,
   "metadata": {
    "collapsed": true
   },
   "outputs": [],
   "source": [
    "class Developer(Employee): # This will call both Employee and Person as per Inheritance\n",
    "    \n",
    "    def __init__(self, *args, **kwargs):\n",
    "        pass\n",
    "        super(Developer).__init__()"
   ]
  }
 ],
 "metadata": {
  "anaconda-cloud": {},
  "kernelspec": {
   "display_name": "Python [conda root]",
   "language": "python",
   "name": "conda-root-py"
  },
  "language_info": {
   "codemirror_mode": {
    "name": "ipython",
    "version": 3
   },
   "file_extension": ".py",
   "mimetype": "text/x-python",
   "name": "python",
   "nbconvert_exporter": "python",
   "pygments_lexer": "ipython3",
   "version": "3.5.2"
  }
 },
 "nbformat": 4,
 "nbformat_minor": 1
}
