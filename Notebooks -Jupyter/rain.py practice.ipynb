{
 "cells": [
  {
   "cell_type": "code",
   "execution_count": 4,
   "metadata": {
    "collapsed": false
   },
   "outputs": [],
   "source": [
    "import json\n",
    "import requests\n",
    "import bs4\n",
    "from pandas import pandas as pd\n",
    "# import html5lib\n",
    "import matplotlib.pyplot as plt"
   ]
  },
  {
   "cell_type": "code",
   "execution_count": 5,
   "metadata": {
    "collapsed": false
   },
   "outputs": [],
   "source": [
    "my_request = requests.get('https://or.water.usgs.gov/non-usgs/bes/fernwood.rain')"
   ]
  },
  {
   "cell_type": "code",
   "execution_count": 6,
   "metadata": {
    "collapsed": false
   },
   "outputs": [],
   "source": [
    "headers = ['Date', 'Daily Total'] + list(range(0, 24))"
   ]
  },
  {
   "cell_type": "code",
   "execution_count": 7,
   "metadata": {
    "collapsed": false
   },
   "outputs": [],
   "source": [
    "df = pd.read_csv('https://or.water.usgs.gov/non-usgs/bes/fernwood.rain', delim_whitespace=True, header=9, names=headers)"
   ]
  },
  {
   "cell_type": "code",
   "execution_count": 15,
   "metadata": {
    "collapsed": false
   },
   "outputs": [
    {
     "data": {
      "text/plain": [
       "<bound method DataFrame.sort of              Date Daily Total\n",
       "0     08-FEB-2017         111\n",
       "1     07-FEB-2017          10\n",
       "2     06-FEB-2017          12\n",
       "3     05-FEB-2017         238\n",
       "4     04-FEB-2017         140\n",
       "5     03-FEB-2017           1\n",
       "6     02-FEB-2017           0\n",
       "7     01-FEB-2017           0\n",
       "8     31-JAN-2017           2\n",
       "9     30-JAN-2017           0\n",
       "10    29-JAN-2017           1\n",
       "11    28-JAN-2017           0\n",
       "12    27-JAN-2017           0\n",
       "13    26-JAN-2017           3\n",
       "14    25-JAN-2017           1\n",
       "15    24-JAN-2017           0\n",
       "16    23-JAN-2017           0\n",
       "17    22-JAN-2017          15\n",
       "18    21-JAN-2017          36\n",
       "19    20-JAN-2017          28\n",
       "20    19-JAN-2017           0\n",
       "21    18-JAN-2017         121\n",
       "22    17-JAN-2017          47\n",
       "23    16-JAN-2017           0\n",
       "24    15-JAN-2017           1\n",
       "25    14-JAN-2017           0\n",
       "26    13-JAN-2017           0\n",
       "27    12-JAN-2017          18\n",
       "28    11-JAN-2017           3\n",
       "29    10-JAN-2017          14\n",
       "...           ...         ...\n",
       "6712  24-SEP-1998          13\n",
       "6713  23-SEP-1998           0\n",
       "6714  22-SEP-1998           0\n",
       "6715  21-SEP-1998           0\n",
       "6716  20-SEP-1998           0\n",
       "6717  19-SEP-1998           3\n",
       "6718  18-SEP-1998          60\n",
       "6719  17-SEP-1998           2\n",
       "6720  16-SEP-1998           0\n",
       "6721  15-SEP-1998           0\n",
       "6722  14-SEP-1998           0\n",
       "6723  13-SEP-1998           0\n",
       "6724  12-SEP-1998           0\n",
       "6725  11-SEP-1998           0\n",
       "6726  10-SEP-1998           0\n",
       "6727  09-SEP-1998           0\n",
       "6728  08-SEP-1998           0\n",
       "6729  07-SEP-1998           0\n",
       "6730  06-SEP-1998           0\n",
       "6731  05-SEP-1998           0\n",
       "6732  04-SEP-1998           0\n",
       "6733  03-SEP-1998           0\n",
       "6734  02-SEP-1998           0\n",
       "6735  01-SEP-1998           0\n",
       "6736  31-AUG-1998           0\n",
       "6737  30-AUG-1998           0\n",
       "6738  29-AUG-1998           0\n",
       "6739  28-AUG-1998           0\n",
       "6740  27-AUG-1998           0\n",
       "6741  26-AUG-1998           0\n",
       "\n",
       "[6742 rows x 2 columns]>"
      ]
     },
     "execution_count": 15,
     "metadata": {},
     "output_type": "execute_result"
    }
   ],
   "source": [
    "df.sort"
   ]
  },
  {
   "cell_type": "code",
   "execution_count": null,
   "metadata": {
    "collapsed": true
   },
   "outputs": [],
   "source": []
  },
  {
   "cell_type": "code",
   "execution_count": 8,
   "metadata": {
    "collapsed": false
   },
   "outputs": [],
   "source": [
    "df = df.iloc[:, 0:2]"
   ]
  },
  {
   "cell_type": "code",
   "execution_count": 9,
   "metadata": {
    "collapsed": false
   },
   "outputs": [
    {
     "data": {
      "text/html": [
       "<div>\n",
       "<table border=\"1\" class=\"dataframe\">\n",
       "  <thead>\n",
       "    <tr style=\"text-align: right;\">\n",
       "      <th></th>\n",
       "      <th>Date</th>\n",
       "      <th>Daily Total</th>\n",
       "    </tr>\n",
       "  </thead>\n",
       "  <tbody>\n",
       "    <tr>\n",
       "      <th>count</th>\n",
       "      <td>6742</td>\n",
       "      <td>6742</td>\n",
       "    </tr>\n",
       "    <tr>\n",
       "      <th>unique</th>\n",
       "      <td>6742</td>\n",
       "      <td>161</td>\n",
       "    </tr>\n",
       "    <tr>\n",
       "      <th>top</th>\n",
       "      <td>05-FEB-2002</td>\n",
       "      <td>0</td>\n",
       "    </tr>\n",
       "    <tr>\n",
       "      <th>freq</th>\n",
       "      <td>1</td>\n",
       "      <td>3727</td>\n",
       "    </tr>\n",
       "  </tbody>\n",
       "</table>\n",
       "</div>"
      ],
      "text/plain": [
       "               Date Daily Total\n",
       "count          6742        6742\n",
       "unique         6742         161\n",
       "top     05-FEB-2002           0\n",
       "freq              1        3727"
      ]
     },
     "execution_count": 9,
     "metadata": {},
     "output_type": "execute_result"
    }
   ],
   "source": [
    "df.describe()"
   ]
  },
  {
   "cell_type": "code",
   "execution_count": 10,
   "metadata": {
    "collapsed": true
   },
   "outputs": [],
   "source": [
    "df_range = df[-df['Daily Total'].isin(['-'])]"
   ]
  },
  {
   "cell_type": "code",
   "execution_count": 11,
   "metadata": {
    "collapsed": false
   },
   "outputs": [
    {
     "name": "stderr",
     "output_type": "stream",
     "text": [
      "C:\\Users\\Anders\\Anaconda3\\lib\\site-packages\\ipykernel\\__main__.py:1: SettingWithCopyWarning: \n",
      "A value is trying to be set on a copy of a slice from a DataFrame.\n",
      "Try using .loc[row_indexer,col_indexer] = value instead\n",
      "\n",
      "See the caveats in the documentation: http://pandas.pydata.org/pandas-docs/stable/indexing.html#indexing-view-versus-copy\n",
      "  if __name__ == '__main__':\n"
     ]
    }
   ],
   "source": [
    "df_range['Daily Total'] = df_range['Daily Total'].apply(int)"
   ]
  },
  {
   "cell_type": "code",
   "execution_count": 12,
   "metadata": {
    "collapsed": false
   },
   "outputs": [
    {
     "data": {
      "text/plain": [
       "Date           31-OCT-2016\n",
       "Daily Total            261\n",
       "dtype: object"
      ]
     },
     "execution_count": 12,
     "metadata": {},
     "output_type": "execute_result"
    }
   ],
   "source": [
    "df_range.max()"
   ]
  },
  {
   "cell_type": "code",
   "execution_count": null,
   "metadata": {
    "collapsed": true
   },
   "outputs": [],
   "source": []
  },
  {
   "cell_type": "code",
   "execution_count": null,
   "metadata": {
    "collapsed": true
   },
   "outputs": [],
   "source": []
  }
 ],
 "metadata": {
  "anaconda-cloud": {},
  "kernelspec": {
   "display_name": "Python [conda root]",
   "language": "python",
   "name": "conda-root-py"
  },
  "language_info": {
   "codemirror_mode": {
    "name": "ipython",
    "version": 3
   },
   "file_extension": ".py",
   "mimetype": "text/x-python",
   "name": "python",
   "nbconvert_exporter": "python",
   "pygments_lexer": "ipython3",
   "version": "3.5.2"
  }
 },
 "nbformat": 4,
 "nbformat_minor": 0
}
