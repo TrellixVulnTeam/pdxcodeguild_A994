{
 "cells": [
  {
   "cell_type": "markdown",
   "metadata": {},
   "source": [
    "# Events\n",
    "\n",
    "JavaScript events are what allow us to give web pages interactivity. You add events to DOM elements using the `addEventListener` method.\n",
    "\n",
    "Example:\n",
    "\n",
    "    document.getElementById('my-div')\n",
    "        .addEventListener('click', function (evt) {\n",
    "        console.log('The DIV was clicked.');\n",
    "    });\n",
    "\n",
    "## Mouse Events\n",
    "\n",
    "Events the user triggers with a mouse (or trackball) include the following:\n",
    "\n",
    "- `click`\n",
    "- `mouseover`\n",
    "- `mousedown`\n",
    "- `mouseup`\n",
    "- `mouseout`\n",
    "- `dblclick`\n",
    "- `mouseenter`\n",
    "- `mouseleave`\n",
    "\n",
    "------\n",
    "\n",
    "## Touch Events\n",
    "\n",
    "Touch events are a bit more complicated than mouse events. Some of them are similar. Consider the following:\n",
    "\n",
    "- `touchstart`\n",
    "- `touchend`\n",
    "- `touchcancel`\n",
    "- `touchmove`\n",
    "\n",
    "_Note: There is no native `tap` event, but you could argue there should be!_\n",
    "\n",
    "It gets complicated fast when you start to talk about multi-touch. Weâ€™ll skip over that topic for now. If you want to dive deeper, [start here](http://www.html5rocks.com/en/mobile/touch/).\n",
    "\n",
    "------\n",
    "\n",
    "## Keyboard Events\n",
    "\n",
    "The following keyboard events are generated when the user types on either a physical or software keyboard:\n",
    "\n",
    "- `keydown`\n",
    "- `keypress`\n",
    "- `keyup`\n",
    "\n",
    "When handling a keyboard event, you can test for whether a modifier key was being pressed at the same time by testing the following either `true` or `false`:\n",
    "\n",
    "- `KeyboardEvent.ctrlKey`\n",
    "- `KeyboardEvent.shiftKey`\n",
    "- `KeyboardEvent.altKey` ([option] on a Mac)\n",
    "- `KeyboardEvent.metaKey` ([cmd] on a Mac)\n",
    "\n",
    "Youâ€™re also able to test which key was pressed by evaluating `KeyboardEvent.code` against [this list of codes](https://developer.mozilla.org/en-US/docs/Web/API/KeyboardEvent/code).\n",
    "\n",
    "Example:\n",
    "\n",
    "    window.addEventListener('keyup', function (evt) {\n",
    "        if (evt.code === 'KeyA') {\n",
    "            console.log('The A key was pressed.');\n",
    "        }\n",
    "    });\n",
    "\n",
    "------\n",
    "\n",
    "Sources:\n",
    "\n",
    "1. [Event reference](https://developer.mozilla.org/en-US/docs/Web/Events)\n",
    "1. [Touch events](https://developer.mozilla.org/en-US/docs/Web/API/Touch_events)\n"
   ]
  },
  {
   "cell_type": "code",
   "execution_count": null,
   "metadata": {
    "collapsed": true
   },
   "outputs": [],
   "source": []
  }
 ],
 "metadata": {
  "anaconda-cloud": {},
  "kernelspec": {
   "display_name": "Python [conda root]",
   "language": "python",
   "name": "conda-root-py"
  },
  "language_info": {
   "codemirror_mode": {
    "name": "ipython",
    "version": 3
   },
   "file_extension": ".py",
   "mimetype": "text/x-python",
   "name": "python",
   "nbconvert_exporter": "python",
   "pygments_lexer": "ipython3",
   "version": "3.5.2"
  },
  "widgets": {
   "state": {},
   "version": "1.1.2"
  }
 },
 "nbformat": 4,
 "nbformat_minor": 0
}
