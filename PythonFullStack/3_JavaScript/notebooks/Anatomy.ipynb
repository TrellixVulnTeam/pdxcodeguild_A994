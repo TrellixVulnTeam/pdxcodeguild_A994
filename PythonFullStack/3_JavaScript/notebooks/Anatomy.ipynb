{
 "cells": [
  {
   "cell_type": "markdown",
   "metadata": {},
   "source": [
    "# Anatomy of a Web Page\n",
    "\n",
    "Web pages consist of HTML, CSS, and JavaScript. They're kind of like birthday cakes.\n",
    "\n",
    "------\n",
    "\n",
    "HTML is the cake. Itâ€™s covered with CSS frosting that makes it look pretty. Then you add some JavaScript to the top to give it a little sparkle.\n",
    "\n",
    "![Birthday cake with candles](http://theartmad.com/wp-content/uploads/2015/08/Happy-Birthday-Cake-Pictures-With-Candle-2.jpg)\n",
    "\n",
    "------\n",
    "\n",
    "Itâ€™s totally possible to build a beautiful, tasty web page with only HTML and CSS.\n",
    "\n",
    "![Simple chocolate cake](https://i.ytimg.com/vi/hKeKuuAll8Y/maxresdefault.jpg)\n",
    "\n",
    "------\n",
    "\n",
    "And it's totally possible to go crazy with JavaScript and make a cake that is a serious fire hazard (we call those [single-page apps](https://en.wikipedia.org/wiki/Single-page_application) [I kid. {Kind of.}]).\n",
    "\n",
    "![Crazy cake](https://s-media-cache-ak0.pinimg.com/736x/35/1b/0a/351b0aa8774276354c8e6d24b6fc53c9.jpg)\n",
    "\n",
    "------\n",
    "\n",
    "We've seen the following basic structure of a web page before:\n",
    "\n",
    "    <!doctype html>\n",
    "    <html>\n",
    "        <head>\n",
    "            <meta charset=\"UTF-8\">\n",
    "            <title>My Awesome Page</title>\n",
    "            <link href=\"styles.css\">\n",
    "            <script defer src=\"behaviors.js\"></script>\n",
    "        </head>\n",
    "        <body>\n",
    "            <h1>My Awesome Page</h1>\n",
    "            <p>Stuff I want to say.</p>\n",
    "        </body>\n",
    "    </html>\n",
    "\n",
    "- HTML is responsible for providing semantic structure to the content of the page.\n",
    "- CSS provides presentation to the content\n",
    "- JavaScript provides dynamic, interactive behaviors to the page\n",
    "\n",
    "------\n",
    "\n",
    "All three of HTML, CSS, and JavaScript are just text files written in different syntaxes. Web browsers know how to interpret all three and allow them to work together to provide a unified experience of what we call a web page.\n"
   ]
  },
  {
   "cell_type": "code",
   "execution_count": null,
   "metadata": {
    "collapsed": true
   },
   "outputs": [],
   "source": []
  }
 ],
 "metadata": {
  "anaconda-cloud": {},
  "kernelspec": {
   "display_name": "Python [conda root]",
   "language": "python",
   "name": "conda-root-py"
  },
  "language_info": {
   "codemirror_mode": {
    "name": "ipython",
    "version": 3
   },
   "file_extension": ".py",
   "mimetype": "text/x-python",
   "name": "python",
   "nbconvert_exporter": "python",
   "pygments_lexer": "ipython3",
   "version": "3.5.2"
  },
  "widgets": {
   "state": {},
   "version": "1.1.2"
  }
 },
 "nbformat": 4,
 "nbformat_minor": 0
}
