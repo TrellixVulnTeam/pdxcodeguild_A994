{
 "cells": [
  {
   "cell_type": "markdown",
   "metadata": {},
   "source": [
    "# Contents:\n",
    "\n",
    "* Hello World\n",
    "* SSN Number \n",
    "* Vowels\n",
    "* Return of Change Return\n",
    "* Fun with Networks (Jquery)\n",
    "* Refactor\n",
    "* Burrito Tem"
   ]
  },
  {
   "cell_type": "markdown",
   "metadata": {},
   "source": [
    "# Hello, World\n",
    "\n",
    "Make an HTML form that prints user input in the Javascript Console using `prompt()`"
   ]
  },
  {
   "cell_type": "markdown",
   "metadata": {},
   "source": [
    "# Exercise: Is it a Social Security Number?\n",
    "\n",
    "## Objective\n",
    "\n",
    "Get familiar with regular expressions in JavaScript by determining whether a given input is a Social Security Number.\n",
    "\n",
    "1. Create a new file called `ssn.html` based on [this template](https://raw.githubusercontent.com/segdeha/pdxcodeguild/master/2.%20HTML%20%26%20CSS/solutions/structure-with-inline-css-and-javascript.html?token=AAAQ0sNxHlhyXhaAZLGeWybrKtZIAd68ks5XZzmgwA%3D%3D)\n",
    "1. Add your JavaScript inside the `<script></script>` tag\n",
    "1. To run your program, you will need to load `ssn.html` in a web browser\n",
    "1. Using JavaScript, prompt the user for a Social Security Number (SSN)\n",
    "1. Validate whether or not their input is a valid SSN using regular expressions\n",
    "1. Pop up an alert telling the user whether or not their input is a valid SSN\n",
    "\n",
    "_Note: A valid SSN consists of 9 digits with optional dashes between digits 3 & 4 and digits 5 & 6. E.g., '123-45-6789' or '123456789'._\n"
   ]
  },
  {
   "cell_type": "markdown",
   "metadata": {},
   "source": [
    "\n",
    "# Exercise: Is it a vowel?\n",
    "\n",
    "## Objective\n",
    "\n",
    "Get familiar with basic JavaScript constructs by writing a program that prompts the user for a character and tells them whether or not it's a vowel.\n",
    "\n",
    "1. Create a new file called `vowels.html` based on [this template](https://raw.githubusercontent.com/segdeha/pdxcodeguild/master/2.%20HTML%20%26%20CSS/solutions/structure-with-inline-css-and-javascript.html?token=AAAQ0sNxHlhyXhaAZLGeWybrKtZIAd68ks5XZzmgwA%3D%3D)\n",
    "1. Add your JavaScript inside the `<script></script>` tag\n",
    "1. To run your program, you will need to load `vowels.html` in a web browser\n",
    "\n",
    "------\n",
    "\n",
    "## Helpful hints\n",
    "\n",
    "#### prompt\n",
    "\n",
    "Use the built-in function `prompt` to ask the user for input. The result of `prompt` should be assigned to a variable.\n",
    "\n",
    "Example:\n",
    "\n",
    "    var input = prompt('Enter a character');\n",
    "\n",
    "#### alert\n",
    "\n",
    "Use the built-in function `alert` to tell the user the result.\n",
    "\n",
    "Example:\n",
    "\n",
    "    alert('The character you entered is a vowel');\n",
    "\n",
    "#### indexOf\n",
    "\n",
    "Similar to the `index` method on Python lists, JavaScript arrays have a method called [indexOf](https://developer.mozilla.org/en-US/docs/Web/JavaScript/Reference/Global_Objects/Array/indexOf) that returns the array index of the value or `-1` if the value is not present.\n",
    "\n",
    "Example:\n",
    "\n",
    "    `['a'].indexOf('a')  0`\n",
    "   ` ['a'].indexOf('b')  -1`\n",
    "\n",
    "You could use the `indexOf` method to detect whether the userâ€™s input is one of the items in an array of vowels.\n",
    "\n",
    "------\n",
    "\n",
    "## Extra Credit\n",
    "\n",
    "- Handle upper and lower case input\n",
    "- Handle the case of `y`\n",
    "- Handle common accented characters (consider using the [charCodeAt](https://developer.mozilla.org/en-US/docs/Web/JavaScript/Reference/Global_Objects/String/charCodeAt) method and this [reference of character codes](https://en.wikipedia.org/wiki/ISO/IEC_8859-1#Codepage_layout))\n",
    "- Write your program in such a way that the user will continue to be prompted until they enter an empty string\n"
   ]
  },
  {
   "cell_type": "markdown",
   "metadata": {},
   "source": [
    "\n",
    "# Exercise: Return of Change Return!\n",
    "\n",
    "_Note: This is the same exercise we did in Python only now we're implementing it in JavaScript!_\n",
    "\n",
    "## Objective\n",
    "\n",
    "Some supermarkets have automatic change dispensers. Let's write code that figures out how to divvy up an amount of change into the _fewest_ quarters, dimes, nickels, and pennies.\n",
    "\n",
    "1. Implement a simple program that satisfies the following requirements:\n",
    "    * Ask for the amount of change to dispense _in cents._ Assume that number will be less than or 100.\n",
    "    * Calculate the number of quarters necessary first.\n",
    "    * Then calculate the number of dimes, nickels, and pennies. If you do it in that order, you will minimize the number of coins.\n",
    "\n",
    "**Hint:** This is easiest done by updating a _running total_ of number of cents left to be put into coins.\n",
    "\n",
    "_Note: Using the `Math.floor` method._\n",
    "\n",
    "------\n",
    "\n",
    "## Extra Credit\n",
    "\n",
    "* Instead of assuming your cash register has an unlimited number of coins of each type, randomly generate how many of each type of coin you have to work with before computing the change to give and adjust what coins you return based on what's available; experiment with how many to generate, but start with 0 to 9 of each type\n",
    "\n",
    "------\n",
    "\n",
    "Sources:\n",
    "\n",
    "1. [Math](https://developer.mozilla.org/en-US/docs/Web/JavaScript/Reference/Global_Objects/Math) on Mozilla Developer Network\n"
   ]
  },
  {
   "cell_type": "markdown",
   "metadata": {},
   "source": [
    "\n",
    "# Exercise: Fun with Networks (jQuery Edition)\n",
    "\n",
    "## Objective\n",
    "\n",
    "Write a simple program that accesses a public JSON API and prints the results formatted in a readable way.\n",
    "\n",
    "1. Add jQuery to the pen using the pen settings Quick-add feature\n",
    "1. Using [jQuerys Ajax method](http://api.jquery.com/jQuery.ajax/), fetch JSON representing 5 randomly generated people from the following URL: [http://api.randomuser.me/?results=5](http://api.randomuser.me/?results=5)\n",
    "1. Print the results something like the following:\n",
    "\n",
    "```\n",
    "Name: Mr Aventino Lima\n",
    "Email: aventino.lima@example.com\n",
    "Username: heavybutterfly582\n",
    "Registration date: 10/2/2002\n",
    "Birth date: 6/5/1994\n",
    "\n",
    "Name: Mrs Sheryl Gardner\n",
    "Email: sheryl.gardner@example.com\n",
    "Username: whiteduck688\n",
    "Registration date: 8/11/2014\n",
    "Birth date: 6/4/1983\n",
    "\n",
    "# Repeat for the remaining people\n",
    "```\n",
    "\n",
    "_Hint: It might help you understand the structure of the returned JSON to run it through this [pretty printer](http://jsonprettyprint.com/)._\n",
    "\n",
    "------\n",
    "\n",
    "## Advanced\n",
    "\n",
    "- Format each entry as a card with the user's photo floated to the right and the email linked, something like the following (or prettier!):\n",
    "\n",
    "![Formatted cards](https://raw.githubusercontent.com/segdeha/pdxcodeguild/master/3.%20JavaScript/assets/formatted-cards.png?token=AAAQ0qHm3qC0ZkTXJQB8Ny5pqG9sjZwFks5Xlp0nwA%3D%3D)\n"
   ]
  },
  {
   "cell_type": "markdown",
   "metadata": {
    "collapsed": true
   },
   "source": [
    "# Translate one lab of your choosing from the past 5 Weeks in Javascript.\n",
    "\n",
    "This can be any python lab.\n",
    "\n",
    "Refactor a python lab and demonstrate your translation skills to the class!"
   ]
  },
  {
   "cell_type": "markdown",
   "metadata": {},
   "source": [
    "# Burrito Order Form\n",
    "\n",
    "Practice working as a team using modular JavaScript.\n",
    "\n",
    "## Requirements\n",
    "\n",
    "Our burrito order form needs the following features:\n",
    "\n",
    "- Form validation when the user submits the form\n",
    "- When the user changes ingredients, this should be reflected in the ingredients list\n",
    "- When the user changes ingredients or delivery options, the total price should update\n",
    "\n",
    "------\n",
    "\n",
    "## Directions\n",
    "\n",
    "1. As a team, review the requirements, which are documented in [JavaScript doc blocks](http://devdocs.magento.com/guides/v2.0/coding-standards/docblock-standard-javascript.html) in the following three files:\n",
    "    - `js/ingredients-updater.js`\n",
    "    - `js/total-updater.js`\n",
    "    - `js/validator.js`\n",
    "1. Decide amongst yourselves who will be responsible for which module\n",
    "1. Create a branch for your part of the work (e.g., `ingredients-updater`)\n",
    "\n",
    "Each of the modules should be able to work independently, but you should work together, pair, whiteboard, whatever it takes to satisfy the requirements.\n"
   ]
  },
  {
   "cell_type": "markdown",
   "metadata": {
    "collapsed": true
   },
   "source": [
    "# Lightbulb Switch\n",
    "\n",
    "Create an single html page that switces a lightbulb on and off on the click of a button.  \n",
    "\n",
    "\n"
   ]
  },
  {
   "cell_type": "markdown",
   "metadata": {},
   "source": [
    "# The Grid.\n",
    "\n",
    "Create a simple webpage with a six box layout.\n",
    "\n",
    "* Each box has some content (Text or something else.....)\n",
    "* When the user hovers over a box, change the box to a random color.\n",
    "* When the user clicks on a box, ask what color they want the box to be, and make the box that color.\n",
    "* At the top of the page display a dynamic title based upon the users hover position."
   ]
  },
  {
   "cell_type": "markdown",
   "metadata": {},
   "source": [
    "# Commas \n",
    "\n",
    "As the user types in a number into a text input, the number is shown below the input formatted with commas (in US English style)\n",
    "\n"
   ]
  },
  {
   "cell_type": "markdown",
   "metadata": {},
   "source": [
    "# Animate Foo\n",
    "When the \"Foo\" is clicked, it animates to the right by 100px over the course of 1s (and back when clicked again)"
   ]
  },
  {
   "cell_type": "code",
   "execution_count": null,
   "metadata": {
    "collapsed": true
   },
   "outputs": [],
   "source": []
  }
 ],
 "metadata": {
  "anaconda-cloud": {},
  "kernelspec": {
   "display_name": "Python [conda root]",
   "language": "python",
   "name": "conda-root-py"
  },
  "language_info": {
   "codemirror_mode": {
    "name": "ipython",
    "version": 3
   },
   "file_extension": ".py",
   "mimetype": "text/x-python",
   "name": "python",
   "nbconvert_exporter": "python",
   "pygments_lexer": "ipython3",
   "version": "3.5.2"
  },
  "widgets": {
   "state": {},
   "version": "1.1.2"
  }
 },
 "nbformat": 4,
 "nbformat_minor": 0
}
