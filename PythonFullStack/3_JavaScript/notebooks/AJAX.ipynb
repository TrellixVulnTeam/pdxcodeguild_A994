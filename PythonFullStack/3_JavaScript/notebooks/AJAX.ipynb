{
 "cells": [
  {
   "cell_type": "code",
   "execution_count": 2,
   "metadata": {
    "collapsed": false
   },
   "outputs": [
    {
     "data": {
      "text/html": [
       "<script>\n",
       "$.ajax({url: \"http://api.randomuser.me\",\n",
       "                    type: 'GET',\n",
       "                    data: {results: '5'},\n",
       "                    success: function(rsp){\n",
       "                       console.log(rsp.results);\n",
       "                       },\n",
       "                    error: function() {\n",
       "                        alert('error');\n",
       "                    }\n",
       "                   })\n",
       "</script>"
      ],
      "text/plain": [
       "<IPython.core.display.HTML object>"
      ]
     },
     "metadata": {},
     "output_type": "display_data"
    }
   ],
   "source": [
    "%%html\n",
    "<script>\n",
    "$.ajax({url: \"https://api.randomuser.me\",\n",
    "        \n",
    "        type: 'GET',\n",
    "        \n",
    "        data: {results: '5'},\n",
    "        \n",
    "        success: function(response){\n",
    "                       console.log(response);\n",
    "                       },\n",
    "        \n",
    "        error: function(error) {\n",
    "                        alert(error);\n",
    "                    }\n",
    "      });\n",
    "</script>"
   ]
  },
  {
   "cell_type": "code",
   "execution_count": null,
   "metadata": {
    "collapsed": true
   },
   "outputs": [],
   "source": []
  }
 ],
 "metadata": {
  "anaconda-cloud": {},
  "kernelspec": {
   "display_name": "Python [conda root]",
   "language": "python",
   "name": "conda-root-py"
  },
  "language_info": {
   "codemirror_mode": {
    "name": "ipython",
    "version": 3
   },
   "file_extension": ".py",
   "mimetype": "text/x-python",
   "name": "python",
   "nbconvert_exporter": "python",
   "pygments_lexer": "ipython3",
   "version": "3.5.2"
  },
  "widgets": {
   "state": {},
   "version": "1.1.2"
  }
 },
 "nbformat": 4,
 "nbformat_minor": 0
}
