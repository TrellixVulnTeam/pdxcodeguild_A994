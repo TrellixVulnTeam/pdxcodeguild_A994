{
 "cells": [
  {
   "cell_type": "markdown",
   "metadata": {},
   "source": [
    "# Forms\n",
    "\n",
    "HTML forms are what allows us to collect information from users, enabling customized experiences.\n",
    "\n",
    "[There is a lot to forms](https://developer.mozilla.org/en-US/docs/Web/Guide/HTML/Forms), but we’ll try to keep it relatively simple for now.\n",
    "\n",
    "------\n",
    "\n",
    "## Forms Syntax\n",
    "\n",
    "Betcha can’t guess what the tag is for a form…. If you guessed `<form></form>`, you would be correct. The `<form></form>` tag takes a minimum of two attributes: `method` and `action`.\n",
    "\n",
    "- `action` — The URL to which the form will be submitted\n",
    "- `method` — Describes the type of request to be made, either `GET` or `POST` (**never** use `GET` with a form involving sensitive information, such as passwords!)\n",
    "\n",
    "------\n",
    "\n",
    "Forms consist of one or more of various types of form fields including text inputs, radio buttons, checkboxes, select lists, and buttons. Each has specific uses. _Be careful to use form fields as intended, otherwise you’re likely to throw off your users!_\n",
    "\n",
    "------\n"
   ]
  },
  {
   "cell_type": "code",
   "execution_count": 51,
   "metadata": {
    "collapsed": false
   },
   "outputs": [
    {
     "data": {
      "text/html": [
       "<pre>\n",
       "\n",
       "<h2>Form Skeleton</h2>\n",
       "\n",
       "<form action='' method='POST'>\n",
       "    <input type=\"text\" name=\"my-text\" placeholder='Text'>\n",
       "    <input type=\"submit\">\n",
       "</form>\n",
       "\n",
       "\n",
       "</pre>"
      ],
      "text/plain": [
       "<IPython.core.display.HTML object>"
      ]
     },
     "metadata": {},
     "output_type": "display_data"
    }
   ],
   "source": [
    "%%html \n",
    "<pre>\n",
    "\n",
    "<h2>Form Skeleton</h2>\n",
    "\n",
    "<form action='' method='POST'>\n",
    "    <input type=\"text\" name=\"my-text\" placeholder='Text'>\n",
    "    <input type=\"submit\">\n",
    "</form>\n",
    "\n",
    "\n",
    "</pre>"
   ]
  },
  {
   "cell_type": "markdown",
   "metadata": {},
   "source": [
    "\n",
    "### Text inputs\n",
    "\n",
    "There are two common types of text inputs: plain text and passwords. It is also possible to designate text inputs as numbers, telephone numbers, email addresses, dates, and other specific foramts. The specialized types of text inputs aren’t widely supported yet, but you can use them safely because they will fallback to being plain text inputs on browsers where they’re not supported."
   ]
  },
  {
   "cell_type": "code",
   "execution_count": 41,
   "metadata": {
    "collapsed": false
   },
   "outputs": [
    {
     "data": {
      "text/html": [
       "<pre>\n",
       "\n",
       "<h2>Text inputs</h2>\n",
       "\n",
       "<textarea name=\"my-long-text\" placeholder=\"A Long Answer...\"></textarea>\n",
       "\n",
       "<input type=\"text\" name=\"my-text\" placeholder='Text'>\n",
       "<input type=\"password\" name=\"my-password\" placeholder='Password'>\n",
       "<input type=\"tel\" name=\"my-telephone-number\" placeholder='Telephone number'>\n",
       "\n",
       "</pre>"
      ],
      "text/plain": [
       "<IPython.core.display.HTML object>"
      ]
     },
     "metadata": {},
     "output_type": "display_data"
    }
   ],
   "source": [
    "%%html \n",
    "<pre>\n",
    "\n",
    "<h2>Text inputs</h2>\n",
    "\n",
    "<textarea name=\"my-long-text\" placeholder=\"A Long Answer...\"></textarea>\n",
    "\n",
    "<input type=\"text\" name=\"my-text\" placeholder='Text'>\n",
    "<input type=\"password\" name=\"my-password\" placeholder='Password'>\n",
    "<input type=\"tel\" name=\"my-telephone-number\" placeholder='Telephone number'>\n",
    "\n",
    "</pre>"
   ]
  },
  {
   "cell_type": "code",
   "execution_count": 40,
   "metadata": {
    "collapsed": false
   },
   "outputs": [
    {
     "data": {
      "text/html": [
       "<pre>\n",
       "\n",
       "<h2>Checkboxes</h2>\n",
       "\n",
       "<em>Checkboxes are used when you want to allow the user to make an “on/off” \n",
       "style decision or have them select several out of a group of options.</em>\n",
       "\n",
       "\n",
       "<input type=\"checkbox\" name=\"agree-to-terms\"> Agree to terms?\n",
       "\n",
       "<p>Select your interests from the options below:</p>\n",
       "<input type=\"checkbox\" name=\"interests\" value=\"volleyball\"> Volleyball\n",
       "<input type=\"checkbox\" name=\"interests\" value=\"disc-golf\"> Disc Golf\n",
       "<input type=\"checkbox\" name=\"interests\" value=\"mtb\"> Mountain Biking\n",
       "<input type=\"checkbox\" name=\"interests\" value=\"camping\"> Camping\n",
       "\n",
       "\n",
       "\n",
       "_Note: When several checkboxes share the same name, their data will be sent to the server as a group. **Only checked checkboxes will be included!**_\n",
       "\n",
       "    \n",
       "    \n",
       "</pre>"
      ],
      "text/plain": [
       "<IPython.core.display.HTML object>"
      ]
     },
     "metadata": {},
     "output_type": "display_data"
    }
   ],
   "source": [
    "%%html\n",
    "<pre>\n",
    "\n",
    "<h2>Checkboxes</h2>\n",
    "\n",
    "<em>Checkboxes are used when you want to allow the user to make an “on/off” \n",
    "style decision or have them select several out of a group of options.</em>\n",
    "\n",
    "\n",
    "<input type=\"checkbox\" name=\"agree-to-terms\"> Agree to terms?\n",
    "\n",
    "<p>Select your interests from the options below:</p>\n",
    "<input type=\"checkbox\" name=\"interests\" value=\"volleyball\"> Volleyball\n",
    "<input type=\"checkbox\" name=\"interests\" value=\"disc-golf\"> Disc Golf\n",
    "<input type=\"checkbox\" name=\"interests\" value=\"mtb\"> Mountain Biking\n",
    "<input type=\"checkbox\" name=\"interests\" value=\"camping\"> Camping\n",
    "\n",
    "\n",
    "\n",
    "_Note: When several checkboxes share the same name, their data will be sent to the server as a group. **Only checked checkboxes will be included!**_\n",
    "\n",
    "    \n",
    "    \n",
    "</pre>"
   ]
  },
  {
   "cell_type": "code",
   "execution_count": 39,
   "metadata": {
    "collapsed": false
   },
   "outputs": [
    {
     "data": {
      "text/html": [
       "<pre>\n",
       "\n",
       "<h2>Radio buttons</h2>\n",
       "\n",
       "Radio buttons are used to allow the user to choose exactly one item from a group of two or more options.\n",
       "\n",
       "Example:\n",
       "\n",
       "<p>Select our favorite day of the week:</p>\n",
       "<input type=\"radio\" name=\"fav-day\" value=\"sun\"> Sunday\n",
       "<input type=\"radio\" name=\"fav-day\" value=\"tue\"> Tuesday\n",
       "<input type=\"radio\" name=\"fav-day\" value=\"wed\"> Wednesday\n",
       "<input type=\"radio\" name=\"fav-day\" value=\"thu\"> Thursday\n",
       "<input type=\"radio\" name=\"fav-day\" value=\"fri\"> Friday\n",
       "<input type=\"radio\" name=\"fav-day\" value=\"sat\" checked> Saturday\n",
       "\n",
       "Notice that the radio buttons above all share the same name. This is what tells the browser to restrict the user to choosing only one of the set._\n",
       "\n",
       "Also notice above that the input for Saturday includes the `checked` attribute. This specifies to the browser that this value is checked by default._\n",
       "\n",
       "\n",
       "</pre>"
      ],
      "text/plain": [
       "<IPython.core.display.HTML object>"
      ]
     },
     "metadata": {},
     "output_type": "display_data"
    }
   ],
   "source": [
    "%%html\n",
    "<pre>\n",
    "\n",
    "<h2>Radio buttons</h2>\n",
    "\n",
    "Radio buttons are used to allow the user to choose exactly one item from a group of two or more options.\n",
    "\n",
    "Example:\n",
    "\n",
    "<p>Select our favorite day of the week:</p>\n",
    "<input type=\"radio\" name=\"fav-day\" value=\"sun\"> Sunday\n",
    "<input type=\"radio\" name=\"fav-day\" value=\"tue\"> Tuesday\n",
    "<input type=\"radio\" name=\"fav-day\" value=\"wed\"> Wednesday\n",
    "<input type=\"radio\" name=\"fav-day\" value=\"thu\"> Thursday\n",
    "<input type=\"radio\" name=\"fav-day\" value=\"fri\"> Friday\n",
    "<input type=\"radio\" name=\"fav-day\" value=\"sat\" checked> Saturday\n",
    "\n",
    "Notice that the radio buttons above all share the same name. This is what tells the browser to restrict the user to choosing only one of the set._\n",
    "\n",
    "Also notice above that the input for Saturday includes the `checked` attribute. This specifies to the browser that this value is checked by default._\n",
    "\n",
    "\n",
    "</pre>"
   ]
  },
  {
   "cell_type": "code",
   "execution_count": 38,
   "metadata": {
    "collapsed": false
   },
   "outputs": [
    {
     "data": {
      "text/html": [
       "<pre>\n",
       "\n",
       "<h3>File inputs</h3>\n",
       "\n",
       "File inputs allow the user to select a file from their filesystem to be uploaded when the form is submitted.\n",
       "\n",
       "Example:\n",
       "\n",
       "    <p>Select a goofy photo to upload:</p>\n",
       "    <input type=\"file\" name=\"goofy-photo\">\n",
       "\n",
       "\n",
       "</pre>"
      ],
      "text/plain": [
       "<IPython.core.display.HTML object>"
      ]
     },
     "metadata": {},
     "output_type": "display_data"
    }
   ],
   "source": [
    "%%html\n",
    "<pre>\n",
    "\n",
    "<h3>File inputs</h3>\n",
    "\n",
    "File inputs allow the user to select a file from their filesystem to be uploaded when the form is submitted.\n",
    "\n",
    "Example:\n",
    "\n",
    "    <p>Select a goofy photo to upload:</p>\n",
    "    <input type=\"file\" name=\"goofy-photo\">\n",
    "\n",
    "\n",
    "</pre>"
   ]
  },
  {
   "cell_type": "code",
   "execution_count": 37,
   "metadata": {
    "collapsed": false
   },
   "outputs": [
    {
     "data": {
      "text/html": [
       "<pre>\n",
       "\n",
       "\n",
       "<h3>Select lists</h3>\n",
       "\n",
       "Also known as “drop downs,” by default select lists allow users to select one item from a list of options.\n",
       "\n",
       "<select name=\"state-in-the-pnw\">\n",
       "    <option value=\"ID\">Idaho</option>\n",
       "    <option value=\"OR\">Oregon</option>\n",
       "    <option value=\"WA\">Washington</option>\n",
       "</select>\n",
       "\n",
       "\n",
       "\n",
       "Select lists can take the optional `multiple` attribute that allows the user to select multiple options.\n",
       "\n",
       "<select multiple name=\"favorite-cuisines\">\n",
       "    <option>Indian</option>\n",
       "    <option>Italian</option>\n",
       "    <option>Mexican</option>\n",
       "    <option selected>Thai</option>\n",
       "</select>\n",
       "\n",
       "    \n",
       "\n",
       "</pre>"
      ],
      "text/plain": [
       "<IPython.core.display.HTML object>"
      ]
     },
     "metadata": {},
     "output_type": "display_data"
    }
   ],
   "source": [
    "%%html\n",
    "<pre>\n",
    "\n",
    "\n",
    "<h3>Select lists</h3>\n",
    "\n",
    "Also known as “drop downs,” by default select lists allow users to select one item from a list of options.\n",
    "\n",
    "<select name=\"state-in-the-pnw\">\n",
    "    <option value=\"ID\">Idaho</option>\n",
    "    <option value=\"OR\">Oregon</option>\n",
    "    <option value=\"WA\">Washington</option>\n",
    "</select>\n",
    "\n",
    "\n",
    "\n",
    "Select lists can take the optional `multiple` attribute that allows the user to select multiple options.\n",
    "\n",
    "<select multiple name=\"favorite-cuisines\">\n",
    "    <option>Indian</option>\n",
    "    <option>Italian</option>\n",
    "    <option>Mexican</option>\n",
    "    <option selected>Thai</option>\n",
    "</select>\n",
    "\n",
    "    \n",
    "\n",
    "</pre>"
   ]
  },
  {
   "cell_type": "code",
   "execution_count": 54,
   "metadata": {
    "collapsed": false
   },
   "outputs": [
    {
     "data": {
      "text/html": [
       "<pre>\n",
       "\n",
       "<h3>Buttons</h3>\n",
       "\n",
       "    <button>Submit</button>\n",
       "\n",
       "    <input type=\"submit\" value=\"Submit\">\n",
       "\n",
       "</pre>"
      ],
      "text/plain": [
       "<IPython.core.display.HTML object>"
      ]
     },
     "metadata": {},
     "output_type": "display_data"
    }
   ],
   "source": [
    "%%html\n",
    "<pre>\n",
    "\n",
    "<h3>Buttons</h3>\n",
    "\n",
    "    <button>Submit</button>\n",
    "\n",
    "    <input type=\"submit\" value=\"Submit\">\n",
    "\n",
    "</pre>\n"
   ]
  },
  {
   "cell_type": "code",
   "execution_count": 33,
   "metadata": {
    "collapsed": false
   },
   "outputs": [
    {
     "data": {
      "text/html": [
       "<pre>\n",
       "\n",
       "<h3>Labels</h3>\n",
       "\n",
       "It’s good form (har har) to put a `< label >` tag around your form fields. This improves the user experience by allowing the user to click on the label text to select the form field.\n",
       "\n",
       "<label>\n",
       "    <input type=\"checkbox\" name=\"newsletter\"> Receive newsletter?\n",
       "</label>\n",
       "\n",
       "\n",
       "</pre>"
      ],
      "text/plain": [
       "<IPython.core.display.HTML object>"
      ]
     },
     "metadata": {},
     "output_type": "display_data"
    }
   ],
   "source": [
    "%%html\n",
    "<pre>\n",
    "\n",
    "<h3>Labels</h3>\n",
    "\n",
    "It’s good form (har har) to put a `< label >` tag around your form fields. This improves the user experience by allowing the user to click on the label text to select the form field.\n",
    "\n",
    "<label>\n",
    "    <input type=\"checkbox\" name=\"newsletter\"> Receive newsletter?\n",
    "</label>\n",
    "\n",
    "\n",
    "</pre>"
   ]
  }
 ],
 "metadata": {
  "anaconda-cloud": {},
  "kernelspec": {
   "display_name": "Python [conda root]",
   "language": "python",
   "name": "conda-root-py"
  },
  "language_info": {
   "codemirror_mode": {
    "name": "ipython",
    "version": 3
   },
   "file_extension": ".py",
   "mimetype": "text/x-python",
   "name": "python",
   "nbconvert_exporter": "python",
   "pygments_lexer": "ipython3",
   "version": "3.5.2"
  },
  "widgets": {
   "state": {},
   "version": "1.1.2"
  }
 },
 "nbformat": 4,
 "nbformat_minor": 0
}
