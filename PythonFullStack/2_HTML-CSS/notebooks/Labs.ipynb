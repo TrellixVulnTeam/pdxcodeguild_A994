{
 "cells": [
  {
   "cell_type": "markdown",
   "metadata": {},
   "source": [
    "# Exercise: Create a Simple HTML Page ( In Class)\n",
    "\n",
    "Create a simple page in HTML to get familiar with how tags work.\n",
    "\n",
    "## Extra Credit\n",
    "\n",
    "Use the [HTML element reference](https://developer.mozilla.org/en-US/docs/Web/HTML/Element) to find tags not covered in [the HTML lesson](https://github.com/segdeha/pdxcodeguild/blob/master/2.%20HTML%20%26%20CSS/html.md) (e.g., `<address></address>`, `<cite></cite>`, or `<dl></dl>`) and use them appropriately in your document.\n"
   ]
  },
  {
   "cell_type": "markdown",
   "metadata": {
    "collapsed": false
   },
   "source": [
    "# Exercise: Create a Simple Login Form\n",
    "\n",
    "## Objective\n",
    "\n",
    "Create a simple login form using HTML.\n",
    "\n",
    "1. Log in to [CodePen](http://codepen.io) and create a new pen\n",
    "1. Copy and paste the following into the CSS panel: `label {display: block;}`\n",
    "1. Create a form that meets the following requirements:\n",
    "    - Form action is `https://example.com/login`\n",
    "    - Form method is `POST`\n",
    "    - Form contains a text input for the user’s username\n",
    "    - Form contains a password input for the user’s password\n",
    "    - Form contains a checkbox input for whether or not the site should remember the user’s login\n",
    "    - Form contains two radio inputs with the name `newsletter` and the values `yes` and `no` (with `no` selected by default) to capture whether or not the user wants to receive the site’s newsletter\n",
    "    - Form contains a select input for the user’s state (use the HTML from [this pen](http://codepen.io/segdeha/pen/gMpqdY?editors=1000) for the select list)\n",
    "    - Form contains a button with the label `Submit`\n",
    "\n",
    "Copy and paste the following into the CSS pane in your pen to help with formatting (I’ll explain what it does exactly when we start learning CSS):\n",
    "\n",
    "    label {\n",
    "        display: block;\n",
    "    }\n",
    "\n",
    "------\n",
    "\n",
    "## Extra Credit\n",
    "\n",
    "- Add more fields of varying types\n",
    "- Try grouping related fields using the `<fieldset></fieldset>` tag\n",
    "\n"
   ]
  },
  {
   "cell_type": "markdown",
   "metadata": {},
   "source": [
    "# Exercise: Create a Simple Table\n",
    "\n",
    "## Objective\n",
    "\n",
    "Create a table of data using HTML.\n",
    "\n",
    "1. Log in to [CodePen](http://codepen.io)\n",
    "1. Create a new pen\n",
    "1. Make a table using the names and Twitter handles of our scheduled guest speakers, listed below\n",
    "1. The top row should contain table header cells (`<th></th>`)\n",
    "1. The data rows should contain non-header table cells (`<td></td>`)\n",
    "\n",
    "------\n",
    "\n",
    "    -------------------------------------\n",
    "    | Name           | Twitter Handle   |\n",
    "    -------------------------------------\n",
    "    | Kelly de Vries | @kdv24           |\n",
    "    -------------------------------------\n",
    "    | Melody Dawn    | @melodydawnpdx   |\n",
    "    -------------------------------------\n",
    "    | David Garrett  | @akaDavidGarrett |\n",
    "    -------------------------------------\n",
    "\n",
    "\n",
    "------\n",
    "\n",
    "## Extra Credit\n",
    "\n",
    "- Link each speaker’s Twitter handle to their profile URL\n",
    "- Add a column with the header “Avatar” and display each speaker’s Twitter profile photo using the following HTML: `<img src=\"URL-GOES-HERE\" alt=\"PERSON’S-NAME-GOES-HERE\" style=\"width: 32px;\">`\n",
    "\n",
    "[Solution](http://codepen.io/segdeha/pen/GqJzOa?editors=1000)\n"
   ]
  },
  {
   "cell_type": "markdown",
   "metadata": {},
   "source": [
    "# Simple Bio\n",
    "\n",
    "Write up a short bio webpage for yourself or someone famous.\n",
    "Include:\n",
    "\n",
    "* A written introduction\n",
    "* A link to their favorite Wikipedia article in that introduction\n",
    "* A picture of them (or a placeholder)\n",
    "* A list of places where they've lived\n",
    "* A quote from them\n",
    "* Proper structuring HTML elements\n",
    "\n",
    "The point of this project is _not_ to make something that looks pretty (and it won't), it is just to have good structure.\n",
    "\n",
    "## Advanced\n",
    "\n",
    "* Peruse the [complete HTML element list](https://developer.mozilla.org/en-US/docs/Web/HTML/Element) and try to incorporate some of them.\n",
    "\n",
    "Now, let's vamp up your bio.\n",
    "In an external stylesheet, add the following stylistic features:\n",
    "\n",
    "*   Pick a color scheme and modify the background, body text, and link text color.\n",
    "\n",
    "*   Change the typeface of the quote.\n",
    "\n",
    "*   Add a rounded border to the picture.\n",
    "\n",
    "*   Change the bullet points on the list of places to be the gaudy character `☞`.\n",
    "    Literally copy and paste that character from this problem into your CSS.\n",
    "\n",
    "If you need to edit the HTML file to add classes or IDs, that's fine."
   ]
  },
  {
   "cell_type": "markdown",
   "metadata": {},
   "source": [
    "# Pyramid\n",
    "\n",
    "* Each box should be a `div`; there should be no other elements in the `body`\n",
    "* Every box has a one pixel black border\n",
    "* \"Row\" boxes should have 20 pixels of spacing between each other and between the page edges\n",
    "* \"Inner\" boxes should have 10 pixels of spacing between themselves and the edge of the \"row\" box they are in\n",
    "* Each \"row\" box should be 100 pixels high (including border) and the full width of the page (taking into account the above spacing)\n",
    "* Each \"inner\" box should be the full height of the row (taking into account the above spacing)\n",
    "* The first \"row\" box contains one \"inner\" box that is full width\n",
    "* The second \"row\" box contains two \"inner\" boxes that fill out the full width between them in a 4:1 ratio\n",
    "* The third \"row\" box contains three \"inner\" boxes that are 90 pixels wide and are spread out over the entire \"row\" box equally horizontally\n"
   ]
  },
  {
   "cell_type": "markdown",
   "metadata": {},
   "source": [
    "# Commit to a Group Project\n",
    "\n",
    "Find the repo here:\n",
    "    \n",
    "https://bitbucket.org/pdxcodeguild_bootcamp_nov4/crimedata"
   ]
  },
  {
   "cell_type": "markdown",
   "metadata": {},
   "source": [
    "# Full FlexBox Layout\n",
    "\n",
    "Recreate the following sample layout using just flexboxes.\n",
    "\n",
    "![Sidebar Layout](sidebar.jpeg)\n",
    "\n",
    "*   A sidebar that is 30% of the page width, with:\n",
    "\n",
    "    * A site title\n",
    "    * A vertical list of nav links\n",
    "    * Don't worry about making the sidebar full height or a different background color\n",
    "\n",
    "*   A main page taking up the rest of the width, with:\n",
    "\n",
    "    * A page title\n",
    "    * A large image taking up the full width\n",
    "    * Three small paragraphs aligned under the image taking up the full width\n",
    "    * Two full-width paragraphs after that\n",
    "    * Reasonable spacing between all of these elements\n",
    "\n",
    "You can fill in whatever example text and splash graphic you want.\n"
   ]
  },
  {
   "cell_type": "markdown",
   "metadata": {
    "collapsed": true
   },
   "source": [
    "# Reflow the onion!\n",
    "\n",
    "In class I will show the original page layout.\n",
    "\n",
    "Use the knowledge and resources you currently have to mimick the css style of a news webpage, like the oinion!\n",
    "\n",
    "** see labs/index.html **"
   ]
  },
  {
   "cell_type": "code",
   "execution_count": null,
   "metadata": {
    "collapsed": true
   },
   "outputs": [],
   "source": []
  }
 ],
 "metadata": {
  "anaconda-cloud": {},
  "kernelspec": {
   "display_name": "Python [conda root]",
   "language": "python",
   "name": "conda-root-py"
  },
  "language_info": {
   "codemirror_mode": {
    "name": "ipython",
    "version": 3
   },
   "file_extension": ".py",
   "mimetype": "text/x-python",
   "name": "python",
   "nbconvert_exporter": "python",
   "pygments_lexer": "ipython3",
   "version": "3.5.2"
  },
  "widgets": {
   "state": {},
   "version": "1.1.2"
  }
 },
 "nbformat": 4,
 "nbformat_minor": 0
}
