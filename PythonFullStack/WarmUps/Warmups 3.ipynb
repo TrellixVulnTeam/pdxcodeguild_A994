{
 "cells": [
  {
   "cell_type": "markdown",
   "metadata": {},
   "source": [
    "# Python\n",
    "\n",
    "Find the rarest key and also the rarest value."
   ]
  },
  {
   "cell_type": "code",
   "execution_count": 3,
   "metadata": {
    "collapsed": true
   },
   "outputs": [],
   "source": [
    "names = {'Alyssa': 22,\n",
    "         'Charley': 25,\n",
    "         'Dan': 25,\n",
    "         'Jeff': 20,\n",
    "         'Kasey': 20,\n",
    "         'Kim': 20,\n",
    "         'Morgan': 25,\n",
    "         'Ryan': 25,\n",
    "         'Stef': 22 }\n"
   ]
  },
  {
   "cell_type": "markdown",
   "metadata": {},
   "source": [
    "# Python\n",
    "\n",
    "Given the following input list of strings, write functions to produce the output below.\n",
    "\n",
    "1. Transform the input list of strings, and create a list of lists containing each unique letter in the input list.\n",
    "2. Output a dictionary of letter frequency.\n",
    "3. Output a list of unique values found in the input list.\n",
    "\n",
    "```\n",
    "numbers = ['a', 'b', 'a', 'a', 'b', 'c', 'c', 'c', 'c', 'd']\n",
    "1. [ ['d'],  ['b', 'b'], ['a', 'a', 'a'], ['c', 'c', 'c', 'c'] ]\n",
    "2. {'a': 3, 'b': 2, 'c': 4, 'd': 1}\n",
    "3. ['a', 'b', 'c', 'd']\n",
    "```"
   ]
  },
  {
   "cell_type": "markdown",
   "metadata": {},
   "source": [
    "## Python\n",
    "\n",
    "Define a function which can generate a dictionary where the keys are numbers between 1 and 20 (both included) and the values are square of keys. \n",
    "\n",
    "Return the generated dictionary.\n"
   ]
  },
  {
   "cell_type": "markdown",
   "metadata": {},
   "source": [
    "## Python\n",
    "\n",
    "Write a function to compute 5/0 and use try/except to catch the exception and raise a different error.\n"
   ]
  },
  {
   "cell_type": "code",
   "execution_count": null,
   "metadata": {
    "collapsed": true
   },
   "outputs": [],
   "source": []
  }
 ],
 "metadata": {
  "anaconda-cloud": {},
  "kernelspec": {
   "display_name": "Python [conda root]",
   "language": "python",
   "name": "conda-root-py"
  },
  "language_info": {
   "codemirror_mode": {
    "name": "ipython",
    "version": 3
   },
   "file_extension": ".py",
   "mimetype": "text/x-python",
   "name": "python",
   "nbconvert_exporter": "python",
   "pygments_lexer": "ipython3",
   "version": "3.5.2"
  },
  "widgets": {
   "state": {},
   "version": "1.1.2"
  }
 },
 "nbformat": 4,
 "nbformat_minor": 0
}
