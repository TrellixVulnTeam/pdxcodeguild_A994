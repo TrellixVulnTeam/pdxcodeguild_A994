{
 "cells": [
  {
   "cell_type": "markdown",
   "metadata": {},
   "source": [
    "## Python\n",
    "\n",
    "Given a list of 3 int values, return their sum. \n",
    "\n",
    "However, if one of the values is 13 then it does not count towards the sum and values to its right do not count. \n",
    "\n",
    "So for example, if b is 13, then both b and c do not count. \n",
    "\n",
    "If 13 is the first number, return 0.\n",
    "\n",
    "```\n",
    "In: 1, 2, 3 => Out: 6\n",
    "In: 5, 13, 6 => Out: 5\n",
    "In: 1, 13, 9 => Out: 1\n",
    "```"
   ]
  },
  {
   "cell_type": "markdown",
   "metadata": {},
   "source": [
    "## Python\n",
    "\n",
    "Given three ints, a b c, return True if one of b or c is \"close\" (differing from a by at most 1), while the other is \"far\", differing from both other values by 2 or more. \n",
    "\n",
    "```\n",
    "In: 1, 2, 10 =>  Out: True\n",
    "In: 1, 2, 3 =>  Out: True\n",
    "In: 4, 1, 3 =>  Out: True\n",
    "In: 4, 11, 34 =>  Out: False     \n",
    "```"
   ]
  },
  {
   "cell_type": "markdown",
   "metadata": {},
   "source": [
    "# Python\n",
    "\n",
    "Write a function, than given an input string, 'mask' all of the characters with a '#' except for the last four characters.\n",
    "```\n",
    "In: '1234' => Out: '1234'\n",
    "In: '123456789' => Out: '#####6789'\n",
    "```"
   ]
  },
  {
   "cell_type": "markdown",
   "metadata": {},
   "source": [
    "# Python \n",
    "\n",
    "In a small town the population is 1000 at the beginning of a year. \n",
    "\n",
    "The population regularly increases by 2 percent per year and moreover 50 new inhabitants per year come to live in the town. \n",
    "\n",
    "How many years does the town need to see its population greater or equal to 1200 inhabitants?\n",
    "\n",
    "Write a function to determine the the answer given input of the starting population, the number of additional inhabitants coming each year, the anual percent of increase, and the target population.\n",
    "\n",
    "solve(start_pop, additional, delta, target)\n",
    "\n",
    "In: solve(1000, 50, 2, 1200) => Out: 3 Years.\n",
    "\n"
   ]
  },
  {
   "cell_type": "markdown",
   "metadata": {
    "collapsed": true
   },
   "source": [
    "# Python\n",
    "\n",
    "```\n",
    "In: key = [1, -5, 3, 2]\n",
    "\n",
    "In: message = 'test'\n",
    "\n",
    "Out: 'u`vu'\n",
    "```\n",
    "\n",
    "encrypt a given message by rotating each charachters ordinals by a given amount in the key.\n",
    "\n",
    "Sync with the first four characters of the messge, and rotate each char with the coresponding char in the key, then move the four char 'window' encode the next four, until the message is fully encrypted."
   ]
  }
 ],
 "metadata": {
  "anaconda-cloud": {},
  "kernelspec": {
   "display_name": "Python [conda root]",
   "language": "python",
   "name": "conda-root-py"
  },
  "language_info": {
   "codemirror_mode": {
    "name": "ipython",
    "version": 3
   },
   "file_extension": ".py",
   "mimetype": "text/x-python",
   "name": "python",
   "nbconvert_exporter": "python",
   "pygments_lexer": "ipython3",
   "version": "3.5.2"
  },
  "widgets": {
   "state": {},
   "version": "1.1.2"
  }
 },
 "nbformat": 4,
 "nbformat_minor": 0
}
