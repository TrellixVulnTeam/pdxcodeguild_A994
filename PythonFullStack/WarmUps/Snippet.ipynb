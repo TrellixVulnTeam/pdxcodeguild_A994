{
 "cells": [
  {
   "cell_type": "markdown",
   "metadata": {},
   "source": [
    "## Python\n",
    "\n",
    "Write a function that finds the shortest possible text snippet in a given string, containing all of the target words in an input list of strings.\n",
    "\n",
    "The function will take a string and a list as input, and returns a string as output, and return the earliest match.  If there are no matches return None.\n",
    "\n",
    "For Example:\n",
    "```\n",
    "\n",
    "In: 'many students are writing code', [students, code]\n",
    "Out: 'students are writing code'\n",
    "\n",
    "In: 'a b c d a', [a, c, d]\n",
    "Out: 'c d a'\n",
    "\n",
    "```"
   ]
  },
  {
   "cell_type": "code",
   "execution_count": null,
   "metadata": {
    "collapsed": true
   },
   "outputs": [],
   "source": []
  }
 ],
 "metadata": {
  "kernelspec": {
   "display_name": "Python [conda root]",
   "language": "python",
   "name": "conda-root-py"
  },
  "language_info": {
   "codemirror_mode": {
    "name": "ipython",
    "version": 3
   },
   "file_extension": ".py",
   "mimetype": "text/x-python",
   "name": "python",
   "nbconvert_exporter": "python",
   "pygments_lexer": "ipython3",
   "version": "3.5.2"
  },
  "widgets": {
   "state": {},
   "version": "1.1.2"
  }
 },
 "nbformat": 4,
 "nbformat_minor": 0
}
