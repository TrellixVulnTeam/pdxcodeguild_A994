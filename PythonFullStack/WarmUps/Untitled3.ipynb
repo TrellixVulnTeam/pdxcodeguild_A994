{
 "cells": [
  {
   "cell_type": "markdown",
   "metadata": {},
   "source": [
    "## Python\n",
    "\n",
    "Create a list of tuples representing every combination of T-Shirt color and size"
   ]
  },
  {
   "cell_type": "markdown",
   "metadata": {},
   "source": [
    "```\n",
    "sizes = ['Sm', 'Md', 'Lg']\n",
    "colors = ['AliceBlue', 'DarkSalmon', 'CloudWhite']\n",
    "```"
   ]
  },
  {
   "cell_type": "code",
   "execution_count": null,
   "metadata": {
    "collapsed": true
   },
   "outputs": [],
   "source": [
    "pytest, pytest-django, ipdb, pytest-cov"
   ]
  },
  {
   "cell_type": "code",
   "execution_count": null,
   "metadata": {
    "collapsed": true
   },
   "outputs": [],
   "source": []
  },
  {
   "cell_type": "markdown",
   "metadata": {},
   "source": [
    "## Python \n",
    "Write a function to calculate the largest primt number up to a maximum number.  Return only the largest number.\n",
    "Be careful not to eneter too large of a value.  \n",
    "\n",
    "#### Hint:\n",
    "Improve the performace of your prime number calculator by only calculating the pries up to the square root of the maximum!\n",
    "\n",
    "\n",
    "\n",
    "# Advanced\n",
    "Make an infinite sequence generator function to calculate the next prme number sitarting with 2.  \n",
    "\n",
    "use `yield`"
   ]
  },
  {
   "cell_type": "code",
   "execution_count": null,
   "metadata": {
    "collapsed": true
   },
   "outputs": [],
   "source": []
  }
 ],
 "metadata": {
  "anaconda-cloud": {},
  "kernelspec": {
   "display_name": "Python [conda root]",
   "language": "python",
   "name": "conda-root-py"
  },
  "language_info": {
   "codemirror_mode": {
    "name": "ipython",
    "version": 3
   },
   "file_extension": ".py",
   "mimetype": "text/x-python",
   "name": "python",
   "nbconvert_exporter": "python",
   "pygments_lexer": "ipython3",
   "version": "3.5.2"
  },
  "widgets": {
   "state": {},
   "version": "1.1.2"
  }
 },
 "nbformat": 4,
 "nbformat_minor": 0
}
