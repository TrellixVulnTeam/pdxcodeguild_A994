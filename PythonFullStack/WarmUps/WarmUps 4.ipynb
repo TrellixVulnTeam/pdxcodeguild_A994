{
 "cells": [
  {
   "cell_type": "markdown",
   "metadata": {},
   "source": [
    "# Python\n",
    "\n",
    "## Given a list of ints, return the number of 9's in the array.\n",
    "\n",
    "```\n",
    "[1, 2, 9] => 1\n",
    "[1, 9, 9] =>  2\n",
    "[1, 9, 9, 3, 9] =>  3\n",
    "```"
   ]
  },
  {
   "cell_type": "markdown",
   "metadata": {},
   "source": [
    "# Count the number of Duplicates\n",
    "\n",
    "Write a function that will return the count of distinct case-insensitive alphabetic characters and numeric digits that occur more than once in the input string.\n",
    "\n",
    "```\n",
    "\"abcde\" -> 0 \n",
    "\"aabbcde\" -> 2 \n",
    "\"aabbcdeB\" -> 2 \n",
    "\"Indivisibilities\" -> 2\n",
    "\"aa11\" -> 2\n",
    "```"
   ]
  },
  {
   "cell_type": "markdown",
   "metadata": {
    "collapsed": true
   },
   "source": [
    "## Anagrams\n",
    "\n",
    "What is an anagram? Well, two words are anagrams of each other if they both contain *all* of  the same letters.  \n",
    "\n",
    "_\"The result of rearranging the letters of a word or phrase to produce a new word or phrase, using all the original letters exactly once\"_\n",
    "\n",
    "Write a function that will find all the anagrams of a word from a list. You will be given two inputs a word and an array with words. You should return an array of all the anagrams or an empty array if there are none.\n",
    "\n",
    "```\n",
    "anagrams('abba', ['aabb', 'abcd', 'bbaa', 'dada']) => ['aabb', 'bbaa']\n",
    "\n",
    "anagrams('racer', ['crazer', 'carer', 'racar', 'caers', 'racer']) => ['carer', 'racer']\n",
    "\n",
    "anagrams('laser', ['lazing', 'lazy',  'lacer']) => []\n",
    "```\n",
    "\n",
    "#### Super Advanced:\n",
    "    Anagram generator...?"
   ]
  },
  {
   "cell_type": "code",
   "execution_count": null,
   "metadata": {
    "collapsed": true
   },
   "outputs": [],
   "source": []
  }
 ],
 "metadata": {
  "anaconda-cloud": {},
  "kernelspec": {
   "display_name": "Python [conda root]",
   "language": "python",
   "name": "conda-root-py"
  },
  "language_info": {
   "codemirror_mode": {
    "name": "ipython",
    "version": 3
   },
   "file_extension": ".py",
   "mimetype": "text/x-python",
   "name": "python",
   "nbconvert_exporter": "python",
   "pygments_lexer": "ipython3",
   "version": "3.5.2"
  },
  "widgets": {
   "state": {},
   "version": "1.1.2"
  }
 },
 "nbformat": 4,
 "nbformat_minor": 0
}
