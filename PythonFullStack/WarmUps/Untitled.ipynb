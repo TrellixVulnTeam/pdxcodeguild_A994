{
 "cells": [
  {
   "cell_type": "markdown",
   "metadata": {},
   "source": [
    "## Python\n",
    "\n",
    "Write a function that takes a string of parentheses, and determines if the order of the parentheses is valid. \n",
    "\n",
    "Examples:\n",
    "    \n",
    "```\n",
    "\"()\" => True\n",
    "\n",
    "\")(()))\" => False\n",
    "\n",
    "\"(' )\" => True\n",
    "\n",
    "\"(())((()())())\" => True\n",
    "```\n"
   ]
  },
  {
   "cell_type": "markdown",
   "metadata": {},
   "source": [
    "## Python \n",
    "\n",
    "Write a function that uses regular expressions to match all of the valid dates in the list provided.\n",
    "\n",
    "```\n",
    "dates = ['2012/09/18 12:10',\n",
    "'2001/09/30 23:59:11',\n",
    "'1995/12/01 12:12:12',\n",
    "'1001/01/07 14:27',\n",
    "'2010/10/20 10:10',\n",
    "'2000/01/01 01:01:01',\n",
    "'2007/07/22 22:34:59',\n",
    "'2010/05/05 00:00:00',\n",
    "'2012/9/18 23:40',\n",
    "'2013/09/09 09:09',\n",
    "'2012/00/01 01:49:59',\n",
    "'2012/13/25 22:17:00',\n",
    "'1994/11/00 12:12',\n",
    "'2012/12/4 12:12',\n",
    "'2009/11/11 24:00:00',\n",
    "'2012/06/24 13:60',\n",
    "'2002/10/10 14:59:60',\n",
    "'a2011/11/11 11:11:11',\n",
    "'2005/05/05 05:05:05d']\n",
    "```"
   ]
  },
  {
   "cell_type": "markdown",
   "metadata": {},
   "source": [
    "## Python\n",
    "\n",
    "Write a function that uses regex to find and highlight repeated words in a body of text. \n",
    "\n",
    "You should just wrap the repeated word in a `<strong>` element. For example, \"this is is a test\" should be turned into `this is <strong>is</strong> a test`."
   ]
  },
  {
   "cell_type": "markdown",
   "metadata": {},
   "source": [
    "# Reg Exp\n",
    "\n",
    "RegEx Golf https://alf.nu/RegexGolf"
   ]
  },
  {
   "cell_type": "markdown",
   "metadata": {
    "collapsed": true
   },
   "source": [
    "## Python\n",
    "\n",
    "```\n",
    "------- ------- -------\n",
    "|     | | ABC | | DEF |\n",
    "|  1  | |  2  | |  3  |\n",
    "------- ------- -------\n",
    "------- ------- -------\n",
    "| GHI | | JKL | | MNO |\n",
    "|  4  | |  5  | |  6  |\n",
    "------- ------- -------\n",
    "------- ------- -------\n",
    "|PQRS | | TUV | | WXYZ|\n",
    "|  7  | |  8  | |  9  |\n",
    "------- ------- -------\n",
    "------- ------- -------\n",
    "|     | |space| |     |\n",
    "|  *  | |  0  | |  #  |\n",
    "------- ------- -------\n",
    "```"
   ]
  },
  {
   "cell_type": "markdown",
   "metadata": {},
   "source": [
    "Prior to the development of T9 (predictive text entry) systems, the method to type words was called \"multi-tap\" and involved pressing a button repeatedly to cycle through the possible values.\n",
    "\n",
    "For example, to type a letter \"R\" you would press the 7 key three times (as the screen display for the current character cycles through P->Q->R->S->7). \n",
    "\n",
    "A character is \"locked in\" once the user presses a different key or pauses for a short period of time (thus, no extra button presses are required beyond what is needed for each letter individually). The zero key handles spaces, with one press of the key producing a space and two presses producing a zero.\n",
    "\n",
    "In order to send the message \"WHERE DO U WANT 2 MEET L8R\" a teen would have to actually do 47 button presses. No wonder they abbreviated.\n",
    "\n",
    "Write a module that can calculate the amount of button presses required for any phrase.\n",
    "\n",
    "Punctuation can be ignored for this exercise. Likewise, you can assume the phone doesn't distinguish between upper/lowercase characters (but you should allow your module to accept input in either for convenience).\n",
    "\n",
    "Hint: While it wouldn't take too long to hard code the amount of keypresses for all 26 letters by hand, try to avoid doing so! (Imagine you work at a phone manufacturer who might be testing out different keyboard layouts, and you want to be able to test new ones rapidly.)"
   ]
  },
  {
   "cell_type": "markdown",
   "metadata": {},
   "source": []
  },
  {
   "cell_type": "markdown",
   "metadata": {},
   "source": []
  },
  {
   "cell_type": "code",
   "execution_count": null,
   "metadata": {
    "collapsed": true
   },
   "outputs": [],
   "source": []
  }
 ],
 "metadata": {
  "anaconda-cloud": {},
  "kernelspec": {
   "display_name": "Python [conda root]",
   "language": "python",
   "name": "conda-root-py"
  },
  "language_info": {
   "codemirror_mode": {
    "name": "ipython",
    "version": 3
   },
   "file_extension": ".py",
   "mimetype": "text/x-python",
   "name": "python",
   "nbconvert_exporter": "python",
   "pygments_lexer": "ipython3",
   "version": "3.5.2"
  },
  "widgets": {
   "state": {},
   "version": "1.1.2"
  }
 },
 "nbformat": 4,
 "nbformat_minor": 0
}
