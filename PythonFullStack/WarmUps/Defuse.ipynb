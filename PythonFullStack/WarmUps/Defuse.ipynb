{
 "cells": [
  {
   "cell_type": "code",
   "execution_count": 2,
   "metadata": {
    "collapsed": true
   },
   "outputs": [],
   "source": [
    "## Defuse!"
   ]
  },
  {
   "cell_type": "markdown",
   "metadata": {},
   "source": [
    "## Python\n",
    "\n",
    "- If you cut a white cable you can't cut white or black cable.\n",
    "- If you cut a red cable you have to cut a green one\n",
    "- If you cut a black cable it is not allowed to cut a white, green or orange one\n",
    "- If you cut an orange cable you should cut a red or black one\n",
    "- If you cut a green one you have to cut a orange or white one\n",
    "- If you cut a purple cable you can't cut a purple, green, orange or white cable\n",
    "\n",
    "\n",
    "```\n",
    "In: [white, red, green, orange] => Out: 'Defused'\n",
    "In: [white, orange, green, white] => Out: 'Boom'\n",
    "```\n"
   ]
  },
  {
   "cell_type": "markdown",
   "metadata": {},
   "source": [
    "## Python"
   ]
  },
  {
   "cell_type": "markdown",
   "metadata": {},
   "source": [
    "- You have to start with either with a white or a red wire.\n",
    "\n",
    "- If you picked white wire you can either pick another white wire again or you can take an orange one.\n",
    "\n",
    "- If you picked a red wire you have the choice between a black and red wire.\n",
    "\n",
    "- When a second red wire is picked, you can start from rule one again.\n",
    "\n",
    "- Back to the second rule, if you picked another white one you will have to pick a black or red one now\n",
    "When the red wire is picked, you again go to rule one.\n",
    "\n",
    "- On the other hand if you then picked an orange wire, you can choose between green, orange and black.\n",
    "\n",
    "- When you are at the point where you can choose between green, orange and black and you pick either green or orange you have to choose the other one and then the bomb is defused.\n",
    "\n",
    "- If you ever pick a black wire you will be at the point where you have to choose between green, orange and black\n"
   ]
  },
  {
   "cell_type": "markdown",
   "metadata": {},
   "source": [
    "```\n",
    "In: [white, white, red, white, orange, black, black, green, orange] => Out: Defused\n",
    "\n",
    "In: [white, white, green, orange, green] => Out: Booom!\n",
    "```"
   ]
  },
  {
   "cell_type": "markdown",
   "metadata": {},
   "source": [
    "### Advanced\n",
    "\n",
    "```\n",
    "In: [white, white, red, red, red, white, white, black, green, orange]\n",
    "Out: \n",
    "\n",
    "In: [white , black, black, black, black, green, orange]\n",
    "\n",
    "\n",
    "In: [black, green, green]\n",
    "\n",
    "\n",
    "In: [red, red, white, orange, black, green]\n",
    "    \n",
    "```\n"
   ]
  },
  {
   "cell_type": "markdown",
   "metadata": {},
   "source": [
    "### More Advanced\n",
    "\n",
    "Is the bomb defusable? You have to use all wires, you cannot leave any uncut.\n",
    "\n",
    "```\n",
    "In: {white: 4\n",
    "red: 3\n",
    "black: 4\n",
    "green: 1\n",
    "orange: 1}\n",
    "\n",
    "Out: True\n",
    "\n",
    "---------------------------------------\n",
    "\n",
    "In: {white: 4\n",
    "red: 3\n",
    "black: 4\n",
    "green: 0\n",
    "orange: 1}\n",
    "\n",
    "Out: False\n",
    "```\n",
    "\n"
   ]
  },
  {
   "cell_type": "markdown",
   "metadata": {},
   "source": [
    "## Moar\n",
    "\n",
    "```\n",
    "\n",
    "{white: 3\n",
    "red: 1\n",
    "black: 48\n",
    "green: 1\n",
    "orange: 2}\n",
    "\n",
    "\n",
    "{white: 3\n",
    "red: 1\n",
    "black: 48\n",
    "green: 1\n",
    "orange: 1}\n",
    "\n",
    "```"
   ]
  },
  {
   "cell_type": "code",
   "execution_count": null,
   "metadata": {
    "collapsed": true
   },
   "outputs": [],
   "source": []
  }
 ],
 "metadata": {
  "anaconda-cloud": {},
  "kernelspec": {
   "display_name": "Python [conda root]",
   "language": "python",
   "name": "conda-root-py"
  },
  "language_info": {
   "codemirror_mode": {
    "name": "ipython",
    "version": 3
   },
   "file_extension": ".py",
   "mimetype": "text/x-python",
   "name": "python",
   "nbconvert_exporter": "python",
   "pygments_lexer": "ipython3",
   "version": "3.5.2"
  },
  "widgets": {
   "state": {},
   "version": "1.1.2"
  }
 },
 "nbformat": 4,
 "nbformat_minor": 0
}
