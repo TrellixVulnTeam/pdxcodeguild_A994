{
 "cells": [
  {
   "cell_type": "code",
   "execution_count": 16,
   "metadata": {
    "collapsed": false
   },
   "outputs": [
    {
     "data": {
      "text/plain": [
       "{1: 4, 7: 9}"
      ]
     },
     "execution_count": 16,
     "metadata": {},
     "output_type": "execute_result"
    }
   ],
   "source": [
    "z = [(1, 4), (7, 9)]\n",
    "dict(z)"
   ]
  },
  {
   "cell_type": "markdown",
   "metadata": {},
   "source": [
    "## Python\n",
    "\n",
    "Write a function that given an input string, replaces every letter with its position in the alphabet, and returns a space sperated string of the result.\n",
    "\n",
    "If a character is not in the alphabet, ignore it and don't return it.\n",
    "\n",
    "Start with 'a' as 1, 'b' as 2, 'c' as 3...\n",
    "\n",
    "```\n",
    "In: \"The sunset sets at twelve o' clock.\"\n",
    "Out: \"20 8 5 19 21 14 19 5 20 19 5 20 19 1 20 20 23 5 12 22 5 15 3 12 15 3 11\"\n",
    "```\n"
   ]
  },
  {
   "cell_type": "code",
   "execution_count": 15,
   "metadata": {
    "collapsed": false
   },
   "outputs": [
    {
     "name": "stdout",
     "output_type": "stream",
     "text": [
      "27 27\n"
     ]
    }
   ],
   "source": [
    "x = \"The sunset sets at twelve o' clock.\"\n",
    "y = \"20 8 5 19 21 14 19 5 20 19 5 20 19 1 20 20 23 5 12 22 5 15 3 12 15 3 11\"\n",
    "\n",
    "print(len(x.replace(\" \", \"\"))-2, len(y.split(\" \")))"
   ]
  },
  {
   "cell_type": "markdown",
   "metadata": {},
   "source": [
    "## Python\n",
    "\n",
    "Write a function that sorts a list by moving odd numbers in ascending order but keeps even numbers in place.\n",
    "\n",
    "Zero isn't an odd number. \n",
    "\n",
    "If you have an empty list, return empty list.\n",
    "\n",
    "\n",
    "```\n",
    "In: [5, 3, 2, 8, 1, 4]\n",
    "Out: [1, 3, 2, 8, 5, 4]\n",
    "```\n"
   ]
  },
  {
   "cell_type": "markdown",
   "metadata": {},
   "source": [
    "## Python\n",
    "_project euler_\n",
    "\n",
    "70 colored balls are placed in an urn, 10 for each of the seven rainbow colors.\n",
    "\n",
    "What is the expected number of distinct colors in 20 randomly picked balls?\n",
    "\n",
    "Give your answer with nine digits after the decimal point (a.bcdefghij).\n"
   ]
  },
  {
   "cell_type": "markdown",
   "metadata": {},
   "source": [
    "## Python\n",
    "\n",
    "Given a list of integers and a single sum value, return a list containint the first two values in order of appearance that add up to form the sum.\n",
    "\n",
    "```\n",
    "In: [11, 3, 7, 5], 10\n",
    "Out: [3, 7]\n",
    "```"
   ]
  },
  {
   "cell_type": "markdown",
   "metadata": {
    "collapsed": true
   },
   "source": [
    "## Python\n",
    "\n",
    "If we were to set up a Tic-Tac-Toe game, we would want to know whether the board's current state is solved, wouldn't we? Return a boolean if the game has a winner.\n",
    "\n",
    "Assume that the board comes in the form of a 3x3 list of lists, where the value is 0 if a spot is empty, 1 if it is an X, or 2 if it is an O."
   ]
  },
  {
   "cell_type": "code",
   "execution_count": null,
   "metadata": {
    "collapsed": true
   },
   "outputs": [],
   "source": []
  }
 ],
 "metadata": {
  "anaconda-cloud": {},
  "kernelspec": {
   "display_name": "Python [conda root]",
   "language": "python",
   "name": "conda-root-py"
  },
  "language_info": {
   "codemirror_mode": {
    "name": "ipython",
    "version": 3
   },
   "file_extension": ".py",
   "mimetype": "text/x-python",
   "name": "python",
   "nbconvert_exporter": "python",
   "pygments_lexer": "ipython3",
   "version": "3.5.2"
  },
  "widgets": {
   "state": {},
   "version": "1.1.2"
  }
 },
 "nbformat": 4,
 "nbformat_minor": 0
}
