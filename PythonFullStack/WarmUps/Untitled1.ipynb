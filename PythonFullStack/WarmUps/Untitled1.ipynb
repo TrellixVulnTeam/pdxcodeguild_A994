{
 "cells": [
  {
   "cell_type": "code",
   "execution_count": 3,
   "metadata": {
    "collapsed": false
   },
   "outputs": [],
   "source": [
    "dates = ['2012/09/18 12:10',\n",
    "'2001/09/30 23:59:11',\n",
    "'1995/12/01 12:12:12',\n",
    "'1001/01/07 14:27',\n",
    "'2010/10/20 10:10',\n",
    "'2000/01/01 01:01:01',\n",
    "'2007/07/22 22:34:59',\n",
    "'2010/05/05 00:00:00',\n",
    "'2012/9/18 23:40',\n",
    "'2013/09/09 09:09',\n",
    "'2012/00/01 01:49:59',\n",
    "'2012/13/25 22:17:00',\n",
    "'1994/11/00 12:12',\n",
    "'2012/12/4 12:12',\n",
    "'2009/11/11 24:00:00',\n",
    "'2012/06/24 13:60',\n",
    "'2002/10/10 14:59:60',\n",
    "'a2011/11/11 11:11:11',\n",
    "'2005/05/05 05:05:05d']"
   ]
  },
  {
   "cell_type": "code",
   "execution_count": null,
   "metadata": {
    "collapsed": true
   },
   "outputs": [],
   "source": []
  }
 ],
 "metadata": {
  "anaconda-cloud": {},
  "kernelspec": {
   "display_name": "Python [conda root]",
   "language": "python",
   "name": "conda-root-py"
  },
  "language_info": {
   "codemirror_mode": {
    "name": "ipython",
    "version": 3
   },
   "file_extension": ".py",
   "mimetype": "text/x-python",
   "name": "python",
   "nbconvert_exporter": "python",
   "pygments_lexer": "ipython3",
   "version": "3.5.2"
  },
  "widgets": {
   "state": {},
   "version": "1.1.2"
  }
 },
 "nbformat": 4,
 "nbformat_minor": 0
}
