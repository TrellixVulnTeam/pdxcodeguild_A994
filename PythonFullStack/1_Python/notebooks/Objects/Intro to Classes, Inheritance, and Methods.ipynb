{
 "cells": [
  {
   "cell_type": "markdown",
   "metadata": {},
   "source": [
    "# Basic Classes"
   ]
  },
  {
   "cell_type": "code",
   "execution_count": 2,
   "metadata": {
    "collapsed": false
   },
   "outputs": [],
   "source": [
    "# Inherets from object by default, but let's specify it explictly.\n",
    "class Pet(object):\n",
    "    # Class Variable, shared by all instances.\n",
    "    location = \"PDX\"\n",
    "    \n",
    "    # overide the object default constructor method.\n",
    "    def __init__(self, nickname, legs, owner, sound=None):\n",
    "        # Assign instance variables with `self`\n",
    "        self.nickname = nickname\n",
    "        self.sound = sound\n",
    "        self.legs = legs\n",
    "        self.owner = owner\n",
    "    \n",
    "    # Instance Method\n",
    "    # Self is passed automatically to all instance methods.\n",
    "    def speak(self): # All methods take self as the first argument.\n",
    "        if self.legs < 4:\n",
    "            # Use return\n",
    "            return \"{0.nickname!s} says nothing\".format(self)\n",
    "        else:\n",
    "            return llamas.sound\n",
    "        \n",
    "    @classmethod # Passes the Class Object itself as the first argument.\n",
    "    def make_one(Klass, csv_account_string):\n",
    "        bal, act_type = csv_string.split(\",\")\n",
    "        newone = Klass(balance, act_type)\n",
    "        return newone\n",
    "            \n",
    "    @staticmethod # Passes neither self, nor the Class to the method.\n",
    "    def display():\n",
    "        # Do something related to the object, but not involving self, or the Class.\n",
    "        return \"This is a pet!\".format()\n",
    "    \n",
    "    \n",
    "# Inherets from Pet\n",
    "class Dog(Pet):\n",
    "    pass # Use a placeholder to indicate the block.\n",
    "\n",
    "    # Add a constructor for the subclass, with additional args.\n",
    "    def __init__(self, canines, *args, **kwargs):\n",
    "        # Assign the dog-specific attributes\n",
    "        self.canines = canines\n",
    "        # Call the parent's constructor\n",
    "        super().__init__(*args, **kwargs)\n",
    "    \n",
    "    # Overides the Pet speak method.\n",
    "    @staticmethod\n",
    "    def speak():\n",
    "        return \"/barks\"\n",
    "      "
   ]
  },
  {
   "cell_type": "code",
   "execution_count": 3,
   "metadata": {
    "collapsed": false
   },
   "outputs": [],
   "source": [
    "# Creating instances\n",
    "dog = Dog(canines=9, nickname='Fido', legs=3, owner=\"Suki\")\n",
    "dog = Dog(9, 'Fido', 3, 'Suki')\n",
    "llama = Pet('Marc', 4, 'Alisa', sound='/spits')"
   ]
  },
  {
   "cell_type": "code",
   "execution_count": 4,
   "metadata": {
    "collapsed": false
   },
   "outputs": [
    {
     "name": "stdout",
     "output_type": "stream",
     "text": [
      "/barks\n",
      "Fido\n",
      "3\n",
      "None\n",
      "9\n",
      "This is a pet!\n"
     ]
    }
   ],
   "source": [
    "print(dog.speak(),\n",
    "dog.nickname,\n",
    "dog.legs,\n",
    "dog.sound,\n",
    "dog.canines,\n",
    "dog.display(), sep='\\n')"
   ]
  },
  {
   "cell_type": "code",
   "execution_count": 5,
   "metadata": {
    "collapsed": false
   },
   "outputs": [
    {
     "name": "stdout",
     "output_type": "stream",
     "text": [
      "4\n",
      "/spits\n",
      "Marc\n",
      "Alisa\n"
     ]
    }
   ],
   "source": [
    "print(llama.legs,\n",
    "llama.speak(),\n",
    "llama.nickname,\n",
    "llama.owner, sep='\\n')"
   ]
  },
  {
   "cell_type": "code",
   "execution_count": 6,
   "metadata": {
    "collapsed": false
   },
   "outputs": [
    {
     "data": {
      "text/plain": [
       "[<__main__.Dog at 0x7f6a34238a90>, <__main__.Pet at 0x7f6a34238b00>]"
      ]
     },
     "execution_count": 6,
     "metadata": {},
     "output_type": "execute_result"
    }
   ],
   "source": [
    "# Instances in a container\n",
    "pets = [dog, llama]\n",
    "pets"
   ]
  },
  {
   "cell_type": "code",
   "execution_count": 7,
   "metadata": {
    "collapsed": false
   },
   "outputs": [],
   "source": [
    "class Llama(Pet):\n",
    "    pass\n",
    "    \n",
    "    def __init__(self, neck_length_in, *args, **kwargs):\n",
    "        self.neck_length_in = neck_length_in\n",
    "        super().__init__(*args, **kwargs)\n",
    "        "
   ]
  },
  {
   "cell_type": "code",
   "execution_count": 8,
   "metadata": {
    "collapsed": true
   },
   "outputs": [],
   "source": [
    "dod = Llama(22, 'Dod', 4, 'Doug')"
   ]
  },
  {
   "cell_type": "code",
   "execution_count": 9,
   "metadata": {
    "collapsed": false
   },
   "outputs": [
    {
     "data": {
      "text/plain": [
       "22"
      ]
     },
     "execution_count": 9,
     "metadata": {},
     "output_type": "execute_result"
    }
   ],
   "source": [
    "dod.neck_length_in"
   ]
  },
  {
   "cell_type": "code",
   "execution_count": 10,
   "metadata": {
    "collapsed": false
   },
   "outputs": [],
   "source": [
    "# Multiple Inheritance\n",
    "class LlamaDog(Llama, Dog):\n",
    "    pass\n",
    "\n",
    "    def __init__(self, superpower=None, *args, **kwargs):\n",
    "        self.superpower = superpower\n",
    "        # Call both parent constructors\n",
    "        super().__init__(*args, **kwargs)"
   ]
  },
  {
   "cell_type": "code",
   "execution_count": 11,
   "metadata": {
    "collapsed": false
   },
   "outputs": [],
   "source": [
    "#starchild = LlamaDog(neck_length_in=24, nickname='starchild', superpower=\"Kick\", canines=12, owner=\"Sarada\", legs=8, sound=\"/flys away\")\n",
    "starchild = LlamaDog(\"kick\", 24, 12, 'starchild', 8, 'Sarada')"
   ]
  },
  {
   "cell_type": "code",
   "execution_count": 12,
   "metadata": {
    "collapsed": false
   },
   "outputs": [
    {
     "data": {
      "text/plain": [
       "{'canines': 12,\n",
       " 'legs': 8,\n",
       " 'neck_length_in': 24,\n",
       " 'nickname': 'starchild',\n",
       " 'owner': 'Sarada',\n",
       " 'sound': None,\n",
       " 'superpower': 'kick'}"
      ]
     },
     "execution_count": 12,
     "metadata": {},
     "output_type": "execute_result"
    }
   ],
   "source": [
    "# The classes attributes are stored in a dictionary, try printing __dict__\n",
    "starchild.__dict__"
   ]
  },
  {
   "cell_type": "code",
   "execution_count": 13,
   "metadata": {
    "collapsed": false
   },
   "outputs": [
    {
     "name": "stdout",
     "output_type": "stream",
     "text": [
      "/barks\n",
      "kick\n",
      "8\n"
     ]
    }
   ],
   "source": [
    "print(starchild.speak(),\n",
    "starchild.superpower,\n",
    "starchild.legs, sep='\\n')"
   ]
  },
  {
   "cell_type": "code",
   "execution_count": 15,
   "metadata": {
    "collapsed": false
   },
   "outputs": [],
   "source": [
    "starchild.superpower = \"Laser Vision.\""
   ]
  },
  {
   "cell_type": "code",
   "execution_count": null,
   "metadata": {
    "collapsed": true
   },
   "outputs": [],
   "source": []
  }
 ],
 "metadata": {
  "anaconda-cloud": {},
  "kernelspec": {
   "display_name": "Python [conda root]",
   "language": "python",
   "name": "conda-root-py"
  },
  "language_info": {
   "codemirror_mode": {
    "name": "ipython",
    "version": 3
   },
   "file_extension": ".py",
   "mimetype": "text/x-python",
   "name": "python",
   "nbconvert_exporter": "python",
   "pygments_lexer": "ipython3",
   "version": "3.5.2"
  },
  "widgets": {
   "state": {},
   "version": "1.1.2"
  }
 },
 "nbformat": 4,
 "nbformat_minor": 0
}
