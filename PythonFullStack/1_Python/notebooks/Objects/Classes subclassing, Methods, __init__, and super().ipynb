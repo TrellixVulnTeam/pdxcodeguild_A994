{
 "cells": [
  {
   "cell_type": "code",
   "execution_count": 1,
   "metadata": {
    "collapsed": true
   },
   "outputs": [],
   "source": [
    "class Planet:\n",
    "    size_mi = 0\n",
    "    atmosphere = 'air'\n",
    "    \n",
    "    "
   ]
  },
  {
   "cell_type": "code",
   "execution_count": 2,
   "metadata": {
    "collapsed": true
   },
   "outputs": [],
   "source": [
    "mars = Planet()"
   ]
  },
  {
   "cell_type": "code",
   "execution_count": 5,
   "metadata": {
    "collapsed": false
   },
   "outputs": [
    {
     "data": {
      "text/plain": [
       "('air', 0)"
      ]
     },
     "execution_count": 5,
     "metadata": {},
     "output_type": "execute_result"
    }
   ],
   "source": [
    "mars.atmosphere, mars.size_mi"
   ]
  },
  {
   "cell_type": "code",
   "execution_count": 6,
   "metadata": {
    "collapsed": true
   },
   "outputs": [],
   "source": [
    "mars.size_mi = 5"
   ]
  },
  {
   "cell_type": "code",
   "execution_count": 7,
   "metadata": {
    "collapsed": false
   },
   "outputs": [
    {
     "data": {
      "text/plain": [
       "5"
      ]
     },
     "execution_count": 7,
     "metadata": {},
     "output_type": "execute_result"
    }
   ],
   "source": [
    "mars.size_mi"
   ]
  },
  {
   "cell_type": "code",
   "execution_count": 8,
   "metadata": {
    "collapsed": true
   },
   "outputs": [],
   "source": [
    "neptune = Planet()"
   ]
  },
  {
   "cell_type": "code",
   "execution_count": 10,
   "metadata": {
    "collapsed": false
   },
   "outputs": [
    {
     "data": {
      "text/plain": [
       "5"
      ]
     },
     "execution_count": 10,
     "metadata": {},
     "output_type": "execute_result"
    }
   ],
   "source": [
    "neptune.size_mi + mars.size_mi"
   ]
  },
  {
   "cell_type": "code",
   "execution_count": null,
   "metadata": {
    "collapsed": true
   },
   "outputs": [],
   "source": [
    "class Planet:\n",
    "    shape = 'round'\n",
    "    \n",
    "    def __init__(self, size_mi, sun_delta, atmosphere=None):\n",
    "        self.size_mi = size_mi\n",
    "        self.atmosphere = atmosphere\n",
    "        self._unicorns = True\n",
    "        self.sun_delta = sun_delta\n",
    "    \n",
    "    def calc_orbit(self):\n",
    "        result = self.size_mi - self.sun_delta\n",
    "        self.llamas = result ** self.size_mi\n",
    "        return result\n",
    "    "
   ]
  },
  {
   "cell_type": "code",
   "execution_count": null,
   "metadata": {
    "collapsed": false
   },
   "outputs": [],
   "source": [
    "venus = Planet(2, 9999999999, atmosphere='fire')"
   ]
  },
  {
   "cell_type": "code",
   "execution_count": null,
   "metadata": {
    "collapsed": false
   },
   "outputs": [],
   "source": [
    "venus.sun_delta"
   ]
  },
  {
   "cell_type": "code",
   "execution_count": null,
   "metadata": {
    "collapsed": false
   },
   "outputs": [],
   "source": [
    "venus.calc_orbit()"
   ]
  },
  {
   "cell_type": "code",
   "execution_count": null,
   "metadata": {
    "collapsed": false
   },
   "outputs": [],
   "source": [
    "venus.llamas"
   ]
  },
  {
   "cell_type": "code",
   "execution_count": null,
   "metadata": {
    "collapsed": false
   },
   "outputs": [],
   "source": [
    "kieran_str = 'Kieran-Prasch-8456331959-kieranprasch@gmail.com'\n",
    "Person.from_string(kieran_str)"
   ]
  },
  {
   "cell_type": "code",
   "execution_count": 15,
   "metadata": {
    "collapsed": false
   },
   "outputs": [],
   "source": [
    "class Person(object):\n",
    "    \"\"\"\n",
    "    Base Class for people.\n",
    "    \"\"\"\n",
    "\n",
    "    def __init__(self, first_name, last_name, phone_number, email):\n",
    "        self.firstname = first_name\n",
    "        self.lastname = last_name\n",
    "        self.phone_number = phone_number\n",
    "        self.email = email\n",
    "        \n",
    "    def __str__(self):\n",
    "        return \"{0.firstname} {0.lastname}\".format(self)\n",
    "    \n",
    "    def __repr__(self):\n",
    "        return '{0.__class__.__name__}({0.firstname}, {0.lastname}, {0.phone_number}, {0.email})'.format(self)\n",
    "\n",
    "        \n",
    "    @property\n",
    "    def full_name(self):\n",
    "        return \"{} {}\".format(self.firstname, self.lastname)\n",
    "    \n",
    "    @classmethod\n",
    "    def from_string(Klass, person_string):\n",
    "        # 'Kieran-Prasch-8456331959-kieranprasch@gmail.com'\n",
    "        #     0      1        2              3     \n",
    "        # Sequence Assignment\n",
    "        first, last, phone, email = person_string.split('-')\n",
    "        # Call the constructor of the class with the parsed name data.\n",
    "        return Klass(first, last, phone, email)\n",
    "\n",
    "        \n",
    "class Employee(Person):\n",
    "    '''\n",
    "    A subclass of Person.\n",
    "    '''\n",
    "    active_employees = list()\n",
    "    \n",
    "    \n",
    "    def __init__(self, position, income, *args, **kwargs):\n",
    "        self.position = position\n",
    "        self.income = income\n",
    "        super(Employee, self).__init__(*args, **kwargs)\n",
    "    \n",
    "    @classmethod\n",
    "    def hire(Klass, emp):\n",
    "        Klass.active_employees.update([emp])\n",
    "        return \"Added {} to the employee roster.\".format(emp.full_name)\n",
    "        \n",
    "    \n",
    "    \n",
    "class Developer(Employee):\n",
    "    '''\n",
    "    A subclass of Employee.\n",
    "    '''\n",
    "    pass\n",
    "\n",
    "    def __init__(self, languages, *args, **kwargs):\n",
    "        super().__init__(*args, **kwargs)\n",
    "    \n",
    "class Manager(Developer):\n",
    "    '''\n",
    "    A subclass of Developer.\n",
    "    '''\n",
    "    pass\n",
    "    \n",
    "    def __init__(self, crew=None, *args, **kwargs):\n",
    "        if crew is None:\n",
    "            crew = list()\n",
    "        else:\n",
    "            self.crew = crew\n",
    "        super().__init__(*args, **kwargs)"
   ]
  },
  {
   "cell_type": "code",
   "execution_count": 17,
   "metadata": {
    "collapsed": false
   },
   "outputs": [],
   "source": [
    "bella = Developer(['python', 'php', 'matlab', 'R'], 'scientist', 70000, 'Bella', 'Brielle', 9447614726, 'myjamz72@aol.com')"
   ]
  },
  {
   "cell_type": "code",
   "execution_count": 18,
   "metadata": {
    "collapsed": false
   },
   "outputs": [],
   "source": [
    "gabby = Developer(['python', 'javascript'], 'engineer', 70000, 'Gabby', 'Moore', 5551216789, 'info@aol.com')"
   ]
  },
  {
   "cell_type": "code",
   "execution_count": 19,
   "metadata": {
    "collapsed": false
   },
   "outputs": [],
   "source": [
    "emps = [gabby, bella]\n",
    "rolando = Manager(emps, ['python', 'javascript'], 'manager', 100000, 'Rolando', 'Finsard', 9084638876, 'arkl@hotmail.com')"
   ]
  },
  {
   "cell_type": "code",
   "execution_count": 20,
   "metadata": {
    "collapsed": false
   },
   "outputs": [
    {
     "data": {
      "text/plain": [
       "'Gabby Moore'"
      ]
     },
     "execution_count": 20,
     "metadata": {},
     "output_type": "execute_result"
    }
   ],
   "source": [
    "str(rolando.crew[0])"
   ]
  },
  {
   "cell_type": "code",
   "execution_count": 24,
   "metadata": {
    "collapsed": false
   },
   "outputs": [],
   "source": [
    "emp1 = rolando.crew[0]\n",
    "emp2 = rolando.crew[1]"
   ]
  },
  {
   "cell_type": "code",
   "execution_count": 27,
   "metadata": {
    "collapsed": false
   },
   "outputs": [
    {
     "data": {
      "text/plain": [
       "'Added Gabby Moore to the employee roster.'"
      ]
     },
     "execution_count": 27,
     "metadata": {},
     "output_type": "execute_result"
    }
   ],
   "source": [
    "Employee.hire(emp1)"
   ]
  },
  {
   "cell_type": "code",
   "execution_count": 28,
   "metadata": {
    "collapsed": false
   },
   "outputs": [
    {
     "data": {
      "text/plain": [
       "'Added Bella Brielle to the employee roster.'"
      ]
     },
     "execution_count": 28,
     "metadata": {},
     "output_type": "execute_result"
    }
   ],
   "source": [
    "Employee.hire(emp2)"
   ]
  },
  {
   "cell_type": "code",
   "execution_count": 29,
   "metadata": {
    "collapsed": false
   },
   "outputs": [
    {
     "data": {
      "text/plain": [
       "{Developer(Bella, Brielle, 9447614726, myjamz72@aol.com),\n",
       " Developer(Gabby, Moore, 5551216789, info@aol.com)}"
      ]
     },
     "execution_count": 29,
     "metadata": {},
     "output_type": "execute_result"
    }
   ],
   "source": [
    "rolando.active_employees"
   ]
  },
  {
   "cell_type": "code",
   "execution_count": 30,
   "metadata": {
    "collapsed": false
   },
   "outputs": [
    {
     "data": {
      "text/plain": [
       "2"
      ]
     },
     "execution_count": 30,
     "metadata": {},
     "output_type": "execute_result"
    }
   ],
   "source": [
    "len(Employee.active_employees)"
   ]
  },
  {
   "cell_type": "code",
   "execution_count": 31,
   "metadata": {
    "collapsed": true
   },
   "outputs": [],
   "source": [
    "gabby = Developer(['python', 'javascript'], 'engineer', 70000, 'Gabby', 'Moore', 5551216789, 'info@aol.com')"
   ]
  },
  {
   "cell_type": "code",
   "execution_count": 32,
   "metadata": {
    "collapsed": false
   },
   "outputs": [
    {
     "data": {
      "text/plain": [
       "Developer(Gabby, Moore, 5551216789, info@aol.com)"
      ]
     },
     "execution_count": 32,
     "metadata": {},
     "output_type": "execute_result"
    }
   ],
   "source": [
    "gabby"
   ]
  }
 ],
 "metadata": {
  "anaconda-cloud": {},
  "kernelspec": {
   "display_name": "Python [conda root]",
   "language": "python",
   "name": "conda-root-py"
  },
  "language_info": {
   "codemirror_mode": {
    "name": "ipython",
    "version": 3
   },
   "file_extension": ".py",
   "mimetype": "text/x-python",
   "name": "python",
   "nbconvert_exporter": "python",
   "pygments_lexer": "ipython3",
   "version": "3.5.2"
  },
  "widgets": {
   "state": {},
   "version": "1.1.2"
  }
 },
 "nbformat": 4,
 "nbformat_minor": 0
}
