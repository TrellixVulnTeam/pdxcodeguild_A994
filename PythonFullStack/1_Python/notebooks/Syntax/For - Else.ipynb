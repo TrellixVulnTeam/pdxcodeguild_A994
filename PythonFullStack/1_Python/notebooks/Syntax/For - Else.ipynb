{
 "cells": [
  {
   "cell_type": "markdown",
   "metadata": {},
   "source": [
    "# For Else Loop"
   ]
  },
  {
   "cell_type": "code",
   "execution_count": 1,
   "metadata": {
    "collapsed": false
   },
   "outputs": [
    {
     "data": {
      "text/plain": [
       "['ponderingflight.jpeg',\n",
       " 'fake.log',\n",
       " 'mossytrees.jpeg',\n",
       " 'railsun.jpeg',\n",
       " 'crime_incident_data.csv',\n",
       " 'birdcoffee.jpeg',\n",
       " 'reviews.json',\n",
       " 'openfarm.jpeg',\n",
       " 'bluehillshaze.jpeg']"
      ]
     },
     "execution_count": 1,
     "metadata": {},
     "output_type": "execute_result"
    }
   ],
   "source": [
    "import os\n",
    "os.listdir('../../labs/resources')"
   ]
  },
  {
   "cell_type": "code",
   "execution_count": 5,
   "metadata": {
    "collapsed": false
   },
   "outputs": [
    {
     "name": "stdout",
     "output_type": "stream",
     "text": [
      "No Matches Found.\n"
     ]
    }
   ],
   "source": [
    "# A Searching Pattern\n",
    "\n",
    "import re\n",
    "\n",
    "\n",
    "with open('../../labs/resources/crime_incident_data.csv', 'r', encoding='utf-8') as f:\n",
    "    lines = f.readlines()\n",
    "    #pattern = re.compile('97214')\n",
    "    pattern = re.compile('\\n\\n*\\sd')\n",
    "    \n",
    "    #non_matched_records = 0\n",
    "    for line in lines:\n",
    "        m = pattern.search(line)\n",
    "        if m:\n",
    "            print(\"Found {} after {} lines\".format(m, non_matched_records))\n",
    "            break\n",
    "    else:\n",
    "        print('No Matches Found.')\n",
    "        #non_matched_records += 1\n",
    "        \n",
    "    #print(non_matched_records)\n",
    "    "
   ]
  },
  {
   "cell_type": "markdown",
   "metadata": {},
   "source": [
    "# While Else Loop"
   ]
  },
  {
   "cell_type": "code",
   "execution_count": 16,
   "metadata": {
    "collapsed": false
   },
   "outputs": [
    {
     "name": "stdout",
     "output_type": "stream",
     "text": [
      "1\n",
      "2\n",
      "3\n",
      "4\n",
      "llamas\n"
     ]
    }
   ],
   "source": [
    "counter = 0\n",
    "while counter < 4:\n",
    "    counter += 1\n",
    "    print(counter)\n",
    "    continue\n",
    "    \n",
    "else:\n",
    "    print('llamas')"
   ]
  },
  {
   "cell_type": "code",
   "execution_count": null,
   "metadata": {
    "collapsed": true
   },
   "outputs": [],
   "source": []
  }
 ],
 "metadata": {
  "anaconda-cloud": {},
  "kernelspec": {
   "display_name": "Python [Root]",
   "language": "python",
   "name": "Python [Root]"
  },
  "language_info": {
   "codemirror_mode": {
    "name": "ipython",
    "version": 3
   },
   "file_extension": ".py",
   "mimetype": "text/x-python",
   "name": "python",
   "nbconvert_exporter": "python",
   "pygments_lexer": "ipython3",
   "version": "3.5.2"
  }
 },
 "nbformat": 4,
 "nbformat_minor": 0
}
