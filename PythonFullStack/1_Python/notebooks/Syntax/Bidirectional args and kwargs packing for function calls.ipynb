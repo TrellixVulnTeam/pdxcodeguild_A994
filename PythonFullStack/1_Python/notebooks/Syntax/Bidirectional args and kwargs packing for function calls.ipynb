{
 "cells": [
  {
   "cell_type": "markdown",
   "metadata": {},
   "source": [
    "# Packing Incoming args and Kwargs"
   ]
  },
  {
   "cell_type": "markdown",
   "metadata": {},
   "source": [
    "Accepting any number of args or Kwargs by packing them into a tuple and dictionary:"
   ]
  },
  {
   "cell_type": "code",
   "execution_count": 5,
   "metadata": {
    "collapsed": true
   },
   "outputs": [],
   "source": [
    "def llamas(*args, **kwargs):\n",
    "    print(args, kwargs)"
   ]
  },
  {
   "cell_type": "code",
   "execution_count": 6,
   "metadata": {
    "collapsed": false
   },
   "outputs": [
    {
     "name": "stdout",
     "output_type": "stream",
     "text": [
      "('foxtrot', 'romeo', 'zulu') {'height': 'Yes', 'teapot': True}\n"
     ]
    }
   ],
   "source": [
    "llamas('foxtrot', 'romeo', 'zulu', teapot=True, height='Yes')"
   ]
  },
  {
   "cell_type": "markdown",
   "metadata": {},
   "source": [
    "# Bidirectional use of \\* and **"
   ]
  },
  {
   "cell_type": "code",
   "execution_count": 7,
   "metadata": {
    "collapsed": false
   },
   "outputs": [],
   "source": [
    "# Say we have a function that accepts many parameters.\n",
    "def display(first, second, third, fourth, fifth, sixth, seventh):\n",
    "    print(first,\n",
    "         second,\n",
    "         third,\n",
    "         fourth,\n",
    "         fifth,\n",
    "         sixth,\n",
    "         seventh)"
   ]
  },
  {
   "cell_type": "code",
   "execution_count": 8,
   "metadata": {
    "collapsed": true
   },
   "outputs": [],
   "source": [
    "# But we also have a positionaly coresponding list.\n",
    "long_and_random = ['greylag', 'echo', 'sunshine', 'mousetrap', 'bootshine', 'blender', 'patera']"
   ]
  },
  {
   "cell_type": "code",
   "execution_count": 9,
   "metadata": {
    "collapsed": false
   },
   "outputs": [
    {
     "name": "stdout",
     "output_type": "stream",
     "text": [
      "greylag echo sunshine mousetrap bootshine blender patera\n"
     ]
    }
   ],
   "source": [
    "# We can just pack the list into a tuple at calltime.\n",
    "display(*long_and_random)"
   ]
  },
  {
   "cell_type": "code",
   "execution_count": 10,
   "metadata": {
    "collapsed": false
   },
   "outputs": [
    {
     "name": "stdout",
     "output_type": "stream",
     "text": [
      "greylag echo sunshine mousetrap bootshine blender patera\n"
     ]
    }
   ],
   "source": [
    "# The function has inplicit positional parameters that will unpack the passed tuple.\n",
    "# Like this:\n",
    "\n",
    "first, second, third, fourth, fifth, sixth, seventh = ['greylag', 'echo', 'sunshine', 'mousetrap', 'bootshine', 'blender', 'patera']\n",
    "print(first, second, third, fourth, fifth, sixth, seventh)"
   ]
  },
  {
   "cell_type": "code",
   "execution_count": 11,
   "metadata": {
    "collapsed": true
   },
   "outputs": [],
   "source": [
    "# A func that accepts only kwargs, with defaults set.\n",
    "def display(a=None, b=None, c=None):\n",
    "    print(a, b, c)"
   ]
  },
  {
   "cell_type": "code",
   "execution_count": 12,
   "metadata": {
    "collapsed": true
   },
   "outputs": [],
   "source": [
    "# A key:param dictionary maps to the kwargs.\n",
    "long = {'a': 'greylag', 'b': 'echo', 'c': 'sunshine'}"
   ]
  },
  {
   "cell_type": "code",
   "execution_count": 13,
   "metadata": {
    "collapsed": false
   },
   "outputs": [
    {
     "name": "stdout",
     "output_type": "stream",
     "text": [
      "greylag echo sunshine\n"
     ]
    }
   ],
   "source": [
    "# The syntax for passing the dictionary\n",
    "display(**long)"
   ]
  },
  {
   "cell_type": "code",
   "execution_count": 14,
   "metadata": {
    "collapsed": true
   },
   "outputs": [],
   "source": [
    "# Mixing it all up. Args, then Kwargs.\n",
    "def display(first, second, third, a=None, b=None, c=None):\n",
    "    print(first, second, third, a, b, c)\n",
    "    "
   ]
  },
  {
   "cell_type": "code",
   "execution_count": 15,
   "metadata": {
    "collapsed": true
   },
   "outputs": [],
   "source": [
    "long_list = ['greylag', 'echo', 'sunshine']\n",
    "long_dict = {'a': 'greylag', 'b': 'echo', 'c': 'sunshine'}"
   ]
  },
  {
   "cell_type": "code",
   "execution_count": 16,
   "metadata": {
    "collapsed": false
   },
   "outputs": [
    {
     "name": "stdout",
     "output_type": "stream",
     "text": [
      "greylag echo sunshine greylag echo sunshine\n"
     ]
    }
   ],
   "source": [
    "display(*long_list, **long_dict)"
   ]
  },
  {
   "cell_type": "code",
   "execution_count": 1,
   "metadata": {
    "collapsed": false
   },
   "outputs": [
    {
     "ename": "NameError",
     "evalue": "name 'long_list' is not defined",
     "output_type": "error",
     "traceback": [
      "\u001b[0;31m---------------------------------------------------------------------------\u001b[0m",
      "\u001b[0;31mNameError\u001b[0m                                 Traceback (most recent call last)",
      "\u001b[0;32m<ipython-input-1-0d8beaf23164>\u001b[0m in \u001b[0;36m<module>\u001b[0;34m()\u001b[0m\n\u001b[0;32m----> 1\u001b[0;31m \u001b[0mlong_list\u001b[0m\u001b[0;34m\u001b[0m\u001b[0m\n\u001b[0m",
      "\u001b[0;31mNameError\u001b[0m: name 'long_list' is not defined"
     ]
    }
   ],
   "source": [
    "long_list"
   ]
  },
  {
   "cell_type": "code",
   "execution_count": null,
   "metadata": {
    "collapsed": true
   },
   "outputs": [],
   "source": []
  }
 ],
 "metadata": {
  "anaconda-cloud": {},
  "kernelspec": {
   "display_name": "Python [conda root]",
   "language": "python",
   "name": "conda-root-py"
  },
  "language_info": {
   "codemirror_mode": {
    "name": "ipython",
    "version": 3
   },
   "file_extension": ".py",
   "mimetype": "text/x-python",
   "name": "python",
   "nbconvert_exporter": "python",
   "pygments_lexer": "ipython3",
   "version": "3.5.2"
  },
  "widgets": {
   "state": {},
   "version": "1.1.2"
  }
 },
 "nbformat": 4,
 "nbformat_minor": 0
}
