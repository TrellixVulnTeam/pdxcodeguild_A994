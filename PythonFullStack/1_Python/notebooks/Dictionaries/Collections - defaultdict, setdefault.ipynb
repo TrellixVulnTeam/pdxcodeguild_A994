{
 "cells": [
  {
   "cell_type": "markdown",
   "metadata": {},
   "source": [
    "# Defaultdict Usage"
   ]
  },
  {
   "cell_type": "code",
   "execution_count": 2,
   "metadata": {
    "collapsed": false
   },
   "outputs": [],
   "source": [
    "\"\"\"\n",
    "Collections is an excellent module.\n",
    "\"\"\"\n",
    "\n",
    "from collections import defaultdict\n",
    "\n",
    "\n",
    "things = [('drill press', 2), ('eraser', 4), ('lamp shade', 1),\n",
    "          ('blouse', 7), ('thermostat', 3), ('packing peanuts', 2),\n",
    "          ('hangar', 9), ('sponge', 1), ('eye liner', 1),  ('truck', 9)]"
   ]
  },
  {
   "cell_type": "code",
   "execution_count": 3,
   "metadata": {
    "collapsed": false
   },
   "outputs": [],
   "source": [
    "d = defaultdict(int)  # Initializing the Default Dictionary with a type."
   ]
  },
  {
   "cell_type": "code",
   "execution_count": 4,
   "metadata": {
    "collapsed": false
   },
   "outputs": [],
   "source": [
    "for k, v in things:\n",
    "        \"\"\"\n",
    "        Operating on the initialized type without explicitly adding a default value.\n",
    "        \"\"\"\n",
    "        d[k] += v  "
   ]
  },
  {
   "cell_type": "code",
   "execution_count": 5,
   "metadata": {
    "collapsed": false
   },
   "outputs": [
    {
     "name": "stdout",
     "output_type": "stream",
     "text": [
      "defaultdict(<class 'int'>, {'eraser': 4, 'thermostat': 3, 'eye liner': 1, 'hangar': 9, 'lamp shade': 1, 'drill press': 2, 'sponge': 1, 'packing peanuts': 2, 'blouse': 7, 'truck': 9})\n"
     ]
    }
   ],
   "source": [
    "print(d)"
   ]
  },
  {
   "cell_type": "code",
   "execution_count": 6,
   "metadata": {
    "collapsed": true
   },
   "outputs": [],
   "source": [
    "\"\"\"\n",
    "This time let's initialize with the list type.\n",
    "\"\"\"\n",
    "\n",
    "d2 = dict()\n",
    "for k, v in things:\n",
    "    d2.setdefault(k, []).append(v)"
   ]
  },
  {
   "cell_type": "code",
   "execution_count": 7,
   "metadata": {
    "collapsed": false
   },
   "outputs": [
    {
     "data": {
      "text/plain": [
       "{'blouse': [7],\n",
       " 'drill press': [2],\n",
       " 'eraser': [4],\n",
       " 'eye liner': [1],\n",
       " 'hangar': [9],\n",
       " 'lamp shade': [1],\n",
       " 'packing peanuts': [2],\n",
       " 'sponge': [1],\n",
       " 'thermostat': [3],\n",
       " 'truck': [9]}"
      ]
     },
     "execution_count": 7,
     "metadata": {},
     "output_type": "execute_result"
    }
   ],
   "source": [
    "d2"
   ]
  },
  {
   "cell_type": "code",
   "execution_count": null,
   "metadata": {
    "collapsed": true
   },
   "outputs": [],
   "source": []
  }
 ],
 "metadata": {
  "anaconda-cloud": {},
  "kernelspec": {
   "display_name": "Python [conda root]",
   "language": "python",
   "name": "conda-root-py"
  },
  "language_info": {
   "codemirror_mode": {
    "name": "ipython",
    "version": 3
   },
   "file_extension": ".py",
   "mimetype": "text/x-python",
   "name": "python",
   "nbconvert_exporter": "python",
   "pygments_lexer": "ipython3",
   "version": "3.5.2"
  },
  "widgets": {
   "state": {},
   "version": "1.1.2"
  }
 },
 "nbformat": 4,
 "nbformat_minor": 0
}
