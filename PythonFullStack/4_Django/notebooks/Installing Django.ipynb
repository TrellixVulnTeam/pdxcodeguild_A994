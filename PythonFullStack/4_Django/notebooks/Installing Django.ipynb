{
 "cells": [
  {
   "cell_type": "markdown",
   "metadata": {},
   "source": [
    "\n",
    "# Installing Django\n",
    "\n",
    "The official Django documentation contains a good guide to installing the framework. Here, Iâ€™ve sifted through the extra information to pull out just what you need to pay attention to.\n",
    "\n",
    "------\n",
    "\n",
    "## Is Django already installed?\n",
    "\n",
    "You can verify whether or not you have Django installed by going into your Python shell and typing the following:\n",
    "\n",
    "    >>> import django\n",
    "\n",
    "If that command throws an error, you do not have Django installed.\n",
    "\n",
    "If you do have Django installed, you can see what version you have by running the following command (after you run the one above):\n",
    "\n",
    "    >>> print(django.get_version())\n",
    "\n",
    "The latest stable version is 1.9. If you have a version prior to 1.9 installed, youâ€™ll need to uninstall that version before reinstalling.\n",
    "\n",
    "------\n",
    "\n",
    "## Uninstall Old Versions\n",
    "\n",
    "If youâ€™ve installed Django in the past, you may need to uninstall it before you install the latest version. Here are [directions for uninstalling an old version of Django](https://docs.djangoproject.com/en/1.9/topics/install/#removing-old-versions-of-django).\n",
    "\n",
    "------\n",
    "\n",
    "## Install Django\n",
    "\n",
    "OK, with all of that out of the way, weâ€™re ready to install Django. The simplest way to do this is using pip. You can test whether you have pip installed by doing the following, familiar-to-the-point-of-being-routine command:\n",
    "\n",
    "    pip --version\n",
    "\n",
    "If, for some reason, you donâ€™t have pip installed, you can follow these [installation instructions](http://softwaretester.info/install-and-upgrade-pip-on-mac-os-x/).\n",
    "\n",
    "Once you have pip installed and updated to the latest version, you can install Django using the following command:\n",
    "\n",
    "    pip install Django\n"
   ]
  },
  {
   "cell_type": "code",
   "execution_count": null,
   "metadata": {
    "collapsed": true
   },
   "outputs": [],
   "source": []
  }
 ],
 "metadata": {
  "anaconda-cloud": {},
  "kernelspec": {
   "display_name": "Python [conda root]",
   "language": "python",
   "name": "conda-root-py"
  },
  "language_info": {
   "codemirror_mode": {
    "name": "ipython",
    "version": 3
   },
   "file_extension": ".py",
   "mimetype": "text/x-python",
   "name": "python",
   "nbconvert_exporter": "python",
   "pygments_lexer": "ipython3",
   "version": "3.5.2"
  },
  "widgets": {
   "state": {},
   "version": "1.1.2"
  }
 },
 "nbformat": 4,
 "nbformat_minor": 0
}
