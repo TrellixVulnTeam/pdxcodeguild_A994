{
 "cells": [
  {
   "cell_type": "markdown",
   "metadata": {},
   "source": [
    "\n",
    "# Django\n",
    "\n",
    "Django is a popular [web application framework](https://www.fullstackpython.com/web-frameworks.html) built in Python. It was created in 2003 by [Simon Willison](https://en.wikipedia.org/wiki/Simon_Willison) and [Adrian Holovaty](https://en.wikipedia.org/wiki/Adrian_Holovaty), the latter of whom plays gypsy-jazz guitar and is a big fan of [Django Reinhardt](https://www.youtube.com/watch?v=PQhTpgicdx4) (video).\n",
    "\n",
    "------\n",
    "\n",
    "## What is a web application?\n",
    "\n",
    "A web application is a site hosted on the web that offers significant functionality beyond simple, static pages. They often allow users to log in and save their work and are usually connected to a database of some kind. [Amazon](http://amazon.com), [LinkedIn](http://linkedin.com), and [Trello](http://trello.com) are all examples of web applications.\n",
    "\n",
    "------\n",
    "\n",
    "## What is a web application framework?\n",
    "\n",
    "A Web application framework is a toolset making it easier to write web applications by providing simple ways to build common, repeatable functionality.  Django is sometimes referred to as \"batteries included\" because many moving parts are included with a default install.\n",
    "\n",
    "------\n",
    "\n",
    "## What does Django do for me?\n",
    "\n",
    "The Django framework follows a batteries included philosophy. What this means is that the functions common to web applications are built-in to the framework rather than requiring external code (usually called plugins).\n",
    "\n",
    "Some of the features of Django include the following:\n",
    "\n",
    "- a lightweight and standalone web server for development and testing\n",
    "- a form serialization and validation system that can translate between HTML forms and values suitable for storage in the database\n",
    "- a template system that utilizes the concept of inheritance borrowed from object-oriented programming\n",
    "- a caching framework that can use any of several cache methods\n",
    "support for middleware classes that can intervene at various stages of request processing and carry out custom functions\n",
    "- an internal dispatcher system that allows components of an application to communicate events to each other via pre-defined signals (often called hooks in other frameworks)\n",
    "- an internationalization system, including translations of Django's own components into a variety of languages\n",
    "- a serialization system that can produce and read XML and/or JSON representations of Django model instances\n",
    "- a system for extending the capabilities of the template engine\n",
    "an interface to Python's built in unit test framework\n",
    "- an extensible authentication system\n",
    "- the dynamic administrative interface\n",
    "- tools for generating RSS and Atom syndication feeds\n",
    "- a sites framework that allows one Django installation to run multiple websites, each with their own content and applications\n",
    "tools for generating Google Sitemaps\n",
    "- built-in mitigation for cross-site request forgery, cross-site scripting, SQL injection, password cracking and other typical web attacks, most of them turned on by default\n",
    "- a framework for creating GIS applications\n"
   ]
  }
 ],
 "metadata": {
  "anaconda-cloud": {},
  "kernelspec": {
   "display_name": "Python [conda root]",
   "language": "python",
   "name": "conda-root-py"
  },
  "language_info": {
   "codemirror_mode": {
    "name": "ipython",
    "version": 3
   },
   "file_extension": ".py",
   "mimetype": "text/x-python",
   "name": "python",
   "nbconvert_exporter": "python",
   "pygments_lexer": "ipython3",
   "version": "3.5.2"
  },
  "widgets": {
   "state": {},
   "version": "1.1.2"
  }
 },
 "nbformat": 4,
 "nbformat_minor": 0
}
